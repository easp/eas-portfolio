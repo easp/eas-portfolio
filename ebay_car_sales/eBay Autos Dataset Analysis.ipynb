{
 "cells": [
  {
   "cell_type": "markdown",
   "metadata": {
    "collapsed": true
   },
   "source": [
    "# eBay Auto Dataset Project\n",
    "\n",
    "In this project I will work with 50,000 row sample from a dataset of German eBay car sales. The base dataset had been cleaned for analysis. For the purposes of this exercise, this sample has been \"dirtied\" again so that it resembles what one might find in a scraped dataset.\n",
    "\n",
    "\n",
    "## Initial Data Dictionary\n",
    "\n",
    "- `dateCrawled` - When this ad was first crawled. All field-values are taken from this date.\n",
    "- `name` - Name of the car.\n",
    "- `seller` - Whether the seller is private or a dealer.\n",
    "- `offerType` - The type of listing\n",
    "- `price` - The price on the ad to sell the car.\n",
    "- `abtest` - Whether the listing is included in an A/B test.\n",
    "- `vehicleType` - The vehicle Type.\n",
    "- `yearOfRegistration` - The year in which the car was first registered.\n",
    "- `gearbox` - The transmission type.\n",
    "- `powerPS` - The power of the car in PS.\n",
    "- `model` - The car model name.\n",
    "- `odometer` - How many kilometers the car has driven.\n",
    "- `monthOfRegistration` - The month in which the car was first registered.\n",
    "- `fuelType` - What type of fuel the car uses.\n",
    "- `brand` - The brand of the car.\n",
    "- `notRepairedDamage` - If the car has a damage which is not yet repaired.\n",
    "- `dateCreated` - The date on which the eBay listing was created.\n",
    "- `nrOfPictures` - The number of pictures in the ad.\n",
    "- `postalCode` - The postal code for the location of the vehicle.\n",
    "- `lastSeenOnline` - When the crawler saw this ad last online."
   ]
  },
  {
   "cell_type": "markdown",
   "metadata": {
    "heading_collapsed": true
   },
   "source": [
    "## Import Libraries and Data"
   ]
  },
  {
   "cell_type": "code",
   "execution_count": 1,
   "metadata": {
    "hidden": true
   },
   "outputs": [],
   "source": [
    "import pandas as pd\n",
    "import numpy as np\n",
    "import pprint as pp"
   ]
  },
  {
   "cell_type": "code",
   "execution_count": 2,
   "metadata": {
    "hidden": true
   },
   "outputs": [],
   "source": [
    "autos = pd.read_csv(\"autos.csv\", encoding=\"Latin-1\" )"
   ]
  },
  {
   "cell_type": "code",
   "execution_count": 3,
   "metadata": {
    "hidden": true
   },
   "outputs": [
    {
     "data": {
      "text/html": [
       "<div>\n",
       "<style scoped>\n",
       "    .dataframe tbody tr th:only-of-type {\n",
       "        vertical-align: middle;\n",
       "    }\n",
       "\n",
       "    .dataframe tbody tr th {\n",
       "        vertical-align: top;\n",
       "    }\n",
       "\n",
       "    .dataframe thead th {\n",
       "        text-align: right;\n",
       "    }\n",
       "</style>\n",
       "<table border=\"1\" class=\"dataframe\">\n",
       "  <thead>\n",
       "    <tr style=\"text-align: right;\">\n",
       "      <th></th>\n",
       "      <th>dateCrawled</th>\n",
       "      <th>name</th>\n",
       "      <th>seller</th>\n",
       "      <th>offerType</th>\n",
       "      <th>price</th>\n",
       "      <th>abtest</th>\n",
       "      <th>vehicleType</th>\n",
       "      <th>yearOfRegistration</th>\n",
       "      <th>gearbox</th>\n",
       "      <th>powerPS</th>\n",
       "      <th>model</th>\n",
       "      <th>odometer</th>\n",
       "      <th>monthOfRegistration</th>\n",
       "      <th>fuelType</th>\n",
       "      <th>brand</th>\n",
       "      <th>notRepairedDamage</th>\n",
       "      <th>dateCreated</th>\n",
       "      <th>nrOfPictures</th>\n",
       "      <th>postalCode</th>\n",
       "      <th>lastSeen</th>\n",
       "    </tr>\n",
       "  </thead>\n",
       "  <tbody>\n",
       "    <tr>\n",
       "      <th>0</th>\n",
       "      <td>2016-03-26 17:47:46</td>\n",
       "      <td>Peugeot_807_160_NAVTECH_ON_BOARD</td>\n",
       "      <td>privat</td>\n",
       "      <td>Angebot</td>\n",
       "      <td>$5,000</td>\n",
       "      <td>control</td>\n",
       "      <td>bus</td>\n",
       "      <td>2004</td>\n",
       "      <td>manuell</td>\n",
       "      <td>158</td>\n",
       "      <td>andere</td>\n",
       "      <td>150,000km</td>\n",
       "      <td>3</td>\n",
       "      <td>lpg</td>\n",
       "      <td>peugeot</td>\n",
       "      <td>nein</td>\n",
       "      <td>2016-03-26 00:00:00</td>\n",
       "      <td>0</td>\n",
       "      <td>79588</td>\n",
       "      <td>2016-04-06 06:45:54</td>\n",
       "    </tr>\n",
       "    <tr>\n",
       "      <th>1</th>\n",
       "      <td>2016-04-04 13:38:56</td>\n",
       "      <td>BMW_740i_4_4_Liter_HAMANN_UMBAU_Mega_Optik</td>\n",
       "      <td>privat</td>\n",
       "      <td>Angebot</td>\n",
       "      <td>$8,500</td>\n",
       "      <td>control</td>\n",
       "      <td>limousine</td>\n",
       "      <td>1997</td>\n",
       "      <td>automatik</td>\n",
       "      <td>286</td>\n",
       "      <td>7er</td>\n",
       "      <td>150,000km</td>\n",
       "      <td>6</td>\n",
       "      <td>benzin</td>\n",
       "      <td>bmw</td>\n",
       "      <td>nein</td>\n",
       "      <td>2016-04-04 00:00:00</td>\n",
       "      <td>0</td>\n",
       "      <td>71034</td>\n",
       "      <td>2016-04-06 14:45:08</td>\n",
       "    </tr>\n",
       "    <tr>\n",
       "      <th>2</th>\n",
       "      <td>2016-03-26 18:57:24</td>\n",
       "      <td>Volkswagen_Golf_1.6_United</td>\n",
       "      <td>privat</td>\n",
       "      <td>Angebot</td>\n",
       "      <td>$8,990</td>\n",
       "      <td>test</td>\n",
       "      <td>limousine</td>\n",
       "      <td>2009</td>\n",
       "      <td>manuell</td>\n",
       "      <td>102</td>\n",
       "      <td>golf</td>\n",
       "      <td>70,000km</td>\n",
       "      <td>7</td>\n",
       "      <td>benzin</td>\n",
       "      <td>volkswagen</td>\n",
       "      <td>nein</td>\n",
       "      <td>2016-03-26 00:00:00</td>\n",
       "      <td>0</td>\n",
       "      <td>35394</td>\n",
       "      <td>2016-04-06 20:15:37</td>\n",
       "    </tr>\n",
       "    <tr>\n",
       "      <th>3</th>\n",
       "      <td>2016-03-12 16:58:10</td>\n",
       "      <td>Smart_smart_fortwo_coupe_softouch/F1/Klima/Pan...</td>\n",
       "      <td>privat</td>\n",
       "      <td>Angebot</td>\n",
       "      <td>$4,350</td>\n",
       "      <td>control</td>\n",
       "      <td>kleinwagen</td>\n",
       "      <td>2007</td>\n",
       "      <td>automatik</td>\n",
       "      <td>71</td>\n",
       "      <td>fortwo</td>\n",
       "      <td>70,000km</td>\n",
       "      <td>6</td>\n",
       "      <td>benzin</td>\n",
       "      <td>smart</td>\n",
       "      <td>nein</td>\n",
       "      <td>2016-03-12 00:00:00</td>\n",
       "      <td>0</td>\n",
       "      <td>33729</td>\n",
       "      <td>2016-03-15 03:16:28</td>\n",
       "    </tr>\n",
       "    <tr>\n",
       "      <th>4</th>\n",
       "      <td>2016-04-01 14:38:50</td>\n",
       "      <td>Ford_Focus_1_6_Benzin_TÜV_neu_ist_sehr_gepfleg...</td>\n",
       "      <td>privat</td>\n",
       "      <td>Angebot</td>\n",
       "      <td>$1,350</td>\n",
       "      <td>test</td>\n",
       "      <td>kombi</td>\n",
       "      <td>2003</td>\n",
       "      <td>manuell</td>\n",
       "      <td>0</td>\n",
       "      <td>focus</td>\n",
       "      <td>150,000km</td>\n",
       "      <td>7</td>\n",
       "      <td>benzin</td>\n",
       "      <td>ford</td>\n",
       "      <td>nein</td>\n",
       "      <td>2016-04-01 00:00:00</td>\n",
       "      <td>0</td>\n",
       "      <td>39218</td>\n",
       "      <td>2016-04-01 14:38:50</td>\n",
       "    </tr>\n",
       "  </tbody>\n",
       "</table>\n",
       "</div>"
      ],
      "text/plain": [
       "           dateCrawled                                               name  \\\n",
       "0  2016-03-26 17:47:46                   Peugeot_807_160_NAVTECH_ON_BOARD   \n",
       "1  2016-04-04 13:38:56         BMW_740i_4_4_Liter_HAMANN_UMBAU_Mega_Optik   \n",
       "2  2016-03-26 18:57:24                         Volkswagen_Golf_1.6_United   \n",
       "3  2016-03-12 16:58:10  Smart_smart_fortwo_coupe_softouch/F1/Klima/Pan...   \n",
       "4  2016-04-01 14:38:50  Ford_Focus_1_6_Benzin_TÜV_neu_ist_sehr_gepfleg...   \n",
       "\n",
       "   seller offerType   price   abtest vehicleType  yearOfRegistration  \\\n",
       "0  privat   Angebot  $5,000  control         bus                2004   \n",
       "1  privat   Angebot  $8,500  control   limousine                1997   \n",
       "2  privat   Angebot  $8,990     test   limousine                2009   \n",
       "3  privat   Angebot  $4,350  control  kleinwagen                2007   \n",
       "4  privat   Angebot  $1,350     test       kombi                2003   \n",
       "\n",
       "     gearbox  powerPS   model   odometer  monthOfRegistration fuelType  \\\n",
       "0    manuell      158  andere  150,000km                    3      lpg   \n",
       "1  automatik      286     7er  150,000km                    6   benzin   \n",
       "2    manuell      102    golf   70,000km                    7   benzin   \n",
       "3  automatik       71  fortwo   70,000km                    6   benzin   \n",
       "4    manuell        0   focus  150,000km                    7   benzin   \n",
       "\n",
       "        brand notRepairedDamage          dateCreated  nrOfPictures  \\\n",
       "0     peugeot              nein  2016-03-26 00:00:00             0   \n",
       "1         bmw              nein  2016-04-04 00:00:00             0   \n",
       "2  volkswagen              nein  2016-03-26 00:00:00             0   \n",
       "3       smart              nein  2016-03-12 00:00:00             0   \n",
       "4        ford              nein  2016-04-01 00:00:00             0   \n",
       "\n",
       "   postalCode             lastSeen  \n",
       "0       79588  2016-04-06 06:45:54  \n",
       "1       71034  2016-04-06 14:45:08  \n",
       "2       35394  2016-04-06 20:15:37  \n",
       "3       33729  2016-03-15 03:16:28  \n",
       "4       39218  2016-04-01 14:38:50  "
      ]
     },
     "execution_count": 3,
     "metadata": {},
     "output_type": "execute_result"
    }
   ],
   "source": [
    "autos.head()"
   ]
  },
  {
   "cell_type": "code",
   "execution_count": 4,
   "metadata": {
    "hidden": true,
    "scrolled": true
   },
   "outputs": [
    {
     "name": "stdout",
     "output_type": "stream",
     "text": [
      "<class 'pandas.core.frame.DataFrame'>\n",
      "RangeIndex: 50000 entries, 0 to 49999\n",
      "Data columns (total 20 columns):\n",
      " #   Column               Non-Null Count  Dtype \n",
      "---  ------               --------------  ----- \n",
      " 0   dateCrawled          50000 non-null  object\n",
      " 1   name                 50000 non-null  object\n",
      " 2   seller               50000 non-null  object\n",
      " 3   offerType            50000 non-null  object\n",
      " 4   price                50000 non-null  object\n",
      " 5   abtest               50000 non-null  object\n",
      " 6   vehicleType          44905 non-null  object\n",
      " 7   yearOfRegistration   50000 non-null  int64 \n",
      " 8   gearbox              47320 non-null  object\n",
      " 9   powerPS              50000 non-null  int64 \n",
      " 10  model                47242 non-null  object\n",
      " 11  odometer             50000 non-null  object\n",
      " 12  monthOfRegistration  50000 non-null  int64 \n",
      " 13  fuelType             45518 non-null  object\n",
      " 14  brand                50000 non-null  object\n",
      " 15  notRepairedDamage    40171 non-null  object\n",
      " 16  dateCreated          50000 non-null  object\n",
      " 17  nrOfPictures         50000 non-null  int64 \n",
      " 18  postalCode           50000 non-null  int64 \n",
      " 19  lastSeen             50000 non-null  object\n",
      "dtypes: int64(5), object(15)\n",
      "memory usage: 7.6+ MB\n"
     ]
    }
   ],
   "source": [
    "autos.info()"
   ]
  },
  {
   "cell_type": "markdown",
   "metadata": {
    "heading_collapsed": true
   },
   "source": [
    "## Initial Observations"
   ]
  },
  {
   "cell_type": "markdown",
   "metadata": {
    "hidden": true
   },
   "source": [
    "See above for details.\n",
    "\n",
    "- Column names are in English.\n",
    "- Data is in German\n",
    "- Number formats are US-style '.' for decimal, ',' for thousands.\n",
    "  - `price` format is $X,XXX (not Euros)\n",
    "  - `odometer` format is XXX,XXXXkm\n",
    "  - these were not recognized as numbers and columns have \"object type.\n",
    "- Timestamps in `dateCrawled` and `adCreated` and `lastSeen` weren't recognized as such.\n",
    "- Some columns contain null values\n",
    "  - `vehicleType`, `gearbox`, `model`, `fuelType`, `notRepairedDamage`\n",
    "- `notRepairedDamage` column has \"NaN\", \"nein\" & 'ja'"
   ]
  },
  {
   "cell_type": "markdown",
   "metadata": {
    "heading_collapsed": true
   },
   "source": [
    "## Cleaning Column Names"
   ]
  },
  {
   "cell_type": "code",
   "execution_count": 5,
   "metadata": {
    "hidden": true
   },
   "outputs": [
    {
     "data": {
      "text/plain": [
       "['dateCrawled',\n",
       " 'name',\n",
       " 'seller',\n",
       " 'offerType',\n",
       " 'price',\n",
       " 'abtest',\n",
       " 'vehicleType',\n",
       " 'yearOfRegistration',\n",
       " 'gearbox',\n",
       " 'powerPS',\n",
       " 'model',\n",
       " 'odometer',\n",
       " 'monthOfRegistration',\n",
       " 'fuelType',\n",
       " 'brand',\n",
       " 'notRepairedDamage',\n",
       " 'dateCreated',\n",
       " 'nrOfPictures',\n",
       " 'postalCode',\n",
       " 'lastSeen']"
      ]
     },
     "execution_count": 5,
     "metadata": {},
     "output_type": "execute_result"
    }
   ],
   "source": [
    "autos.columns.tolist()"
   ]
  },
  {
   "cell_type": "markdown",
   "metadata": {
    "hidden": true
   },
   "source": [
    "Updating coulumn names from CamelCase to snakecase, and to be more descriptive"
   ]
  },
  {
   "cell_type": "code",
   "execution_count": 6,
   "metadata": {
    "hidden": true
   },
   "outputs": [],
   "source": [
    "new_column_names = ['date_crawled',\n",
    "                     'name',\n",
    "                     'seller',\n",
    "                     'offer_type',\n",
    "                     'price',\n",
    "                     'abtest',\n",
    "                     'vehicle_type',\n",
    "                     'registration_year',\n",
    "                     'gearbox',\n",
    "                     'power_ps',\n",
    "                     'model',\n",
    "                     'odometer',\n",
    "                     'registration_month',\n",
    "                     'fuel_type',\n",
    "                     'brand',\n",
    "                     'unrepaired_damage',\n",
    "                     'ad_created',\n",
    "                     'number_of_pictures',\n",
    "                     'postal_code',\n",
    "                     'last_seen']\n",
    "autos.columns = new_column_names"
   ]
  },
  {
   "cell_type": "code",
   "execution_count": 7,
   "metadata": {
    "hidden": true,
    "scrolled": true
   },
   "outputs": [
    {
     "data": {
      "text/html": [
       "<div>\n",
       "<style scoped>\n",
       "    .dataframe tbody tr th:only-of-type {\n",
       "        vertical-align: middle;\n",
       "    }\n",
       "\n",
       "    .dataframe tbody tr th {\n",
       "        vertical-align: top;\n",
       "    }\n",
       "\n",
       "    .dataframe thead th {\n",
       "        text-align: right;\n",
       "    }\n",
       "</style>\n",
       "<table border=\"1\" class=\"dataframe\">\n",
       "  <thead>\n",
       "    <tr style=\"text-align: right;\">\n",
       "      <th></th>\n",
       "      <th>date_crawled</th>\n",
       "      <th>name</th>\n",
       "      <th>seller</th>\n",
       "      <th>offer_type</th>\n",
       "      <th>price</th>\n",
       "      <th>abtest</th>\n",
       "      <th>vehicle_type</th>\n",
       "      <th>registration_year</th>\n",
       "      <th>gearbox</th>\n",
       "      <th>power_ps</th>\n",
       "      <th>model</th>\n",
       "      <th>odometer</th>\n",
       "      <th>registration_month</th>\n",
       "      <th>fuel_type</th>\n",
       "      <th>brand</th>\n",
       "      <th>unrepaired_damage</th>\n",
       "      <th>ad_created</th>\n",
       "      <th>number_of_pictures</th>\n",
       "      <th>postal_code</th>\n",
       "      <th>last_seen</th>\n",
       "    </tr>\n",
       "  </thead>\n",
       "  <tbody>\n",
       "    <tr>\n",
       "      <th>0</th>\n",
       "      <td>2016-03-26 17:47:46</td>\n",
       "      <td>Peugeot_807_160_NAVTECH_ON_BOARD</td>\n",
       "      <td>privat</td>\n",
       "      <td>Angebot</td>\n",
       "      <td>$5,000</td>\n",
       "      <td>control</td>\n",
       "      <td>bus</td>\n",
       "      <td>2004</td>\n",
       "      <td>manuell</td>\n",
       "      <td>158</td>\n",
       "      <td>andere</td>\n",
       "      <td>150,000km</td>\n",
       "      <td>3</td>\n",
       "      <td>lpg</td>\n",
       "      <td>peugeot</td>\n",
       "      <td>nein</td>\n",
       "      <td>2016-03-26 00:00:00</td>\n",
       "      <td>0</td>\n",
       "      <td>79588</td>\n",
       "      <td>2016-04-06 06:45:54</td>\n",
       "    </tr>\n",
       "    <tr>\n",
       "      <th>1</th>\n",
       "      <td>2016-04-04 13:38:56</td>\n",
       "      <td>BMW_740i_4_4_Liter_HAMANN_UMBAU_Mega_Optik</td>\n",
       "      <td>privat</td>\n",
       "      <td>Angebot</td>\n",
       "      <td>$8,500</td>\n",
       "      <td>control</td>\n",
       "      <td>limousine</td>\n",
       "      <td>1997</td>\n",
       "      <td>automatik</td>\n",
       "      <td>286</td>\n",
       "      <td>7er</td>\n",
       "      <td>150,000km</td>\n",
       "      <td>6</td>\n",
       "      <td>benzin</td>\n",
       "      <td>bmw</td>\n",
       "      <td>nein</td>\n",
       "      <td>2016-04-04 00:00:00</td>\n",
       "      <td>0</td>\n",
       "      <td>71034</td>\n",
       "      <td>2016-04-06 14:45:08</td>\n",
       "    </tr>\n",
       "    <tr>\n",
       "      <th>2</th>\n",
       "      <td>2016-03-26 18:57:24</td>\n",
       "      <td>Volkswagen_Golf_1.6_United</td>\n",
       "      <td>privat</td>\n",
       "      <td>Angebot</td>\n",
       "      <td>$8,990</td>\n",
       "      <td>test</td>\n",
       "      <td>limousine</td>\n",
       "      <td>2009</td>\n",
       "      <td>manuell</td>\n",
       "      <td>102</td>\n",
       "      <td>golf</td>\n",
       "      <td>70,000km</td>\n",
       "      <td>7</td>\n",
       "      <td>benzin</td>\n",
       "      <td>volkswagen</td>\n",
       "      <td>nein</td>\n",
       "      <td>2016-03-26 00:00:00</td>\n",
       "      <td>0</td>\n",
       "      <td>35394</td>\n",
       "      <td>2016-04-06 20:15:37</td>\n",
       "    </tr>\n",
       "    <tr>\n",
       "      <th>3</th>\n",
       "      <td>2016-03-12 16:58:10</td>\n",
       "      <td>Smart_smart_fortwo_coupe_softouch/F1/Klima/Pan...</td>\n",
       "      <td>privat</td>\n",
       "      <td>Angebot</td>\n",
       "      <td>$4,350</td>\n",
       "      <td>control</td>\n",
       "      <td>kleinwagen</td>\n",
       "      <td>2007</td>\n",
       "      <td>automatik</td>\n",
       "      <td>71</td>\n",
       "      <td>fortwo</td>\n",
       "      <td>70,000km</td>\n",
       "      <td>6</td>\n",
       "      <td>benzin</td>\n",
       "      <td>smart</td>\n",
       "      <td>nein</td>\n",
       "      <td>2016-03-12 00:00:00</td>\n",
       "      <td>0</td>\n",
       "      <td>33729</td>\n",
       "      <td>2016-03-15 03:16:28</td>\n",
       "    </tr>\n",
       "    <tr>\n",
       "      <th>4</th>\n",
       "      <td>2016-04-01 14:38:50</td>\n",
       "      <td>Ford_Focus_1_6_Benzin_TÜV_neu_ist_sehr_gepfleg...</td>\n",
       "      <td>privat</td>\n",
       "      <td>Angebot</td>\n",
       "      <td>$1,350</td>\n",
       "      <td>test</td>\n",
       "      <td>kombi</td>\n",
       "      <td>2003</td>\n",
       "      <td>manuell</td>\n",
       "      <td>0</td>\n",
       "      <td>focus</td>\n",
       "      <td>150,000km</td>\n",
       "      <td>7</td>\n",
       "      <td>benzin</td>\n",
       "      <td>ford</td>\n",
       "      <td>nein</td>\n",
       "      <td>2016-04-01 00:00:00</td>\n",
       "      <td>0</td>\n",
       "      <td>39218</td>\n",
       "      <td>2016-04-01 14:38:50</td>\n",
       "    </tr>\n",
       "  </tbody>\n",
       "</table>\n",
       "</div>"
      ],
      "text/plain": [
       "          date_crawled                                               name  \\\n",
       "0  2016-03-26 17:47:46                   Peugeot_807_160_NAVTECH_ON_BOARD   \n",
       "1  2016-04-04 13:38:56         BMW_740i_4_4_Liter_HAMANN_UMBAU_Mega_Optik   \n",
       "2  2016-03-26 18:57:24                         Volkswagen_Golf_1.6_United   \n",
       "3  2016-03-12 16:58:10  Smart_smart_fortwo_coupe_softouch/F1/Klima/Pan...   \n",
       "4  2016-04-01 14:38:50  Ford_Focus_1_6_Benzin_TÜV_neu_ist_sehr_gepfleg...   \n",
       "\n",
       "   seller offer_type   price   abtest vehicle_type  registration_year  \\\n",
       "0  privat    Angebot  $5,000  control          bus               2004   \n",
       "1  privat    Angebot  $8,500  control    limousine               1997   \n",
       "2  privat    Angebot  $8,990     test    limousine               2009   \n",
       "3  privat    Angebot  $4,350  control   kleinwagen               2007   \n",
       "4  privat    Angebot  $1,350     test        kombi               2003   \n",
       "\n",
       "     gearbox  power_ps   model   odometer  registration_month fuel_type  \\\n",
       "0    manuell       158  andere  150,000km                   3       lpg   \n",
       "1  automatik       286     7er  150,000km                   6    benzin   \n",
       "2    manuell       102    golf   70,000km                   7    benzin   \n",
       "3  automatik        71  fortwo   70,000km                   6    benzin   \n",
       "4    manuell         0   focus  150,000km                   7    benzin   \n",
       "\n",
       "        brand unrepaired_damage           ad_created  number_of_pictures  \\\n",
       "0     peugeot              nein  2016-03-26 00:00:00                   0   \n",
       "1         bmw              nein  2016-04-04 00:00:00                   0   \n",
       "2  volkswagen              nein  2016-03-26 00:00:00                   0   \n",
       "3       smart              nein  2016-03-12 00:00:00                   0   \n",
       "4        ford              nein  2016-04-01 00:00:00                   0   \n",
       "\n",
       "   postal_code            last_seen  \n",
       "0        79588  2016-04-06 06:45:54  \n",
       "1        71034  2016-04-06 14:45:08  \n",
       "2        35394  2016-04-06 20:15:37  \n",
       "3        33729  2016-03-15 03:16:28  \n",
       "4        39218  2016-04-01 14:38:50  "
      ]
     },
     "execution_count": 7,
     "metadata": {},
     "output_type": "execute_result"
    }
   ],
   "source": [
    "autos.head()"
   ]
  },
  {
   "cell_type": "markdown",
   "metadata": {
    "heading_collapsed": true
   },
   "source": [
    "## Initial Exploration and Cleaning."
   ]
  },
  {
   "cell_type": "code",
   "execution_count": 8,
   "metadata": {
    "hidden": true
   },
   "outputs": [
    {
     "data": {
      "text/html": [
       "<div>\n",
       "<style scoped>\n",
       "    .dataframe tbody tr th:only-of-type {\n",
       "        vertical-align: middle;\n",
       "    }\n",
       "\n",
       "    .dataframe tbody tr th {\n",
       "        vertical-align: top;\n",
       "    }\n",
       "\n",
       "    .dataframe thead th {\n",
       "        text-align: right;\n",
       "    }\n",
       "</style>\n",
       "<table border=\"1\" class=\"dataframe\">\n",
       "  <thead>\n",
       "    <tr style=\"text-align: right;\">\n",
       "      <th></th>\n",
       "      <th>registration_year</th>\n",
       "      <th>power_ps</th>\n",
       "      <th>registration_month</th>\n",
       "      <th>number_of_pictures</th>\n",
       "      <th>postal_code</th>\n",
       "    </tr>\n",
       "  </thead>\n",
       "  <tbody>\n",
       "    <tr>\n",
       "      <th>count</th>\n",
       "      <td>50000.000000</td>\n",
       "      <td>50000.000000</td>\n",
       "      <td>50000.000000</td>\n",
       "      <td>50000.0</td>\n",
       "      <td>50000.000000</td>\n",
       "    </tr>\n",
       "    <tr>\n",
       "      <th>mean</th>\n",
       "      <td>2005.073280</td>\n",
       "      <td>116.355920</td>\n",
       "      <td>5.723360</td>\n",
       "      <td>0.0</td>\n",
       "      <td>50813.627300</td>\n",
       "    </tr>\n",
       "    <tr>\n",
       "      <th>std</th>\n",
       "      <td>105.712813</td>\n",
       "      <td>209.216627</td>\n",
       "      <td>3.711984</td>\n",
       "      <td>0.0</td>\n",
       "      <td>25779.747957</td>\n",
       "    </tr>\n",
       "    <tr>\n",
       "      <th>min</th>\n",
       "      <td>1000.000000</td>\n",
       "      <td>0.000000</td>\n",
       "      <td>0.000000</td>\n",
       "      <td>0.0</td>\n",
       "      <td>1067.000000</td>\n",
       "    </tr>\n",
       "    <tr>\n",
       "      <th>25%</th>\n",
       "      <td>1999.000000</td>\n",
       "      <td>70.000000</td>\n",
       "      <td>3.000000</td>\n",
       "      <td>0.0</td>\n",
       "      <td>30451.000000</td>\n",
       "    </tr>\n",
       "    <tr>\n",
       "      <th>50%</th>\n",
       "      <td>2003.000000</td>\n",
       "      <td>105.000000</td>\n",
       "      <td>6.000000</td>\n",
       "      <td>0.0</td>\n",
       "      <td>49577.000000</td>\n",
       "    </tr>\n",
       "    <tr>\n",
       "      <th>75%</th>\n",
       "      <td>2008.000000</td>\n",
       "      <td>150.000000</td>\n",
       "      <td>9.000000</td>\n",
       "      <td>0.0</td>\n",
       "      <td>71540.000000</td>\n",
       "    </tr>\n",
       "    <tr>\n",
       "      <th>max</th>\n",
       "      <td>9999.000000</td>\n",
       "      <td>17700.000000</td>\n",
       "      <td>12.000000</td>\n",
       "      <td>0.0</td>\n",
       "      <td>99998.000000</td>\n",
       "    </tr>\n",
       "  </tbody>\n",
       "</table>\n",
       "</div>"
      ],
      "text/plain": [
       "       registration_year      power_ps  registration_month  \\\n",
       "count       50000.000000  50000.000000        50000.000000   \n",
       "mean         2005.073280    116.355920            5.723360   \n",
       "std           105.712813    209.216627            3.711984   \n",
       "min          1000.000000      0.000000            0.000000   \n",
       "25%          1999.000000     70.000000            3.000000   \n",
       "50%          2003.000000    105.000000            6.000000   \n",
       "75%          2008.000000    150.000000            9.000000   \n",
       "max          9999.000000  17700.000000           12.000000   \n",
       "\n",
       "       number_of_pictures   postal_code  \n",
       "count             50000.0  50000.000000  \n",
       "mean                  0.0  50813.627300  \n",
       "std                   0.0  25779.747957  \n",
       "min                   0.0   1067.000000  \n",
       "25%                   0.0  30451.000000  \n",
       "50%                   0.0  49577.000000  \n",
       "75%                   0.0  71540.000000  \n",
       "max                   0.0  99998.000000  "
      ]
     },
     "execution_count": 8,
     "metadata": {},
     "output_type": "execute_result"
    }
   ],
   "source": [
    "autos.describe()"
   ]
  },
  {
   "cell_type": "code",
   "execution_count": 9,
   "metadata": {
    "hidden": true
   },
   "outputs": [
    {
     "data": {
      "text/html": [
       "<div>\n",
       "<style scoped>\n",
       "    .dataframe tbody tr th:only-of-type {\n",
       "        vertical-align: middle;\n",
       "    }\n",
       "\n",
       "    .dataframe tbody tr th {\n",
       "        vertical-align: top;\n",
       "    }\n",
       "\n",
       "    .dataframe thead th {\n",
       "        text-align: right;\n",
       "    }\n",
       "</style>\n",
       "<table border=\"1\" class=\"dataframe\">\n",
       "  <thead>\n",
       "    <tr style=\"text-align: right;\">\n",
       "      <th></th>\n",
       "      <th>date_crawled</th>\n",
       "      <th>name</th>\n",
       "      <th>seller</th>\n",
       "      <th>offer_type</th>\n",
       "      <th>price</th>\n",
       "      <th>abtest</th>\n",
       "      <th>vehicle_type</th>\n",
       "      <th>gearbox</th>\n",
       "      <th>model</th>\n",
       "      <th>odometer</th>\n",
       "      <th>fuel_type</th>\n",
       "      <th>brand</th>\n",
       "      <th>unrepaired_damage</th>\n",
       "      <th>ad_created</th>\n",
       "      <th>last_seen</th>\n",
       "    </tr>\n",
       "  </thead>\n",
       "  <tbody>\n",
       "    <tr>\n",
       "      <th>count</th>\n",
       "      <td>50000</td>\n",
       "      <td>50000</td>\n",
       "      <td>50000</td>\n",
       "      <td>50000</td>\n",
       "      <td>50000</td>\n",
       "      <td>50000</td>\n",
       "      <td>44905</td>\n",
       "      <td>47320</td>\n",
       "      <td>47242</td>\n",
       "      <td>50000</td>\n",
       "      <td>45518</td>\n",
       "      <td>50000</td>\n",
       "      <td>40171</td>\n",
       "      <td>50000</td>\n",
       "      <td>50000</td>\n",
       "    </tr>\n",
       "    <tr>\n",
       "      <th>unique</th>\n",
       "      <td>48213</td>\n",
       "      <td>38754</td>\n",
       "      <td>2</td>\n",
       "      <td>2</td>\n",
       "      <td>2357</td>\n",
       "      <td>2</td>\n",
       "      <td>8</td>\n",
       "      <td>2</td>\n",
       "      <td>245</td>\n",
       "      <td>13</td>\n",
       "      <td>7</td>\n",
       "      <td>40</td>\n",
       "      <td>2</td>\n",
       "      <td>76</td>\n",
       "      <td>39481</td>\n",
       "    </tr>\n",
       "    <tr>\n",
       "      <th>top</th>\n",
       "      <td>2016-03-05 16:57:05</td>\n",
       "      <td>Ford_Fiesta</td>\n",
       "      <td>privat</td>\n",
       "      <td>Angebot</td>\n",
       "      <td>$0</td>\n",
       "      <td>test</td>\n",
       "      <td>limousine</td>\n",
       "      <td>manuell</td>\n",
       "      <td>golf</td>\n",
       "      <td>150,000km</td>\n",
       "      <td>benzin</td>\n",
       "      <td>volkswagen</td>\n",
       "      <td>nein</td>\n",
       "      <td>2016-04-03 00:00:00</td>\n",
       "      <td>2016-04-07 06:17:27</td>\n",
       "    </tr>\n",
       "    <tr>\n",
       "      <th>freq</th>\n",
       "      <td>3</td>\n",
       "      <td>78</td>\n",
       "      <td>49999</td>\n",
       "      <td>49999</td>\n",
       "      <td>1421</td>\n",
       "      <td>25756</td>\n",
       "      <td>12859</td>\n",
       "      <td>36993</td>\n",
       "      <td>4024</td>\n",
       "      <td>32424</td>\n",
       "      <td>30107</td>\n",
       "      <td>10687</td>\n",
       "      <td>35232</td>\n",
       "      <td>1946</td>\n",
       "      <td>8</td>\n",
       "    </tr>\n",
       "  </tbody>\n",
       "</table>\n",
       "</div>"
      ],
      "text/plain": [
       "               date_crawled         name  seller offer_type  price abtest  \\\n",
       "count                 50000        50000   50000      50000  50000  50000   \n",
       "unique                48213        38754       2          2   2357      2   \n",
       "top     2016-03-05 16:57:05  Ford_Fiesta  privat    Angebot     $0   test   \n",
       "freq                      3           78   49999      49999   1421  25756   \n",
       "\n",
       "       vehicle_type  gearbox  model   odometer fuel_type       brand  \\\n",
       "count         44905    47320  47242      50000     45518       50000   \n",
       "unique            8        2    245         13         7          40   \n",
       "top       limousine  manuell   golf  150,000km    benzin  volkswagen   \n",
       "freq          12859    36993   4024      32424     30107       10687   \n",
       "\n",
       "       unrepaired_damage           ad_created            last_seen  \n",
       "count              40171                50000                50000  \n",
       "unique                 2                   76                39481  \n",
       "top                 nein  2016-04-03 00:00:00  2016-04-07 06:17:27  \n",
       "freq               35232                 1946                    8  "
      ]
     },
     "execution_count": 9,
     "metadata": {},
     "output_type": "execute_result"
    }
   ],
   "source": [
    "autos.describe(include=np.object)"
   ]
  },
  {
   "cell_type": "code",
   "execution_count": 10,
   "metadata": {
    "hidden": true,
    "scrolled": true
   },
   "outputs": [
    {
     "name": "stdout",
     "output_type": "stream",
     "text": [
      "seller :\n",
      "privat        49999\n",
      "gewerblich        1\n",
      "Name: seller, dtype: int64\n",
      "\n",
      "offer_type :\n",
      "Angebot    49999\n",
      "Gesuch         1\n",
      "Name: offer_type, dtype: int64\n",
      "\n",
      "abtest :\n",
      "test       25756\n",
      "control    24244\n",
      "Name: abtest, dtype: int64\n",
      "\n",
      "vehicle_type :\n",
      "limousine     12859\n",
      "kleinwagen    10822\n",
      "kombi          9127\n",
      "bus            4093\n",
      "cabrio         3061\n",
      "coupe          2537\n",
      "suv            1986\n",
      "andere          420\n",
      "Name: vehicle_type, dtype: int64\n",
      "\n",
      "gearbox :\n",
      "manuell      36993\n",
      "automatik    10327\n",
      "Name: gearbox, dtype: int64\n",
      "\n",
      "fuel_type :\n",
      "benzin     30107\n",
      "diesel     14567\n",
      "lpg          691\n",
      "cng           75\n",
      "hybrid        37\n",
      "andere        22\n",
      "elektro       19\n",
      "Name: fuel_type, dtype: int64\n",
      "\n",
      "odometer :\n",
      "150,000km    32424\n",
      "125,000km     5170\n",
      "100,000km     2169\n",
      "90,000km      1757\n",
      "80,000km      1436\n",
      "70,000km      1230\n",
      "60,000km      1164\n",
      "50,000km      1027\n",
      "5,000km        967\n",
      "40,000km       819\n",
      "30,000km       789\n",
      "20,000km       784\n",
      "10,000km       264\n",
      "Name: odometer, dtype: int64\n",
      "\n",
      "brand :\n",
      "volkswagen        10687\n",
      "opel               5461\n",
      "bmw                5429\n",
      "mercedes_benz      4734\n",
      "audi               4283\n",
      "ford               3479\n",
      "renault            2404\n",
      "peugeot            1456\n",
      "fiat               1308\n",
      "seat                941\n",
      "skoda               786\n",
      "mazda               757\n",
      "nissan              754\n",
      "citroen             701\n",
      "smart               701\n",
      "toyota              617\n",
      "sonstige_autos      546\n",
      "hyundai             488\n",
      "volvo               457\n",
      "mini                424\n",
      "mitsubishi          406\n",
      "honda               399\n",
      "kia                 356\n",
      "alfa_romeo          329\n",
      "porsche             294\n",
      "suzuki              293\n",
      "chevrolet           283\n",
      "chrysler            181\n",
      "dacia               129\n",
      "daihatsu            128\n",
      "jeep                110\n",
      "subaru              109\n",
      "land_rover           99\n",
      "saab                 80\n",
      "daewoo               79\n",
      "trabant              78\n",
      "jaguar               77\n",
      "rover                69\n",
      "lancia               57\n",
      "lada                 31\n",
      "Name: brand, dtype: int64\n",
      "\n"
     ]
    }
   ],
   "source": [
    "columns_of_interest = [\n",
    "    \"seller\", \n",
    "    \"offer_type\", \n",
    "    \"abtest\", \n",
    "    \"vehicle_type\", \n",
    "    \"gearbox\", \n",
    "    \"fuel_type\", \n",
    "    \"odometer\", \n",
    "    \"brand\"\n",
    "]\n",
    "\n",
    "for c in columns_of_interest:\n",
    "    print(c, \":\\n{}\\n\".format(autos[c].value_counts()))"
   ]
  },
  {
   "cell_type": "markdown",
   "metadata": {
    "hidden": true
   },
   "source": [
    "### ToDo\n",
    "\n",
    "Drop: \n",
    "\n",
    "* `seller` and `offer_type`, because all but one row have same value.  \n",
    "* `number_of_photos`, because the value is 0 for all rows.\n",
    "* `abtest` because we don't have enough information for it to be useful.\n",
    "\n",
    "Fix: \n",
    "\n",
    "- Convert `price` and `odometer` to numeric values\n",
    "- Rename `odometer` to `odometer_km`\n",
    "- Maybe convert: `date_crawled` and `last_seen` to datetime"
   ]
  },
  {
   "cell_type": "code",
   "execution_count": 11,
   "metadata": {
    "hidden": true
   },
   "outputs": [],
   "source": [
    "autos[\"price\"] = autos[\"price\"].str.replace(\"$\",\"\").str.replace(\",\",\"\").astype(int)"
   ]
  },
  {
   "cell_type": "code",
   "execution_count": 12,
   "metadata": {
    "hidden": true
   },
   "outputs": [],
   "source": [
    "autos[\"odometer\"] = autos[\"odometer\"].str.replace(\",\",\"\").str.replace(\"km\",\"\").astype(int)"
   ]
  },
  {
   "cell_type": "code",
   "execution_count": 13,
   "metadata": {
    "hidden": true
   },
   "outputs": [],
   "source": [
    "autos.rename({\"odometer\": \"odometer_km\"}, axis=1, inplace=True)"
   ]
  },
  {
   "cell_type": "code",
   "execution_count": 14,
   "metadata": {
    "hidden": true
   },
   "outputs": [
    {
     "data": {
      "text/plain": [
       "Index(['date_crawled', 'name', 'seller', 'offer_type', 'price', 'abtest',\n",
       "       'vehicle_type', 'registration_year', 'gearbox', 'power_ps', 'model',\n",
       "       'odometer_km', 'registration_month', 'fuel_type', 'brand',\n",
       "       'unrepaired_damage', 'ad_created', 'number_of_pictures', 'postal_code',\n",
       "       'last_seen'],\n",
       "      dtype='object')"
      ]
     },
     "execution_count": 14,
     "metadata": {},
     "output_type": "execute_result"
    }
   ],
   "source": [
    "autos.columns"
   ]
  },
  {
   "cell_type": "code",
   "execution_count": 15,
   "metadata": {
    "hidden": true
   },
   "outputs": [],
   "source": [
    "autos.drop(columns=[\"seller\", \"offer_type\", \"number_of_pictures\"], inplace=True)"
   ]
  },
  {
   "cell_type": "code",
   "execution_count": 16,
   "metadata": {
    "hidden": true
   },
   "outputs": [
    {
     "data": {
      "text/plain": [
       "Index(['date_crawled', 'name', 'price', 'abtest', 'vehicle_type',\n",
       "       'registration_year', 'gearbox', 'power_ps', 'model', 'odometer_km',\n",
       "       'registration_month', 'fuel_type', 'brand', 'unrepaired_damage',\n",
       "       'ad_created', 'postal_code', 'last_seen'],\n",
       "      dtype='object')"
      ]
     },
     "execution_count": 16,
     "metadata": {},
     "output_type": "execute_result"
    }
   ],
   "source": [
    "autos.columns"
   ]
  },
  {
   "cell_type": "markdown",
   "metadata": {
    "heading_collapsed": true
   },
   "source": [
    "## Exploring the Odometer and Price Columns"
   ]
  },
  {
   "cell_type": "code",
   "execution_count": 17,
   "metadata": {
    "hidden": true
   },
   "outputs": [
    {
     "data": {
      "text/plain": [
       "150000    32424\n",
       "125000     5170\n",
       "100000     2169\n",
       "90000      1757\n",
       "80000      1436\n",
       "70000      1230\n",
       "60000      1164\n",
       "50000      1027\n",
       "5000        967\n",
       "40000       819\n",
       "30000       789\n",
       "20000       784\n",
       "10000       264\n",
       "Name: odometer_km, dtype: int64"
      ]
     },
     "execution_count": 17,
     "metadata": {},
     "output_type": "execute_result"
    }
   ],
   "source": [
    "autos[\"odometer_km\"].value_counts(dropna=False)"
   ]
  },
  {
   "cell_type": "markdown",
   "metadata": {
    "hidden": true
   },
   "source": [
    "The above values seem reasonable. Nothing seems out of place"
   ]
  },
  {
   "cell_type": "code",
   "execution_count": 18,
   "metadata": {
    "hidden": true
   },
   "outputs": [
    {
     "data": {
      "text/plain": [
       "count    5.000000e+04\n",
       "mean     9.840044e+03\n",
       "std      4.811044e+05\n",
       "min      0.000000e+00\n",
       "25%      1.100000e+03\n",
       "50%      2.950000e+03\n",
       "75%      7.200000e+03\n",
       "max      1.000000e+08\n",
       "Name: price, dtype: float64"
      ]
     },
     "execution_count": 18,
     "metadata": {},
     "output_type": "execute_result"
    }
   ],
   "source": [
    "autos[\"price\"].describe()"
   ]
  },
  {
   "cell_type": "code",
   "execution_count": 19,
   "metadata": {
    "hidden": true
   },
   "outputs": [
    {
     "data": {
      "text/plain": [
       "dtype('int64')"
      ]
     },
     "execution_count": 19,
     "metadata": {},
     "output_type": "execute_result"
    }
   ],
   "source": [
    "autos[\"price\"].dtype\n",
    "#Weird, considering what's reported by describe."
   ]
  },
  {
   "cell_type": "code",
   "execution_count": 20,
   "metadata": {
    "hidden": true
   },
   "outputs": [
    {
     "data": {
      "text/plain": [
       "0"
      ]
     },
     "execution_count": 20,
     "metadata": {},
     "output_type": "execute_result"
    }
   ],
   "source": [
    "autos[\"price\"].isnull().sum()"
   ]
  },
  {
   "cell_type": "code",
   "execution_count": 21,
   "metadata": {
    "hidden": true,
    "scrolled": true
   },
   "outputs": [
    {
     "data": {
      "text/plain": [
       "0           1421\n",
       "1            156\n",
       "2              3\n",
       "3              1\n",
       "5              2\n",
       "            ... \n",
       "10000000       1\n",
       "11111111       2\n",
       "12345678       3\n",
       "27322222       1\n",
       "99999999       1\n",
       "Name: price, Length: 2357, dtype: int64"
      ]
     },
     "execution_count": 21,
     "metadata": {},
     "output_type": "execute_result"
    }
   ],
   "source": [
    "autos[\"price\"].value_counts(dropna=False).sort_index()"
   ]
  },
  {
   "cell_type": "markdown",
   "metadata": {
    "hidden": true
   },
   "source": [
    "Some of these seem a little sketchy. \n",
    "\n",
    "How likely is it that a car sold for \\\\$99.9M? \\\\$27M seems like a stretch, but its possible.\n",
    "\n",
    "Similarly, how likely is it that 1421 sold for \\\\$0, or 156 for \\\\$1? Does eBay even accept \\\\$0?\n",
    "\n",
    "I am going to discard the 1421 rows with a price of $0."
   ]
  },
  {
   "cell_type": "code",
   "execution_count": 22,
   "metadata": {
    "hidden": true
   },
   "outputs": [
    {
     "data": {
      "text/plain": [
       "48579"
      ]
     },
     "execution_count": 22,
     "metadata": {},
     "output_type": "execute_result"
    }
   ],
   "source": [
    "autos = autos[autos[\"price\"] > 0 ]\n",
    "len(autos)"
   ]
  },
  {
   "cell_type": "markdown",
   "metadata": {
    "hidden": true
   },
   "source": [
    "Now lets look at the details of rows with a price >= \\\\$900K since there are only ~10."
   ]
  },
  {
   "cell_type": "code",
   "execution_count": 23,
   "metadata": {
    "hidden": true,
    "scrolled": true
   },
   "outputs": [
    {
     "data": {
      "text/html": [
       "<div>\n",
       "<style scoped>\n",
       "    .dataframe tbody tr th:only-of-type {\n",
       "        vertical-align: middle;\n",
       "    }\n",
       "\n",
       "    .dataframe tbody tr th {\n",
       "        vertical-align: top;\n",
       "    }\n",
       "\n",
       "    .dataframe thead th {\n",
       "        text-align: right;\n",
       "    }\n",
       "</style>\n",
       "<table border=\"1\" class=\"dataframe\">\n",
       "  <thead>\n",
       "    <tr style=\"text-align: right;\">\n",
       "      <th></th>\n",
       "      <th>date_crawled</th>\n",
       "      <th>name</th>\n",
       "      <th>price</th>\n",
       "      <th>abtest</th>\n",
       "      <th>vehicle_type</th>\n",
       "      <th>registration_year</th>\n",
       "      <th>gearbox</th>\n",
       "      <th>power_ps</th>\n",
       "      <th>model</th>\n",
       "      <th>odometer_km</th>\n",
       "      <th>registration_month</th>\n",
       "      <th>fuel_type</th>\n",
       "      <th>brand</th>\n",
       "      <th>unrepaired_damage</th>\n",
       "      <th>ad_created</th>\n",
       "      <th>postal_code</th>\n",
       "      <th>last_seen</th>\n",
       "    </tr>\n",
       "  </thead>\n",
       "  <tbody>\n",
       "    <tr>\n",
       "      <th>514</th>\n",
       "      <td>2016-03-17 09:53:08</td>\n",
       "      <td>Ford_Focus_Turnier_1.6_16V_Style</td>\n",
       "      <td>999999</td>\n",
       "      <td>test</td>\n",
       "      <td>kombi</td>\n",
       "      <td>2009</td>\n",
       "      <td>manuell</td>\n",
       "      <td>101</td>\n",
       "      <td>focus</td>\n",
       "      <td>125000</td>\n",
       "      <td>4</td>\n",
       "      <td>benzin</td>\n",
       "      <td>ford</td>\n",
       "      <td>nein</td>\n",
       "      <td>2016-03-17 00:00:00</td>\n",
       "      <td>12205</td>\n",
       "      <td>2016-04-06 07:17:35</td>\n",
       "    </tr>\n",
       "    <tr>\n",
       "      <th>2897</th>\n",
       "      <td>2016-03-12 21:50:57</td>\n",
       "      <td>Escort_MK_1_Hundeknochen_zum_umbauen_auf_RS_2000</td>\n",
       "      <td>11111111</td>\n",
       "      <td>test</td>\n",
       "      <td>limousine</td>\n",
       "      <td>1973</td>\n",
       "      <td>manuell</td>\n",
       "      <td>48</td>\n",
       "      <td>escort</td>\n",
       "      <td>50000</td>\n",
       "      <td>3</td>\n",
       "      <td>benzin</td>\n",
       "      <td>ford</td>\n",
       "      <td>nein</td>\n",
       "      <td>2016-03-12 00:00:00</td>\n",
       "      <td>94469</td>\n",
       "      <td>2016-03-12 22:45:27</td>\n",
       "    </tr>\n",
       "    <tr>\n",
       "      <th>7814</th>\n",
       "      <td>2016-04-04 11:53:31</td>\n",
       "      <td>Ferrari_F40</td>\n",
       "      <td>1300000</td>\n",
       "      <td>control</td>\n",
       "      <td>coupe</td>\n",
       "      <td>1992</td>\n",
       "      <td>NaN</td>\n",
       "      <td>0</td>\n",
       "      <td>NaN</td>\n",
       "      <td>50000</td>\n",
       "      <td>12</td>\n",
       "      <td>NaN</td>\n",
       "      <td>sonstige_autos</td>\n",
       "      <td>nein</td>\n",
       "      <td>2016-04-04 00:00:00</td>\n",
       "      <td>60598</td>\n",
       "      <td>2016-04-05 11:34:11</td>\n",
       "    </tr>\n",
       "    <tr>\n",
       "      <th>11137</th>\n",
       "      <td>2016-03-29 23:52:57</td>\n",
       "      <td>suche_maserati_3200_gt_Zustand_unwichtig_laufe...</td>\n",
       "      <td>10000000</td>\n",
       "      <td>control</td>\n",
       "      <td>coupe</td>\n",
       "      <td>1960</td>\n",
       "      <td>manuell</td>\n",
       "      <td>368</td>\n",
       "      <td>NaN</td>\n",
       "      <td>100000</td>\n",
       "      <td>1</td>\n",
       "      <td>benzin</td>\n",
       "      <td>sonstige_autos</td>\n",
       "      <td>nein</td>\n",
       "      <td>2016-03-29 00:00:00</td>\n",
       "      <td>73033</td>\n",
       "      <td>2016-04-06 21:18:11</td>\n",
       "    </tr>\n",
       "    <tr>\n",
       "      <th>22947</th>\n",
       "      <td>2016-03-22 12:54:19</td>\n",
       "      <td>Bmw_530d_zum_ausschlachten</td>\n",
       "      <td>1234566</td>\n",
       "      <td>control</td>\n",
       "      <td>kombi</td>\n",
       "      <td>1999</td>\n",
       "      <td>automatik</td>\n",
       "      <td>190</td>\n",
       "      <td>NaN</td>\n",
       "      <td>150000</td>\n",
       "      <td>2</td>\n",
       "      <td>diesel</td>\n",
       "      <td>bmw</td>\n",
       "      <td>NaN</td>\n",
       "      <td>2016-03-22 00:00:00</td>\n",
       "      <td>17454</td>\n",
       "      <td>2016-04-02 03:17:32</td>\n",
       "    </tr>\n",
       "    <tr>\n",
       "      <th>24384</th>\n",
       "      <td>2016-03-21 13:57:51</td>\n",
       "      <td>Schlachte_Golf_3_gt_tdi</td>\n",
       "      <td>11111111</td>\n",
       "      <td>test</td>\n",
       "      <td>NaN</td>\n",
       "      <td>1995</td>\n",
       "      <td>NaN</td>\n",
       "      <td>0</td>\n",
       "      <td>NaN</td>\n",
       "      <td>150000</td>\n",
       "      <td>0</td>\n",
       "      <td>NaN</td>\n",
       "      <td>volkswagen</td>\n",
       "      <td>NaN</td>\n",
       "      <td>2016-03-21 00:00:00</td>\n",
       "      <td>18519</td>\n",
       "      <td>2016-03-21 14:40:18</td>\n",
       "    </tr>\n",
       "    <tr>\n",
       "      <th>27371</th>\n",
       "      <td>2016-03-09 15:45:47</td>\n",
       "      <td>Fiat_Punto</td>\n",
       "      <td>12345678</td>\n",
       "      <td>control</td>\n",
       "      <td>NaN</td>\n",
       "      <td>2017</td>\n",
       "      <td>NaN</td>\n",
       "      <td>95</td>\n",
       "      <td>punto</td>\n",
       "      <td>150000</td>\n",
       "      <td>0</td>\n",
       "      <td>NaN</td>\n",
       "      <td>fiat</td>\n",
       "      <td>NaN</td>\n",
       "      <td>2016-03-09 00:00:00</td>\n",
       "      <td>96110</td>\n",
       "      <td>2016-03-09 15:45:47</td>\n",
       "    </tr>\n",
       "    <tr>\n",
       "      <th>37585</th>\n",
       "      <td>2016-03-29 11:38:54</td>\n",
       "      <td>Volkswagen_Jetta_GT</td>\n",
       "      <td>999990</td>\n",
       "      <td>test</td>\n",
       "      <td>limousine</td>\n",
       "      <td>1985</td>\n",
       "      <td>manuell</td>\n",
       "      <td>111</td>\n",
       "      <td>jetta</td>\n",
       "      <td>150000</td>\n",
       "      <td>12</td>\n",
       "      <td>benzin</td>\n",
       "      <td>volkswagen</td>\n",
       "      <td>ja</td>\n",
       "      <td>2016-03-29 00:00:00</td>\n",
       "      <td>50997</td>\n",
       "      <td>2016-03-29 11:38:54</td>\n",
       "    </tr>\n",
       "    <tr>\n",
       "      <th>39377</th>\n",
       "      <td>2016-03-08 23:53:51</td>\n",
       "      <td>Tausche_volvo_v40_gegen_van</td>\n",
       "      <td>12345678</td>\n",
       "      <td>control</td>\n",
       "      <td>NaN</td>\n",
       "      <td>2018</td>\n",
       "      <td>manuell</td>\n",
       "      <td>95</td>\n",
       "      <td>v40</td>\n",
       "      <td>150000</td>\n",
       "      <td>6</td>\n",
       "      <td>NaN</td>\n",
       "      <td>volvo</td>\n",
       "      <td>nein</td>\n",
       "      <td>2016-03-08 00:00:00</td>\n",
       "      <td>14542</td>\n",
       "      <td>2016-04-06 23:17:31</td>\n",
       "    </tr>\n",
       "    <tr>\n",
       "      <th>39705</th>\n",
       "      <td>2016-03-22 14:58:27</td>\n",
       "      <td>Tausch_gegen_gleichwertiges</td>\n",
       "      <td>99999999</td>\n",
       "      <td>control</td>\n",
       "      <td>limousine</td>\n",
       "      <td>1999</td>\n",
       "      <td>automatik</td>\n",
       "      <td>224</td>\n",
       "      <td>s_klasse</td>\n",
       "      <td>150000</td>\n",
       "      <td>9</td>\n",
       "      <td>benzin</td>\n",
       "      <td>mercedes_benz</td>\n",
       "      <td>NaN</td>\n",
       "      <td>2016-03-22 00:00:00</td>\n",
       "      <td>73525</td>\n",
       "      <td>2016-04-06 05:15:30</td>\n",
       "    </tr>\n",
       "    <tr>\n",
       "      <th>42221</th>\n",
       "      <td>2016-03-08 20:39:05</td>\n",
       "      <td>Leasinguebernahme</td>\n",
       "      <td>27322222</td>\n",
       "      <td>control</td>\n",
       "      <td>limousine</td>\n",
       "      <td>2014</td>\n",
       "      <td>manuell</td>\n",
       "      <td>163</td>\n",
       "      <td>c4</td>\n",
       "      <td>40000</td>\n",
       "      <td>2</td>\n",
       "      <td>diesel</td>\n",
       "      <td>citroen</td>\n",
       "      <td>NaN</td>\n",
       "      <td>2016-03-08 00:00:00</td>\n",
       "      <td>76532</td>\n",
       "      <td>2016-03-08 20:39:05</td>\n",
       "    </tr>\n",
       "    <tr>\n",
       "      <th>43049</th>\n",
       "      <td>2016-03-21 19:53:52</td>\n",
       "      <td>2_VW_Busse_T3</td>\n",
       "      <td>999999</td>\n",
       "      <td>test</td>\n",
       "      <td>bus</td>\n",
       "      <td>1981</td>\n",
       "      <td>manuell</td>\n",
       "      <td>70</td>\n",
       "      <td>transporter</td>\n",
       "      <td>150000</td>\n",
       "      <td>1</td>\n",
       "      <td>benzin</td>\n",
       "      <td>volkswagen</td>\n",
       "      <td>NaN</td>\n",
       "      <td>2016-03-21 00:00:00</td>\n",
       "      <td>99880</td>\n",
       "      <td>2016-03-28 17:18:28</td>\n",
       "    </tr>\n",
       "    <tr>\n",
       "      <th>47598</th>\n",
       "      <td>2016-03-31 18:56:54</td>\n",
       "      <td>Opel_Vectra_B_1_6i_16V_Facelift_Tuning_Showcar...</td>\n",
       "      <td>12345678</td>\n",
       "      <td>control</td>\n",
       "      <td>limousine</td>\n",
       "      <td>2001</td>\n",
       "      <td>manuell</td>\n",
       "      <td>101</td>\n",
       "      <td>vectra</td>\n",
       "      <td>150000</td>\n",
       "      <td>3</td>\n",
       "      <td>benzin</td>\n",
       "      <td>opel</td>\n",
       "      <td>nein</td>\n",
       "      <td>2016-03-31 00:00:00</td>\n",
       "      <td>4356</td>\n",
       "      <td>2016-03-31 18:56:54</td>\n",
       "    </tr>\n",
       "    <tr>\n",
       "      <th>47634</th>\n",
       "      <td>2016-04-04 21:25:21</td>\n",
       "      <td>Ferrari_FXX</td>\n",
       "      <td>3890000</td>\n",
       "      <td>test</td>\n",
       "      <td>coupe</td>\n",
       "      <td>2006</td>\n",
       "      <td>NaN</td>\n",
       "      <td>799</td>\n",
       "      <td>NaN</td>\n",
       "      <td>5000</td>\n",
       "      <td>7</td>\n",
       "      <td>NaN</td>\n",
       "      <td>sonstige_autos</td>\n",
       "      <td>nein</td>\n",
       "      <td>2016-04-04 00:00:00</td>\n",
       "      <td>60313</td>\n",
       "      <td>2016-04-05 12:07:37</td>\n",
       "    </tr>\n",
       "  </tbody>\n",
       "</table>\n",
       "</div>"
      ],
      "text/plain": [
       "              date_crawled                                               name  \\\n",
       "514    2016-03-17 09:53:08                   Ford_Focus_Turnier_1.6_16V_Style   \n",
       "2897   2016-03-12 21:50:57   Escort_MK_1_Hundeknochen_zum_umbauen_auf_RS_2000   \n",
       "7814   2016-04-04 11:53:31                                        Ferrari_F40   \n",
       "11137  2016-03-29 23:52:57  suche_maserati_3200_gt_Zustand_unwichtig_laufe...   \n",
       "22947  2016-03-22 12:54:19                         Bmw_530d_zum_ausschlachten   \n",
       "24384  2016-03-21 13:57:51                            Schlachte_Golf_3_gt_tdi   \n",
       "27371  2016-03-09 15:45:47                                         Fiat_Punto   \n",
       "37585  2016-03-29 11:38:54                                Volkswagen_Jetta_GT   \n",
       "39377  2016-03-08 23:53:51                        Tausche_volvo_v40_gegen_van   \n",
       "39705  2016-03-22 14:58:27                        Tausch_gegen_gleichwertiges   \n",
       "42221  2016-03-08 20:39:05                                  Leasinguebernahme   \n",
       "43049  2016-03-21 19:53:52                                      2_VW_Busse_T3   \n",
       "47598  2016-03-31 18:56:54  Opel_Vectra_B_1_6i_16V_Facelift_Tuning_Showcar...   \n",
       "47634  2016-04-04 21:25:21                                        Ferrari_FXX   \n",
       "\n",
       "          price   abtest vehicle_type  registration_year    gearbox  power_ps  \\\n",
       "514      999999     test        kombi               2009    manuell       101   \n",
       "2897   11111111     test    limousine               1973    manuell        48   \n",
       "7814    1300000  control        coupe               1992        NaN         0   \n",
       "11137  10000000  control        coupe               1960    manuell       368   \n",
       "22947   1234566  control        kombi               1999  automatik       190   \n",
       "24384  11111111     test          NaN               1995        NaN         0   \n",
       "27371  12345678  control          NaN               2017        NaN        95   \n",
       "37585    999990     test    limousine               1985    manuell       111   \n",
       "39377  12345678  control          NaN               2018    manuell        95   \n",
       "39705  99999999  control    limousine               1999  automatik       224   \n",
       "42221  27322222  control    limousine               2014    manuell       163   \n",
       "43049    999999     test          bus               1981    manuell        70   \n",
       "47598  12345678  control    limousine               2001    manuell       101   \n",
       "47634   3890000     test        coupe               2006        NaN       799   \n",
       "\n",
       "             model  odometer_km  registration_month fuel_type           brand  \\\n",
       "514          focus       125000                   4    benzin            ford   \n",
       "2897        escort        50000                   3    benzin            ford   \n",
       "7814           NaN        50000                  12       NaN  sonstige_autos   \n",
       "11137          NaN       100000                   1    benzin  sonstige_autos   \n",
       "22947          NaN       150000                   2    diesel             bmw   \n",
       "24384          NaN       150000                   0       NaN      volkswagen   \n",
       "27371        punto       150000                   0       NaN            fiat   \n",
       "37585        jetta       150000                  12    benzin      volkswagen   \n",
       "39377          v40       150000                   6       NaN           volvo   \n",
       "39705     s_klasse       150000                   9    benzin   mercedes_benz   \n",
       "42221           c4        40000                   2    diesel         citroen   \n",
       "43049  transporter       150000                   1    benzin      volkswagen   \n",
       "47598       vectra       150000                   3    benzin            opel   \n",
       "47634          NaN         5000                   7       NaN  sonstige_autos   \n",
       "\n",
       "      unrepaired_damage           ad_created  postal_code            last_seen  \n",
       "514                nein  2016-03-17 00:00:00        12205  2016-04-06 07:17:35  \n",
       "2897               nein  2016-03-12 00:00:00        94469  2016-03-12 22:45:27  \n",
       "7814               nein  2016-04-04 00:00:00        60598  2016-04-05 11:34:11  \n",
       "11137              nein  2016-03-29 00:00:00        73033  2016-04-06 21:18:11  \n",
       "22947               NaN  2016-03-22 00:00:00        17454  2016-04-02 03:17:32  \n",
       "24384               NaN  2016-03-21 00:00:00        18519  2016-03-21 14:40:18  \n",
       "27371               NaN  2016-03-09 00:00:00        96110  2016-03-09 15:45:47  \n",
       "37585                ja  2016-03-29 00:00:00        50997  2016-03-29 11:38:54  \n",
       "39377              nein  2016-03-08 00:00:00        14542  2016-04-06 23:17:31  \n",
       "39705               NaN  2016-03-22 00:00:00        73525  2016-04-06 05:15:30  \n",
       "42221               NaN  2016-03-08 00:00:00        76532  2016-03-08 20:39:05  \n",
       "43049               NaN  2016-03-21 00:00:00        99880  2016-03-28 17:18:28  \n",
       "47598              nein  2016-03-31 00:00:00         4356  2016-03-31 18:56:54  \n",
       "47634              nein  2016-04-04 00:00:00        60313  2016-04-05 12:07:37  "
      ]
     },
     "execution_count": 23,
     "metadata": {},
     "output_type": "execute_result"
    }
   ],
   "source": [
    "autos[autos[\"price\"] >= 900000]"
   ]
  },
  {
   "cell_type": "markdown",
   "metadata": {
    "hidden": true
   },
   "source": [
    "The Ferrari prices are probably legitimate, as is the Maserati. The Fords, Fiat, VW Golf & Bus and BMW stationwagon probably aren't legitimate. The rest I don't know enough about.\n",
    "\n",
    "Since there are only a few Ferraris in this price range, and since later analysis focuses on popular brands (which Ferarri isn't), I'm just going to drop everything above $900K."
   ]
  },
  {
   "cell_type": "code",
   "execution_count": 24,
   "metadata": {
    "hidden": true
   },
   "outputs": [
    {
     "data": {
      "text/plain": [
       "48565"
      ]
     },
     "execution_count": 24,
     "metadata": {},
     "output_type": "execute_result"
    }
   ],
   "source": [
    "autos = autos[autos[\"price\"] < 900000]\n",
    "len(autos)"
   ]
  },
  {
   "cell_type": "markdown",
   "metadata": {
    "collapsed": true,
    "heading_collapsed": true
   },
   "source": [
    "## Exploring the Date Columns"
   ]
  },
  {
   "cell_type": "markdown",
   "metadata": {
    "collapsed": true,
    "hidden": true
   },
   "source": [
    "`date_crawled`, `ad_created` and `last_seen` all have timestamps, but are stored as string objects."
   ]
  },
  {
   "cell_type": "code",
   "execution_count": 25,
   "metadata": {
    "hidden": true
   },
   "outputs": [
    {
     "data": {
      "text/plain": [
       "str"
      ]
     },
     "execution_count": 25,
     "metadata": {},
     "output_type": "execute_result"
    }
   ],
   "source": [
    "type(autos[\"date_crawled\"].iloc[0])"
   ]
  },
  {
   "cell_type": "code",
   "execution_count": 26,
   "metadata": {
    "hidden": true
   },
   "outputs": [
    {
     "data": {
      "text/html": [
       "<div>\n",
       "<style scoped>\n",
       "    .dataframe tbody tr th:only-of-type {\n",
       "        vertical-align: middle;\n",
       "    }\n",
       "\n",
       "    .dataframe tbody tr th {\n",
       "        vertical-align: top;\n",
       "    }\n",
       "\n",
       "    .dataframe thead th {\n",
       "        text-align: right;\n",
       "    }\n",
       "</style>\n",
       "<table border=\"1\" class=\"dataframe\">\n",
       "  <thead>\n",
       "    <tr style=\"text-align: right;\">\n",
       "      <th></th>\n",
       "      <th>date_crawled</th>\n",
       "      <th>ad_created</th>\n",
       "      <th>last_seen</th>\n",
       "    </tr>\n",
       "  </thead>\n",
       "  <tbody>\n",
       "    <tr>\n",
       "      <th>0</th>\n",
       "      <td>2016-03-26 17:47:46</td>\n",
       "      <td>2016-03-26 00:00:00</td>\n",
       "      <td>2016-04-06 06:45:54</td>\n",
       "    </tr>\n",
       "    <tr>\n",
       "      <th>1</th>\n",
       "      <td>2016-04-04 13:38:56</td>\n",
       "      <td>2016-04-04 00:00:00</td>\n",
       "      <td>2016-04-06 14:45:08</td>\n",
       "    </tr>\n",
       "    <tr>\n",
       "      <th>2</th>\n",
       "      <td>2016-03-26 18:57:24</td>\n",
       "      <td>2016-03-26 00:00:00</td>\n",
       "      <td>2016-04-06 20:15:37</td>\n",
       "    </tr>\n",
       "    <tr>\n",
       "      <th>3</th>\n",
       "      <td>2016-03-12 16:58:10</td>\n",
       "      <td>2016-03-12 00:00:00</td>\n",
       "      <td>2016-03-15 03:16:28</td>\n",
       "    </tr>\n",
       "    <tr>\n",
       "      <th>4</th>\n",
       "      <td>2016-04-01 14:38:50</td>\n",
       "      <td>2016-04-01 00:00:00</td>\n",
       "      <td>2016-04-01 14:38:50</td>\n",
       "    </tr>\n",
       "  </tbody>\n",
       "</table>\n",
       "</div>"
      ],
      "text/plain": [
       "          date_crawled           ad_created            last_seen\n",
       "0  2016-03-26 17:47:46  2016-03-26 00:00:00  2016-04-06 06:45:54\n",
       "1  2016-04-04 13:38:56  2016-04-04 00:00:00  2016-04-06 14:45:08\n",
       "2  2016-03-26 18:57:24  2016-03-26 00:00:00  2016-04-06 20:15:37\n",
       "3  2016-03-12 16:58:10  2016-03-12 00:00:00  2016-03-15 03:16:28\n",
       "4  2016-04-01 14:38:50  2016-04-01 00:00:00  2016-04-01 14:38:50"
      ]
     },
     "execution_count": 26,
     "metadata": {},
     "output_type": "execute_result"
    }
   ],
   "source": [
    "autos[[\"date_crawled\", \"ad_created\", \"last_seen\"]][0:5]"
   ]
  },
  {
   "cell_type": "code",
   "execution_count": 27,
   "metadata": {
    "hidden": true,
    "scrolled": true
   },
   "outputs": [
    {
     "name": "stdout",
     "output_type": "stream",
     "text": [
      "date_crawled :\n",
      "2016-03-05    2.5327\n",
      "2016-03-06    1.4043\n",
      "2016-03-07    3.6014\n",
      "2016-03-08    3.3296\n",
      "2016-03-09    3.3090\n",
      "2016-03-10    3.2184\n",
      "2016-03-11    3.2575\n",
      "2016-03-12    3.6920\n",
      "2016-03-13    1.5670\n",
      "2016-03-14    3.6549\n",
      "2016-03-15    3.4284\n",
      "2016-03-16    2.9610\n",
      "2016-03-17    3.1628\n",
      "2016-03-18    1.2911\n",
      "2016-03-19    3.4778\n",
      "2016-03-20    3.7887\n",
      "2016-03-21    3.7373\n",
      "2016-03-22    3.2987\n",
      "2016-03-23    3.2225\n",
      "2016-03-24    2.9342\n",
      "2016-03-25    3.1607\n",
      "2016-03-26    3.2204\n",
      "2016-03-27    3.1092\n",
      "2016-03-28    3.4860\n",
      "2016-03-29    3.4099\n",
      "2016-03-30    3.3687\n",
      "2016-03-31    3.1834\n",
      "2016-04-01    3.3687\n",
      "2016-04-02    3.5478\n",
      "2016-04-03    3.8608\n",
      "2016-04-04    3.6487\n",
      "2016-04-05    1.3096\n",
      "2016-04-06    0.3171\n",
      "2016-04-07    0.1400\n",
      "Name: date_crawled, dtype: float64\n",
      "\n",
      "ad_created :\n",
      "2015-06-11    0.0021\n",
      "2015-08-10    0.0021\n",
      "2015-09-09    0.0021\n",
      "2015-11-10    0.0021\n",
      "2015-12-05    0.0021\n",
      "               ...  \n",
      "2016-04-03    3.8855\n",
      "2016-04-04    3.6858\n",
      "2016-04-05    1.1819\n",
      "2016-04-06    0.3253\n",
      "2016-04-07    0.1256\n",
      "Name: ad_created, Length: 76, dtype: float64\n",
      "\n",
      "last_seen :\n",
      "2016-03-05     0.1071\n",
      "2016-03-06     0.4324\n",
      "2016-03-07     0.5395\n",
      "2016-03-08     0.7413\n",
      "2016-03-09     0.9595\n",
      "2016-03-10     1.0666\n",
      "2016-03-11     1.2375\n",
      "2016-03-12     2.3783\n",
      "2016-03-13     0.8895\n",
      "2016-03-14     1.2602\n",
      "2016-03-15     1.5876\n",
      "2016-03-16     1.6452\n",
      "2016-03-17     2.8086\n",
      "2016-03-18     0.7351\n",
      "2016-03-19     1.5834\n",
      "2016-03-20     2.0653\n",
      "2016-03-21     2.0632\n",
      "2016-03-22     2.1373\n",
      "2016-03-23     1.8532\n",
      "2016-03-24     1.9767\n",
      "2016-03-25     1.9211\n",
      "2016-03-26     1.6802\n",
      "2016-03-27     1.5649\n",
      "2016-03-28     2.0859\n",
      "2016-03-29     2.2341\n",
      "2016-03-30     2.4771\n",
      "2016-03-31     2.3783\n",
      "2016-04-01     2.2794\n",
      "2016-04-02     2.4915\n",
      "2016-04-03     2.5203\n",
      "2016-04-04     2.4483\n",
      "2016-04-05    12.4761\n",
      "2016-04-06    22.1806\n",
      "2016-04-07    13.1947\n",
      "Name: last_seen, dtype: float64\n",
      "\n"
     ]
    }
   ],
   "source": [
    "for c in [\"date_crawled\", \"ad_created\", \"last_seen\"]:\n",
    "    print(c,\":\")\n",
    "    print(autos[c].str[:10].value_counts(normalize=True, dropna=False).sort_index().round(6)*100)\n",
    "    print()"
   ]
  },
  {
   "cell_type": "markdown",
   "metadata": {
    "hidden": true
   },
   "source": [
    "* `date_crawled` spans a ~one month range of dates from 2016/3/5 to 2016/4/7. From 0.3-3.8% \n",
    "* `ad_created` ranges from 2015/06/11 to 2016/04/07.\n",
    "* `last_seen` ranges from 2016-03-05 to 2016-04-07"
   ]
  },
  {
   "cell_type": "code",
   "execution_count": 28,
   "metadata": {
    "hidden": true
   },
   "outputs": [
    {
     "name": "stdout",
     "output_type": "stream",
     "text": [
      "date_crawled :\n",
      "count                   48565\n",
      "unique                     34\n",
      "top       2016-04-03 00:00:00\n",
      "freq                     1875\n",
      "first     2016-03-05 00:00:00\n",
      "last      2016-04-07 00:00:00\n",
      "Name: date_crawled, dtype: object\n",
      "\n",
      "ad_created :\n",
      "count                   48565\n",
      "unique                     76\n",
      "top       2016-04-03 00:00:00\n",
      "freq                     1887\n",
      "first     2015-06-11 00:00:00\n",
      "last      2016-04-07 00:00:00\n",
      "Name: ad_created, dtype: object\n",
      "\n",
      "last_seen :\n",
      "count                   48565\n",
      "unique                     34\n",
      "top       2016-04-06 00:00:00\n",
      "freq                    10772\n",
      "first     2016-03-05 00:00:00\n",
      "last      2016-04-07 00:00:00\n",
      "Name: last_seen, dtype: object\n",
      "\n"
     ]
    },
    {
     "name": "stderr",
     "output_type": "stream",
     "text": [
      "<ipython-input-28-91074581b22a>:3: FutureWarning: Treating datetime data as categorical rather than numeric in `.describe` is deprecated and will be removed in a future version of pandas. Specify `datetime_is_numeric=True` to silence this warning and adopt the future behavior now.\n",
      "  print(pd.to_datetime(autos[c].str[:10]).describe(datetime_is_numeric=False))\n",
      "<ipython-input-28-91074581b22a>:3: FutureWarning: Treating datetime data as categorical rather than numeric in `.describe` is deprecated and will be removed in a future version of pandas. Specify `datetime_is_numeric=True` to silence this warning and adopt the future behavior now.\n",
      "  print(pd.to_datetime(autos[c].str[:10]).describe(datetime_is_numeric=False))\n",
      "<ipython-input-28-91074581b22a>:3: FutureWarning: Treating datetime data as categorical rather than numeric in `.describe` is deprecated and will be removed in a future version of pandas. Specify `datetime_is_numeric=True` to silence this warning and adopt the future behavior now.\n",
      "  print(pd.to_datetime(autos[c].str[:10]).describe(datetime_is_numeric=False))\n"
     ]
    }
   ],
   "source": [
    "for c in [\"date_crawled\", \"ad_created\", \"last_seen\"]:\n",
    "    print(c,\":\")\n",
    "    print(pd.to_datetime(autos[c].str[:10]).describe(datetime_is_numeric=False))\n",
    "    print()"
   ]
  },
  {
   "cell_type": "markdown",
   "metadata": {
    "hidden": true
   },
   "source": [
    "It seems strange that out of 50,000 listings, created over a span of almost a year, there are only 76 unique creation dates. On further consideration, it makes sense. The ads themsevles were  gathered over a period of one month and most of the ads were created within or shortly before that period. The older dates are increacingly sparse and represent only cars that have taken a long time to sell.\n",
    "\n",
    "The range in the number of pages crawled on a given day is also interesting. It varies over a pretty wide range. Thinking it through, it's may be a product of both the rate of the spider and the rate of ad creation over time. If the spider can't crawl all the ads in a given run, it may not detect a new ad for some period of time. Ads may also be missed if they end before detection."
   ]
  },
  {
   "cell_type": "code",
   "execution_count": 29,
   "metadata": {
    "hidden": true
   },
   "outputs": [],
   "source": [
    "autos[[\"date_crawled\", \"ad_created\", \"last_seen\"]] = autos[[\"date_crawled\", \"ad_created\", \"last_seen\"]].astype('datetime64')"
   ]
  },
  {
   "cell_type": "markdown",
   "metadata": {
    "heading_collapsed": true
   },
   "source": [
    "## Analyzing and Cleaning Registration Year Data"
   ]
  },
  {
   "cell_type": "code",
   "execution_count": 30,
   "metadata": {
    "hidden": true
   },
   "outputs": [
    {
     "data": {
      "text/plain": [
       "count    48565.000000\n",
       "mean      2004.755421\n",
       "std         88.643887\n",
       "min       1000.000000\n",
       "25%       1999.000000\n",
       "50%       2004.000000\n",
       "75%       2008.000000\n",
       "max       9999.000000\n",
       "Name: registration_year, dtype: float64"
      ]
     },
     "execution_count": 30,
     "metadata": {},
     "output_type": "execute_result"
    }
   ],
   "source": [
    "autos[\"registration_year\"].describe()"
   ]
  },
  {
   "cell_type": "code",
   "execution_count": 31,
   "metadata": {
    "hidden": true,
    "scrolled": true
   },
   "outputs": [
    {
     "data": {
      "text/plain": [
       "1000    1\n",
       "1001    1\n",
       "1111    1\n",
       "1800    2\n",
       "1910    5\n",
       "       ..\n",
       "5911    1\n",
       "6200    1\n",
       "8888    1\n",
       "9000    1\n",
       "9999    3\n",
       "Name: registration_year, Length: 95, dtype: int64"
      ]
     },
     "execution_count": 31,
     "metadata": {},
     "output_type": "execute_result"
    }
   ],
   "source": [
    "autos[\"registration_year\"].value_counts().sort_index()"
   ]
  },
  {
   "cell_type": "code",
   "execution_count": 32,
   "metadata": {
    "hidden": true
   },
   "outputs": [
    {
     "data": {
      "text/plain": [
       "count    46681.000000\n",
       "mean      2002.910756\n",
       "std          7.185103\n",
       "min       1910.000000\n",
       "25%       1999.000000\n",
       "50%       2003.000000\n",
       "75%       2008.000000\n",
       "max       2016.000000\n",
       "Name: registration_year, dtype: float64"
      ]
     },
     "execution_count": 32,
     "metadata": {},
     "output_type": "execute_result"
    }
   ],
   "source": [
    "autos.loc[autos[\"registration_year\"].between(1900,2016),\"registration_year\"].describe()"
   ]
  },
  {
   "cell_type": "markdown",
   "metadata": {
    "hidden": true
   },
   "source": [
    "There are a number of entries with bogus registration years. I've eliminated anything more recent than 2016, when the crawls were performed. It would be more precise to compare the full ad creation date to year and month of registration, but this is good enough to get a sense of the data.\n",
    "\n",
    "I've also elimated anything with a registration date earlier than 1900. This seems on the one hand, a bit unnecessary, since it eliminates less than a dozen listings, while also possibly a bit lax, since I don't know when Germany first started registering cars.\n",
    "\n",
    "The average car sold was ~15y old, and 75% of cars were at least ~8y old."
   ]
  },
  {
   "cell_type": "code",
   "execution_count": 33,
   "metadata": {
    "hidden": true
   },
   "outputs": [
    {
     "data": {
      "text/html": [
       "<div>\n",
       "<style scoped>\n",
       "    .dataframe tbody tr th:only-of-type {\n",
       "        vertical-align: middle;\n",
       "    }\n",
       "\n",
       "    .dataframe tbody tr th {\n",
       "        vertical-align: top;\n",
       "    }\n",
       "\n",
       "    .dataframe thead th {\n",
       "        text-align: right;\n",
       "    }\n",
       "</style>\n",
       "<table border=\"1\" class=\"dataframe\">\n",
       "  <thead>\n",
       "    <tr style=\"text-align: right;\">\n",
       "      <th></th>\n",
       "      <th>name</th>\n",
       "      <th>model</th>\n",
       "      <th>brand</th>\n",
       "      <th>registration_year</th>\n",
       "      <th>registration_month</th>\n",
       "    </tr>\n",
       "  </thead>\n",
       "  <tbody>\n",
       "    <tr>\n",
       "      <th>2221</th>\n",
       "      <td>Sehr_seltener_Oldtimer_Opel_1210_zum_Restaurieren</td>\n",
       "      <td>andere</td>\n",
       "      <td>opel</td>\n",
       "      <td>1934</td>\n",
       "      <td>0</td>\n",
       "    </tr>\n",
       "    <tr>\n",
       "      <th>2573</th>\n",
       "      <td>Hanomag_rekord_15k_Suche_ersatz_teile</td>\n",
       "      <td>NaN</td>\n",
       "      <td>sonstige_autos</td>\n",
       "      <td>1934</td>\n",
       "      <td>1</td>\n",
       "    </tr>\n",
       "    <tr>\n",
       "      <th>3679</th>\n",
       "      <td>Suche_Auto</td>\n",
       "      <td>NaN</td>\n",
       "      <td>sonstige_autos</td>\n",
       "      <td>1910</td>\n",
       "      <td>0</td>\n",
       "    </tr>\n",
       "    <tr>\n",
       "      <th>10556</th>\n",
       "      <td>UNFAL_Auto</td>\n",
       "      <td>NaN</td>\n",
       "      <td>mitsubishi</td>\n",
       "      <td>1800</td>\n",
       "      <td>2</td>\n",
       "    </tr>\n",
       "    <tr>\n",
       "      <th>11246</th>\n",
       "      <td>Ford_Model_A_Roadster_Deluxe_1931</td>\n",
       "      <td>andere</td>\n",
       "      <td>ford</td>\n",
       "      <td>1931</td>\n",
       "      <td>7</td>\n",
       "    </tr>\n",
       "    <tr>\n",
       "      <th>21416</th>\n",
       "      <td>Essex_super_six__Ford_A</td>\n",
       "      <td>andere</td>\n",
       "      <td>ford</td>\n",
       "      <td>1927</td>\n",
       "      <td>5</td>\n",
       "    </tr>\n",
       "    <tr>\n",
       "      <th>22101</th>\n",
       "      <td>BMW_Andere</td>\n",
       "      <td>andere</td>\n",
       "      <td>bmw</td>\n",
       "      <td>1929</td>\n",
       "      <td>1</td>\n",
       "    </tr>\n",
       "    <tr>\n",
       "      <th>22316</th>\n",
       "      <td>VW_Kaefer.__Zwei_zum_Preis_von_einem.</td>\n",
       "      <td>kaefer</td>\n",
       "      <td>volkswagen</td>\n",
       "      <td>1000</td>\n",
       "      <td>0</td>\n",
       "    </tr>\n",
       "    <tr>\n",
       "      <th>22659</th>\n",
       "      <td>Opel_Corsa_B</td>\n",
       "      <td>corsa</td>\n",
       "      <td>opel</td>\n",
       "      <td>1910</td>\n",
       "      <td>0</td>\n",
       "    </tr>\n",
       "    <tr>\n",
       "      <th>24511</th>\n",
       "      <td>Trabant__wartburg__Ostalgie</td>\n",
       "      <td>NaN</td>\n",
       "      <td>trabant</td>\n",
       "      <td>1111</td>\n",
       "      <td>0</td>\n",
       "    </tr>\n",
       "    <tr>\n",
       "      <th>28693</th>\n",
       "      <td>Renault_Twingo</td>\n",
       "      <td>NaN</td>\n",
       "      <td>renault</td>\n",
       "      <td>1910</td>\n",
       "      <td>0</td>\n",
       "    </tr>\n",
       "    <tr>\n",
       "      <th>30781</th>\n",
       "      <td>Opel_Calibra_V6_DTM_Bausatz_1:24</td>\n",
       "      <td>calibra</td>\n",
       "      <td>opel</td>\n",
       "      <td>1910</td>\n",
       "      <td>0</td>\n",
       "    </tr>\n",
       "    <tr>\n",
       "      <th>32585</th>\n",
       "      <td>UNFAL_Auto</td>\n",
       "      <td>NaN</td>\n",
       "      <td>mitsubishi</td>\n",
       "      <td>1800</td>\n",
       "      <td>2</td>\n",
       "    </tr>\n",
       "    <tr>\n",
       "      <th>45157</th>\n",
       "      <td>Motorhaube</td>\n",
       "      <td>NaN</td>\n",
       "      <td>trabant</td>\n",
       "      <td>1910</td>\n",
       "      <td>0</td>\n",
       "    </tr>\n",
       "    <tr>\n",
       "      <th>49283</th>\n",
       "      <td>Citroen_HY</td>\n",
       "      <td>andere</td>\n",
       "      <td>citroen</td>\n",
       "      <td>1001</td>\n",
       "      <td>0</td>\n",
       "    </tr>\n",
       "  </tbody>\n",
       "</table>\n",
       "</div>"
      ],
      "text/plain": [
       "                                                    name    model  \\\n",
       "2221   Sehr_seltener_Oldtimer_Opel_1210_zum_Restaurieren   andere   \n",
       "2573               Hanomag_rekord_15k_Suche_ersatz_teile      NaN   \n",
       "3679                                          Suche_Auto      NaN   \n",
       "10556                                         UNFAL_Auto      NaN   \n",
       "11246                  Ford_Model_A_Roadster_Deluxe_1931   andere   \n",
       "21416                            Essex_super_six__Ford_A   andere   \n",
       "22101                                         BMW_Andere   andere   \n",
       "22316              VW_Kaefer.__Zwei_zum_Preis_von_einem.   kaefer   \n",
       "22659                                       Opel_Corsa_B    corsa   \n",
       "24511                        Trabant__wartburg__Ostalgie      NaN   \n",
       "28693                                     Renault_Twingo      NaN   \n",
       "30781                   Opel_Calibra_V6_DTM_Bausatz_1:24  calibra   \n",
       "32585                                         UNFAL_Auto      NaN   \n",
       "45157                                         Motorhaube      NaN   \n",
       "49283                                         Citroen_HY   andere   \n",
       "\n",
       "                brand  registration_year  registration_month  \n",
       "2221             opel               1934                   0  \n",
       "2573   sonstige_autos               1934                   1  \n",
       "3679   sonstige_autos               1910                   0  \n",
       "10556      mitsubishi               1800                   2  \n",
       "11246            ford               1931                   7  \n",
       "21416            ford               1927                   5  \n",
       "22101             bmw               1929                   1  \n",
       "22316      volkswagen               1000                   0  \n",
       "22659            opel               1910                   0  \n",
       "24511         trabant               1111                   0  \n",
       "28693         renault               1910                   0  \n",
       "30781            opel               1910                   0  \n",
       "32585      mitsubishi               1800                   2  \n",
       "45157         trabant               1910                   0  \n",
       "49283         citroen               1001                   0  "
      ]
     },
     "execution_count": 33,
     "metadata": {},
     "output_type": "execute_result"
    }
   ],
   "source": [
    "autos.loc[autos[\"registration_year\"] < 1935,\n",
    "          [\"name\", \"model\", \"brand\", \"registration_year\", \"registration_month\"]\n",
    "         ]"
   ]
  },
  {
   "cell_type": "markdown",
   "metadata": {
    "hidden": true
   },
   "source": [
    "To my eye, the earliest genuine registration is a 1927 Ford Model A. The next is a 1931 Ford Model A. In between the two there is a BMW Andere (Other) registered 1929/1. There are some other early 30s listings that appear to be old cars. I'm going to pick 1927 as the earliest legitimate registration year."
   ]
  },
  {
   "cell_type": "code",
   "execution_count": 34,
   "metadata": {
    "hidden": true
   },
   "outputs": [
    {
     "data": {
      "text/html": [
       "<div>\n",
       "<style scoped>\n",
       "    .dataframe tbody tr th:only-of-type {\n",
       "        vertical-align: middle;\n",
       "    }\n",
       "\n",
       "    .dataframe tbody tr th {\n",
       "        vertical-align: top;\n",
       "    }\n",
       "\n",
       "    .dataframe thead th {\n",
       "        text-align: right;\n",
       "    }\n",
       "</style>\n",
       "<table border=\"1\" class=\"dataframe\">\n",
       "  <thead>\n",
       "    <tr style=\"text-align: right;\">\n",
       "      <th></th>\n",
       "      <th>name</th>\n",
       "      <th>model</th>\n",
       "      <th>brand</th>\n",
       "      <th>registration_year</th>\n",
       "      <th>registration_month</th>\n",
       "    </tr>\n",
       "  </thead>\n",
       "  <tbody>\n",
       "    <tr>\n",
       "      <th>10</th>\n",
       "      <td>VW_Golf_Tuning_in_siber/grau</td>\n",
       "      <td>NaN</td>\n",
       "      <td>volkswagen</td>\n",
       "      <td>2017</td>\n",
       "      <td>4</td>\n",
       "    </tr>\n",
       "    <tr>\n",
       "      <th>55</th>\n",
       "      <td>Mercedes_E320_AMG_zu_Tauschen!</td>\n",
       "      <td>e_klasse</td>\n",
       "      <td>mercedes_benz</td>\n",
       "      <td>2017</td>\n",
       "      <td>7</td>\n",
       "    </tr>\n",
       "    <tr>\n",
       "      <th>65</th>\n",
       "      <td>Ford_Fiesta_zum_ausschlachten</td>\n",
       "      <td>fiesta</td>\n",
       "      <td>ford</td>\n",
       "      <td>2017</td>\n",
       "      <td>9</td>\n",
       "    </tr>\n",
       "    <tr>\n",
       "      <th>68</th>\n",
       "      <td>Mini_cooper_s_clubman_/vollausstattung_/_Navi/...</td>\n",
       "      <td>clubman</td>\n",
       "      <td>mini</td>\n",
       "      <td>2017</td>\n",
       "      <td>0</td>\n",
       "    </tr>\n",
       "    <tr>\n",
       "      <th>84</th>\n",
       "      <td>Renault_twingo</td>\n",
       "      <td>twingo</td>\n",
       "      <td>renault</td>\n",
       "      <td>2018</td>\n",
       "      <td>0</td>\n",
       "    </tr>\n",
       "    <tr>\n",
       "      <th>...</th>\n",
       "      <td>...</td>\n",
       "      <td>...</td>\n",
       "      <td>...</td>\n",
       "      <td>...</td>\n",
       "      <td>...</td>\n",
       "    </tr>\n",
       "    <tr>\n",
       "      <th>49770</th>\n",
       "      <td>VW_Polo_6n_Tuev_Neu!__1.6_75PS</td>\n",
       "      <td>polo</td>\n",
       "      <td>volkswagen</td>\n",
       "      <td>2018</td>\n",
       "      <td>12</td>\n",
       "    </tr>\n",
       "    <tr>\n",
       "      <th>49796</th>\n",
       "      <td>Opel_corsa_1.4_zu_verkaufen</td>\n",
       "      <td>corsa</td>\n",
       "      <td>opel</td>\n",
       "      <td>2017</td>\n",
       "      <td>7</td>\n",
       "    </tr>\n",
       "    <tr>\n",
       "      <th>49841</th>\n",
       "      <td>Passat_abzugeben.</td>\n",
       "      <td>passat</td>\n",
       "      <td>volkswagen</td>\n",
       "      <td>2017</td>\n",
       "      <td>7</td>\n",
       "    </tr>\n",
       "    <tr>\n",
       "      <th>49910</th>\n",
       "      <td>Schoener_fast_neuer_Opel_Mokka_in_Zell_Mosel_m...</td>\n",
       "      <td>andere</td>\n",
       "      <td>opel</td>\n",
       "      <td>9000</td>\n",
       "      <td>3</td>\n",
       "    </tr>\n",
       "    <tr>\n",
       "      <th>49935</th>\n",
       "      <td>Mercedes_A_klasse_angemeldet_mit_Tuef_und_Auto...</td>\n",
       "      <td>a_klasse</td>\n",
       "      <td>mercedes_benz</td>\n",
       "      <td>2017</td>\n",
       "      <td>9</td>\n",
       "    </tr>\n",
       "  </tbody>\n",
       "</table>\n",
       "<p>1879 rows × 5 columns</p>\n",
       "</div>"
      ],
      "text/plain": [
       "                                                    name     model  \\\n",
       "10                          VW_Golf_Tuning_in_siber/grau       NaN   \n",
       "55                        Mercedes_E320_AMG_zu_Tauschen!  e_klasse   \n",
       "65                         Ford_Fiesta_zum_ausschlachten    fiesta   \n",
       "68     Mini_cooper_s_clubman_/vollausstattung_/_Navi/...   clubman   \n",
       "84                                        Renault_twingo    twingo   \n",
       "...                                                  ...       ...   \n",
       "49770                     VW_Polo_6n_Tuev_Neu!__1.6_75PS      polo   \n",
       "49796                        Opel_corsa_1.4_zu_verkaufen     corsa   \n",
       "49841                                  Passat_abzugeben.    passat   \n",
       "49910  Schoener_fast_neuer_Opel_Mokka_in_Zell_Mosel_m...    andere   \n",
       "49935  Mercedes_A_klasse_angemeldet_mit_Tuef_und_Auto...  a_klasse   \n",
       "\n",
       "               brand  registration_year  registration_month  \n",
       "10        volkswagen               2017                   4  \n",
       "55     mercedes_benz               2017                   7  \n",
       "65              ford               2017                   9  \n",
       "68              mini               2017                   0  \n",
       "84           renault               2018                   0  \n",
       "...              ...                ...                 ...  \n",
       "49770     volkswagen               2018                  12  \n",
       "49796           opel               2017                   7  \n",
       "49841     volkswagen               2017                   7  \n",
       "49910           opel               9000                   3  \n",
       "49935  mercedes_benz               2017                   9  \n",
       "\n",
       "[1879 rows x 5 columns]"
      ]
     },
     "execution_count": 34,
     "metadata": {},
     "output_type": "execute_result"
    }
   ],
   "source": [
    "autos.loc[autos[\"registration_year\"] > 2016,\n",
    "          [\"name\", \"model\", \"brand\", \"registration_year\", \"registration_month\"]\n",
    "         ]"
   ]
  },
  {
   "cell_type": "code",
   "execution_count": 35,
   "metadata": {
    "hidden": true
   },
   "outputs": [
    {
     "data": {
      "text/plain": [
       "2017    1392\n",
       "2018     470\n",
       "5000       4\n",
       "9999       3\n",
       "2019       2\n",
       "5911       1\n",
       "9000       1\n",
       "2800       1\n",
       "4800       1\n",
       "8888       1\n",
       "4500       1\n",
       "6200       1\n",
       "4100       1\n",
       "Name: registration_year, dtype: int64"
      ]
     },
     "execution_count": 35,
     "metadata": {},
     "output_type": "execute_result"
    }
   ],
   "source": [
    "autos.loc[autos[\"registration_year\"] > 2016, \"registration_year\"].value_counts()"
   ]
  },
  {
   "cell_type": "markdown",
   "metadata": {
    "hidden": true
   },
   "source": [
    "There are 1453 entries with a registration date of 2017, and 492 with a registration date of 2018. This makes me think it may be worthwhile to look within 2016 for bogus registration dates. The easiest is to look for anything with a registration month more recent than 4/2016, since that's when the last crawl was done."
   ]
  },
  {
   "cell_type": "code",
   "execution_count": 36,
   "metadata": {
    "hidden": true
   },
   "outputs": [
    {
     "data": {
      "text/html": [
       "<div>\n",
       "<style scoped>\n",
       "    .dataframe tbody tr th:only-of-type {\n",
       "        vertical-align: middle;\n",
       "    }\n",
       "\n",
       "    .dataframe tbody tr th {\n",
       "        vertical-align: top;\n",
       "    }\n",
       "\n",
       "    .dataframe thead th {\n",
       "        text-align: right;\n",
       "    }\n",
       "</style>\n",
       "<table border=\"1\" class=\"dataframe\">\n",
       "  <thead>\n",
       "    <tr style=\"text-align: right;\">\n",
       "      <th></th>\n",
       "      <th>name</th>\n",
       "      <th>model</th>\n",
       "      <th>brand</th>\n",
       "      <th>registration_year</th>\n",
       "      <th>registration_month</th>\n",
       "    </tr>\n",
       "  </thead>\n",
       "  <tbody>\n",
       "    <tr>\n",
       "      <th>135</th>\n",
       "      <td>Opel_Meriva_B_Panoramadach__Sitz__und_Lenkradh...</td>\n",
       "      <td>meriva</td>\n",
       "      <td>opel</td>\n",
       "      <td>2016</td>\n",
       "      <td>8</td>\n",
       "    </tr>\n",
       "    <tr>\n",
       "      <th>256</th>\n",
       "      <td>Passat_1.9TDI_4Motion_Highline</td>\n",
       "      <td>passat</td>\n",
       "      <td>volkswagen</td>\n",
       "      <td>2016</td>\n",
       "      <td>11</td>\n",
       "    </tr>\n",
       "    <tr>\n",
       "      <th>295</th>\n",
       "      <td>Privat_anbiter</td>\n",
       "      <td>astra</td>\n",
       "      <td>opel</td>\n",
       "      <td>2016</td>\n",
       "      <td>8</td>\n",
       "    </tr>\n",
       "    <tr>\n",
       "      <th>307</th>\n",
       "      <td>Giessen_ford</td>\n",
       "      <td>focus</td>\n",
       "      <td>ford</td>\n",
       "      <td>2016</td>\n",
       "      <td>8</td>\n",
       "    </tr>\n",
       "    <tr>\n",
       "      <th>437</th>\n",
       "      <td>Mazda__klima_leder__Alufelgen</td>\n",
       "      <td>NaN</td>\n",
       "      <td>mazda</td>\n",
       "      <td>2016</td>\n",
       "      <td>7</td>\n",
       "    </tr>\n",
       "    <tr>\n",
       "      <th>...</th>\n",
       "      <td>...</td>\n",
       "      <td>...</td>\n",
       "      <td>...</td>\n",
       "      <td>...</td>\n",
       "      <td>...</td>\n",
       "    </tr>\n",
       "    <tr>\n",
       "      <th>49547</th>\n",
       "      <td>Smart_Passion_mit_Panorama_Dach</td>\n",
       "      <td>fortwo</td>\n",
       "      <td>smart</td>\n",
       "      <td>2016</td>\n",
       "      <td>10</td>\n",
       "    </tr>\n",
       "    <tr>\n",
       "      <th>49852</th>\n",
       "      <td>TOP__Golf_3_1.8l</td>\n",
       "      <td>golf</td>\n",
       "      <td>volkswagen</td>\n",
       "      <td>2016</td>\n",
       "      <td>7</td>\n",
       "    </tr>\n",
       "    <tr>\n",
       "      <th>49876</th>\n",
       "      <td>Audi_a5_3.0_tdi_s_line</td>\n",
       "      <td>NaN</td>\n",
       "      <td>audi</td>\n",
       "      <td>2016</td>\n",
       "      <td>10</td>\n",
       "    </tr>\n",
       "    <tr>\n",
       "      <th>49919</th>\n",
       "      <td>Fiat_Punto</td>\n",
       "      <td>punto</td>\n",
       "      <td>fiat</td>\n",
       "      <td>2016</td>\n",
       "      <td>8</td>\n",
       "    </tr>\n",
       "    <tr>\n",
       "      <th>49938</th>\n",
       "      <td>Mercedes_Benz_A_160_Avantgarde</td>\n",
       "      <td>a_klasse</td>\n",
       "      <td>mercedes_benz</td>\n",
       "      <td>2016</td>\n",
       "      <td>6</td>\n",
       "    </tr>\n",
       "  </tbody>\n",
       "</table>\n",
       "<p>618 rows × 5 columns</p>\n",
       "</div>"
      ],
      "text/plain": [
       "                                                    name     model  \\\n",
       "135    Opel_Meriva_B_Panoramadach__Sitz__und_Lenkradh...    meriva   \n",
       "256                       Passat_1.9TDI_4Motion_Highline    passat   \n",
       "295                                       Privat_anbiter     astra   \n",
       "307                                         Giessen_ford     focus   \n",
       "437                        Mazda__klima_leder__Alufelgen       NaN   \n",
       "...                                                  ...       ...   \n",
       "49547                    Smart_Passion_mit_Panorama_Dach    fortwo   \n",
       "49852                                   TOP__Golf_3_1.8l      golf   \n",
       "49876                             Audi_a5_3.0_tdi_s_line       NaN   \n",
       "49919                                         Fiat_Punto     punto   \n",
       "49938                     Mercedes_Benz_A_160_Avantgarde  a_klasse   \n",
       "\n",
       "               brand  registration_year  registration_month  \n",
       "135             opel               2016                   8  \n",
       "256       volkswagen               2016                  11  \n",
       "295             opel               2016                   8  \n",
       "307             ford               2016                   8  \n",
       "437            mazda               2016                   7  \n",
       "...              ...                ...                 ...  \n",
       "49547          smart               2016                  10  \n",
       "49852     volkswagen               2016                   7  \n",
       "49876           audi               2016                  10  \n",
       "49919           fiat               2016                   8  \n",
       "49938  mercedes_benz               2016                   6  \n",
       "\n",
       "[618 rows x 5 columns]"
      ]
     },
     "execution_count": 36,
     "metadata": {},
     "output_type": "execute_result"
    }
   ],
   "source": [
    "autos.loc[(autos[\"registration_year\"] == 2016) & (autos[\"registration_month\"] > 4),\n",
    "         [\"name\", \"model\", \"brand\", \"registration_year\", \"registration_month\"]]"
   ]
  },
  {
   "cell_type": "code",
   "execution_count": 37,
   "metadata": {
    "hidden": true
   },
   "outputs": [],
   "source": [
    "autos = autos[autos[\"registration_year\"].between(1917,2016)]\n",
    "autos = autos[~((autos[\"registration_year\"] == 2016) & (autos[\"registration_month\"] > 4))]"
   ]
  },
  {
   "cell_type": "code",
   "execution_count": 38,
   "metadata": {
    "hidden": true,
    "scrolled": true
   },
   "outputs": [
    {
     "data": {
      "text/plain": [
       "2000    10.0\n",
       "2005    10.0\n",
       "1999    10.0\n",
       "2004    10.0\n",
       "2003    10.0\n",
       "        ... \n",
       "1939     0.0\n",
       "1927     0.0\n",
       "1929     0.0\n",
       "1948     0.0\n",
       "1952     0.0\n",
       "Name: registration_year, Length: 77, dtype: float64"
      ]
     },
     "execution_count": 38,
     "metadata": {},
     "output_type": "execute_result"
    }
   ],
   "source": [
    "autos[\"registration_year\"].value_counts(normalize=True).round(1)*100"
   ]
  },
  {
   "cell_type": "code",
   "execution_count": 39,
   "metadata": {
    "hidden": true
   },
   "outputs": [
    {
     "data": {
      "text/plain": [
       "count    46058.000000\n",
       "mean      2002.745213\n",
       "std          7.004326\n",
       "min       1927.000000\n",
       "25%       1999.000000\n",
       "50%       2003.000000\n",
       "75%       2007.000000\n",
       "max       2016.000000\n",
       "Name: registration_year, dtype: float64"
      ]
     },
     "execution_count": 39,
     "metadata": {},
     "output_type": "execute_result"
    }
   ],
   "source": [
    "autos[\"registration_year\"].describe()"
   ]
  },
  {
   "cell_type": "markdown",
   "metadata": {
    "hidden": true
   },
   "source": [
    "I've eliminated 2638 entries with problematic registration years. My observations after my first refinement of the dataset still holds:\n",
    "\n",
    "The average car sold was ~15y old, and 75% of cars were at least ~8y old."
   ]
  },
  {
   "cell_type": "code",
   "execution_count": 40,
   "metadata": {
    "hidden": true
   },
   "outputs": [
    {
     "data": {
      "text/plain": [
       "46058"
      ]
     },
     "execution_count": 40,
     "metadata": {},
     "output_type": "execute_result"
    }
   ],
   "source": [
    "len(autos)"
   ]
  },
  {
   "cell_type": "markdown",
   "metadata": {
    "heading_collapsed": true
   },
   "source": [
    "## Top Brands"
   ]
  },
  {
   "cell_type": "code",
   "execution_count": 41,
   "metadata": {
    "hidden": true
   },
   "outputs": [
    {
     "data": {
      "text/plain": [
       "count          46058\n",
       "unique            40\n",
       "top       volkswagen\n",
       "freq            9708\n",
       "Name: brand, dtype: object"
      ]
     },
     "execution_count": 41,
     "metadata": {},
     "output_type": "execute_result"
    }
   ],
   "source": [
    "autos[\"brand\"].describe()"
   ]
  },
  {
   "cell_type": "code",
   "execution_count": 42,
   "metadata": {
    "hidden": true,
    "scrolled": true
   },
   "outputs": [
    {
     "data": {
      "text/plain": [
       "volkswagen        21.0\n",
       "bmw               11.0\n",
       "opel              11.0\n",
       "mercedes_benz     10.0\n",
       "audi               9.0\n",
       "ford               7.0\n",
       "renault            5.0\n",
       "peugeot            3.0\n",
       "fiat               3.0\n",
       "seat               2.0\n",
       "skoda              2.0\n",
       "nissan             2.0\n",
       "mazda              2.0\n",
       "smart              1.0\n",
       "citroen            1.0\n",
       "toyota             1.0\n",
       "hyundai            1.0\n",
       "sonstige_autos     1.0\n",
       "volvo              1.0\n",
       "mini               1.0\n",
       "mitsubishi         1.0\n",
       "honda              1.0\n",
       "kia                1.0\n",
       "alfa_romeo         1.0\n",
       "porsche            1.0\n",
       "suzuki             1.0\n",
       "chevrolet          1.0\n",
       "chrysler           0.0\n",
       "dacia              0.0\n",
       "daihatsu           0.0\n",
       "jeep               0.0\n",
       "subaru             0.0\n",
       "land_rover         0.0\n",
       "saab               0.0\n",
       "jaguar             0.0\n",
       "daewoo             0.0\n",
       "trabant            0.0\n",
       "rover              0.0\n",
       "lancia             0.0\n",
       "lada               0.0\n",
       "Name: brand, dtype: float64"
      ]
     },
     "execution_count": 42,
     "metadata": {},
     "output_type": "execute_result"
    }
   ],
   "source": [
    "autos[\"brand\"].value_counts(normalize=True).round(2)*100"
   ]
  },
  {
   "cell_type": "code",
   "execution_count": 43,
   "metadata": {
    "hidden": true
   },
   "outputs": [
    {
     "data": {
      "text/plain": [
       "0.8024664553389205"
      ]
     },
     "execution_count": 43,
     "metadata": {},
     "output_type": "execute_result"
    }
   ],
   "source": [
    "top10_counts = autos[\"brand\"].value_counts(normalize=True)[:10]\n",
    "top10_counts.sum()"
   ]
  },
  {
   "cell_type": "markdown",
   "metadata": {},
   "source": [
    "## Exploring Price By Brand"
   ]
  },
  {
   "cell_type": "markdown",
   "metadata": {},
   "source": [
    "There are forty unique auto brands represented in the dataset. The top four brands account for ~50% of the entries. Three are German domestic manufacturers, the fourth is Opel, which is GM's German subsidiary. The fifth most common brand is Audi, also German. The top five account for ~60% of the cars in the dataset.\n",
    "\n",
    "The top ten brands account for 80% of the dataset.\n",
    "\n",
    "I am going to look at some key aggregate details for the top ten brands."
   ]
  },
  {
   "cell_type": "markdown",
   "metadata": {
    "heading_collapsed": true
   },
   "source": [
    "### Brands and Average Prices"
   ]
  },
  {
   "cell_type": "code",
   "execution_count": 44,
   "metadata": {
    "hidden": true
   },
   "outputs": [
    {
     "data": {
      "text/plain": [
       "['volkswagen',\n",
       " 'bmw',\n",
       " 'opel',\n",
       " 'mercedes_benz',\n",
       " 'audi',\n",
       " 'ford',\n",
       " 'renault',\n",
       " 'peugeot',\n",
       " 'fiat',\n",
       " 'seat']"
      ]
     },
     "execution_count": 44,
     "metadata": {},
     "output_type": "execute_result"
    }
   ],
   "source": [
    "top_brands = [brand for brand in top10_counts.index]\n",
    "top_brands"
   ]
  },
  {
   "cell_type": "code",
   "execution_count": 45,
   "metadata": {
    "hidden": true
   },
   "outputs": [
    {
     "data": {
      "text/plain": [
       "volkswagen       5444.281314\n",
       "bmw              8367.863788\n",
       "opel             2996.046644\n",
       "mercedes_benz    8681.313299\n",
       "audi             9387.175119\n",
       "ford             3790.819059\n",
       "renault          2493.956181\n",
       "peugeot          3108.575492\n",
       "fiat             2830.815946\n",
       "seat             4443.226347\n",
       "dtype: float64"
      ]
     },
     "execution_count": 45,
     "metadata": {},
     "output_type": "execute_result"
    }
   ],
   "source": [
    "brand_mean_prices = {}\n",
    "for brand in top_brands:\n",
    "    selection = autos.loc[autos[\"brand\"] == brand]\n",
    "    brand_mean_prices[brand] = selection[\"price\"].mean()\n",
    "\n",
    "brand_mean_prices = pd.Series(brand_mean_prices)\n",
    "brand_mean_prices"
   ]
  },
  {
   "cell_type": "code",
   "execution_count": 46,
   "metadata": {
    "hidden": true
   },
   "outputs": [
    {
     "data": {
      "text/plain": [
       "5154.407318935544"
      ]
     },
     "execution_count": 46,
     "metadata": {},
     "output_type": "execute_result"
    }
   ],
   "source": [
    "sum(brand_mean_prices)/len(brand_mean_prices)"
   ]
  },
  {
   "cell_type": "code",
   "execution_count": 47,
   "metadata": {
    "hidden": true
   },
   "outputs": [
    {
     "data": {
      "text/plain": [
       "count     46058.000000\n",
       "mean       6022.932954\n",
       "std        9219.593098\n",
       "min           1.000000\n",
       "25%        1250.000000\n",
       "50%        3150.000000\n",
       "75%        7600.000000\n",
       "max      350000.000000\n",
       "Name: price, dtype: float64"
      ]
     },
     "execution_count": 47,
     "metadata": {},
     "output_type": "execute_result"
    }
   ],
   "source": [
    "autos[\"price\"].describe()"
   ]
  },
  {
   "cell_type": "markdown",
   "metadata": {
    "hidden": true
   },
   "source": [
    "* The mean price for all cars in the dataset is \\\\$6,022. (It was \\\\$9,685 before removing (~10) cars above \\\\$900,000 from the dataset)\n",
    "\n",
    "* The mean price for cars from the top ten brands is \\\\$5,154\n",
    "\n",
    "* The mean price of cars from the top-ten brands is below the dataset mean.\n",
    "\n",
    "* Among USA-based manufactuers, the average Ford sells for 26% more than the average Opel (GM).\n",
    "\n",
    "* Among the top tend brands, Audi, Mercedes and BMW cars command a premium. Volkswagon is right in the middle and Fiat, Ford, Opel, Peugot and Renault are budget brands."
   ]
  },
  {
   "cell_type": "markdown",
   "metadata": {},
   "source": [
    "## Relationship between Price and Odometer Reading"
   ]
  },
  {
   "cell_type": "code",
   "execution_count": 48,
   "metadata": {},
   "outputs": [
    {
     "data": {
      "text/plain": [
       "volkswagen       128550.164813\n",
       "bmw              132490.677134\n",
       "opel             129196.917461\n",
       "mercedes_benz    130638.035434\n",
       "audi             129056.957282\n",
       "ford             124051.697291\n",
       "renault          127984.317343\n",
       "peugeot          126867.250182\n",
       "fiat             116849.024597\n",
       "seat             120838.323353\n",
       "dtype: float64"
      ]
     },
     "execution_count": 48,
     "metadata": {},
     "output_type": "execute_result"
    }
   ],
   "source": [
    "brand_mean_odometer = {}\n",
    "for brand in top_brands:\n",
    "    selection = autos.loc[autos[\"brand\"] == brand]\n",
    "    brand_mean_odometer[brand] = selection[\"odometer_km\"].mean()\n",
    "\n",
    "brand_mean_odometer = pd.Series(brand_mean_odometer)\n",
    "brand_mean_odometer"
   ]
  },
  {
   "cell_type": "code",
   "execution_count": 49,
   "metadata": {},
   "outputs": [],
   "source": [
    "brand_data = pd.DataFrame(brand_mean_prices, columns=['mean_price'])"
   ]
  },
  {
   "cell_type": "code",
   "execution_count": 50,
   "metadata": {},
   "outputs": [],
   "source": [
    "brand_data[\"mean_odometer\"] = brand_mean_odometer"
   ]
  },
  {
   "cell_type": "markdown",
   "metadata": {},
   "source": [
    "Calculate $ per 1,000km to allow easier comparison among brands."
   ]
  },
  {
   "cell_type": "code",
   "execution_count": 51,
   "metadata": {},
   "outputs": [],
   "source": [
    "brand_data[\"odometer_normalized_price\"] = 1000*brand_data['mean_price']/brand_data['mean_odometer']"
   ]
  },
  {
   "cell_type": "code",
   "execution_count": 52,
   "metadata": {},
   "outputs": [
    {
     "data": {
      "text/html": [
       "<div>\n",
       "<style scoped>\n",
       "    .dataframe tbody tr th:only-of-type {\n",
       "        vertical-align: middle;\n",
       "    }\n",
       "\n",
       "    .dataframe tbody tr th {\n",
       "        vertical-align: top;\n",
       "    }\n",
       "\n",
       "    .dataframe thead th {\n",
       "        text-align: right;\n",
       "    }\n",
       "</style>\n",
       "<table border=\"1\" class=\"dataframe\">\n",
       "  <thead>\n",
       "    <tr style=\"text-align: right;\">\n",
       "      <th></th>\n",
       "      <th>mean_price</th>\n",
       "      <th>mean_odometer</th>\n",
       "      <th>odometer_normalized_price</th>\n",
       "    </tr>\n",
       "  </thead>\n",
       "  <tbody>\n",
       "    <tr>\n",
       "      <th>volkswagen</th>\n",
       "      <td>5444.0</td>\n",
       "      <td>128550.0</td>\n",
       "      <td>42.0</td>\n",
       "    </tr>\n",
       "    <tr>\n",
       "      <th>bmw</th>\n",
       "      <td>8368.0</td>\n",
       "      <td>132491.0</td>\n",
       "      <td>63.0</td>\n",
       "    </tr>\n",
       "    <tr>\n",
       "      <th>opel</th>\n",
       "      <td>2996.0</td>\n",
       "      <td>129197.0</td>\n",
       "      <td>23.0</td>\n",
       "    </tr>\n",
       "    <tr>\n",
       "      <th>mercedes_benz</th>\n",
       "      <td>8681.0</td>\n",
       "      <td>130638.0</td>\n",
       "      <td>66.0</td>\n",
       "    </tr>\n",
       "    <tr>\n",
       "      <th>audi</th>\n",
       "      <td>9387.0</td>\n",
       "      <td>129057.0</td>\n",
       "      <td>73.0</td>\n",
       "    </tr>\n",
       "    <tr>\n",
       "      <th>ford</th>\n",
       "      <td>3791.0</td>\n",
       "      <td>124052.0</td>\n",
       "      <td>31.0</td>\n",
       "    </tr>\n",
       "    <tr>\n",
       "      <th>renault</th>\n",
       "      <td>2494.0</td>\n",
       "      <td>127984.0</td>\n",
       "      <td>19.0</td>\n",
       "    </tr>\n",
       "    <tr>\n",
       "      <th>peugeot</th>\n",
       "      <td>3109.0</td>\n",
       "      <td>126867.0</td>\n",
       "      <td>25.0</td>\n",
       "    </tr>\n",
       "    <tr>\n",
       "      <th>fiat</th>\n",
       "      <td>2831.0</td>\n",
       "      <td>116849.0</td>\n",
       "      <td>24.0</td>\n",
       "    </tr>\n",
       "    <tr>\n",
       "      <th>seat</th>\n",
       "      <td>4443.0</td>\n",
       "      <td>120838.0</td>\n",
       "      <td>37.0</td>\n",
       "    </tr>\n",
       "  </tbody>\n",
       "</table>\n",
       "</div>"
      ],
      "text/plain": [
       "               mean_price  mean_odometer  odometer_normalized_price\n",
       "volkswagen         5444.0       128550.0                       42.0\n",
       "bmw                8368.0       132491.0                       63.0\n",
       "opel               2996.0       129197.0                       23.0\n",
       "mercedes_benz      8681.0       130638.0                       66.0\n",
       "audi               9387.0       129057.0                       73.0\n",
       "ford               3791.0       124052.0                       31.0\n",
       "renault            2494.0       127984.0                       19.0\n",
       "peugeot            3109.0       126867.0                       25.0\n",
       "fiat               2831.0       116849.0                       24.0\n",
       "seat               4443.0       120838.0                       37.0"
      ]
     },
     "execution_count": 52,
     "metadata": {},
     "output_type": "execute_result"
    }
   ],
   "source": [
    "brand_data.round(0)"
   ]
  },
  {
   "cell_type": "code",
   "execution_count": 53,
   "metadata": {},
   "outputs": [
    {
     "data": {
      "text/html": [
       "<div>\n",
       "<style scoped>\n",
       "    .dataframe tbody tr th:only-of-type {\n",
       "        vertical-align: middle;\n",
       "    }\n",
       "\n",
       "    .dataframe tbody tr th {\n",
       "        vertical-align: top;\n",
       "    }\n",
       "\n",
       "    .dataframe thead th {\n",
       "        text-align: right;\n",
       "    }\n",
       "</style>\n",
       "<table border=\"1\" class=\"dataframe\">\n",
       "  <thead>\n",
       "    <tr style=\"text-align: right;\">\n",
       "      <th></th>\n",
       "      <th>mean_price</th>\n",
       "      <th>mean_odometer</th>\n",
       "      <th>odometer_normalized_price</th>\n",
       "    </tr>\n",
       "  </thead>\n",
       "  <tbody>\n",
       "    <tr>\n",
       "      <th>count</th>\n",
       "      <td>10.000000</td>\n",
       "      <td>10.000000</td>\n",
       "      <td>10.000000</td>\n",
       "    </tr>\n",
       "    <tr>\n",
       "      <th>mean</th>\n",
       "      <td>5154.407319</td>\n",
       "      <td>126652.336489</td>\n",
       "      <td>40.343285</td>\n",
       "    </tr>\n",
       "    <tr>\n",
       "      <th>std</th>\n",
       "      <td>2676.064597</td>\n",
       "      <td>4764.710803</td>\n",
       "      <td>20.011273</td>\n",
       "    </tr>\n",
       "    <tr>\n",
       "      <th>min</th>\n",
       "      <td>2493.956181</td>\n",
       "      <td>116849.024597</td>\n",
       "      <td>19.486420</td>\n",
       "    </tr>\n",
       "    <tr>\n",
       "      <th>25%</th>\n",
       "      <td>3024.178856</td>\n",
       "      <td>124755.585514</td>\n",
       "      <td>24.295348</td>\n",
       "    </tr>\n",
       "    <tr>\n",
       "      <th>50%</th>\n",
       "      <td>4117.022703</td>\n",
       "      <td>128267.241078</td>\n",
       "      <td>33.664196</td>\n",
       "    </tr>\n",
       "    <tr>\n",
       "      <th>75%</th>\n",
       "      <td>7636.968170</td>\n",
       "      <td>129161.927416</td>\n",
       "      <td>57.956453</td>\n",
       "    </tr>\n",
       "    <tr>\n",
       "      <th>max</th>\n",
       "      <td>9387.175119</td>\n",
       "      <td>132490.677134</td>\n",
       "      <td>72.736684</td>\n",
       "    </tr>\n",
       "  </tbody>\n",
       "</table>\n",
       "</div>"
      ],
      "text/plain": [
       "        mean_price  mean_odometer  odometer_normalized_price\n",
       "count    10.000000      10.000000                  10.000000\n",
       "mean   5154.407319  126652.336489                  40.343285\n",
       "std    2676.064597    4764.710803                  20.011273\n",
       "min    2493.956181  116849.024597                  19.486420\n",
       "25%    3024.178856  124755.585514                  24.295348\n",
       "50%    4117.022703  128267.241078                  33.664196\n",
       "75%    7636.968170  129161.927416                  57.956453\n",
       "max    9387.175119  132490.677134                  72.736684"
      ]
     },
     "execution_count": 53,
     "metadata": {},
     "output_type": "execute_result"
    }
   ],
   "source": [
    "brand_data.describe()"
   ]
  },
  {
   "cell_type": "markdown",
   "metadata": {},
   "source": [
    "* Differences in average odometer reading among top brands does not explain differences in average selling prices.\n",
    "* Standard deviation for mean_price among brands is ~50% the mean, while the standard deviation for odometer readings among brands is <4% the mean.\n",
    "\n",
    "It would be interesting to know the original selling price of the vehicles, so one could look at % depreciation vs odometer reading."
   ]
  },
  {
   "cell_type": "markdown",
   "metadata": {
    "heading_collapsed": true
   },
   "source": [
    "## Translation of German Terms"
   ]
  },
  {
   "cell_type": "markdown",
   "metadata": {
    "hidden": true
   },
   "source": [
    "Most of the categorical columns contain German words. In order to prepare for further analysis, I will identify those values and replace them with english equivalents."
   ]
  },
  {
   "cell_type": "code",
   "execution_count": 54,
   "metadata": {
    "hidden": true
   },
   "outputs": [
    {
     "data": {
      "text/html": [
       "<div>\n",
       "<style scoped>\n",
       "    .dataframe tbody tr th:only-of-type {\n",
       "        vertical-align: middle;\n",
       "    }\n",
       "\n",
       "    .dataframe tbody tr th {\n",
       "        vertical-align: top;\n",
       "    }\n",
       "\n",
       "    .dataframe thead th {\n",
       "        text-align: right;\n",
       "    }\n",
       "</style>\n",
       "<table border=\"1\" class=\"dataframe\">\n",
       "  <thead>\n",
       "    <tr style=\"text-align: right;\">\n",
       "      <th></th>\n",
       "      <th>date_crawled</th>\n",
       "      <th>name</th>\n",
       "      <th>price</th>\n",
       "      <th>abtest</th>\n",
       "      <th>vehicle_type</th>\n",
       "      <th>registration_year</th>\n",
       "      <th>gearbox</th>\n",
       "      <th>power_ps</th>\n",
       "      <th>model</th>\n",
       "      <th>odometer_km</th>\n",
       "      <th>registration_month</th>\n",
       "      <th>fuel_type</th>\n",
       "      <th>brand</th>\n",
       "      <th>unrepaired_damage</th>\n",
       "      <th>ad_created</th>\n",
       "      <th>postal_code</th>\n",
       "      <th>last_seen</th>\n",
       "    </tr>\n",
       "  </thead>\n",
       "  <tbody>\n",
       "    <tr>\n",
       "      <th>0</th>\n",
       "      <td>2016-03-26 17:47:46</td>\n",
       "      <td>Peugeot_807_160_NAVTECH_ON_BOARD</td>\n",
       "      <td>5000</td>\n",
       "      <td>control</td>\n",
       "      <td>bus</td>\n",
       "      <td>2004</td>\n",
       "      <td>manuell</td>\n",
       "      <td>158</td>\n",
       "      <td>andere</td>\n",
       "      <td>150000</td>\n",
       "      <td>3</td>\n",
       "      <td>lpg</td>\n",
       "      <td>peugeot</td>\n",
       "      <td>nein</td>\n",
       "      <td>2016-03-26</td>\n",
       "      <td>79588</td>\n",
       "      <td>2016-04-06 06:45:54</td>\n",
       "    </tr>\n",
       "    <tr>\n",
       "      <th>1</th>\n",
       "      <td>2016-04-04 13:38:56</td>\n",
       "      <td>BMW_740i_4_4_Liter_HAMANN_UMBAU_Mega_Optik</td>\n",
       "      <td>8500</td>\n",
       "      <td>control</td>\n",
       "      <td>limousine</td>\n",
       "      <td>1997</td>\n",
       "      <td>automatik</td>\n",
       "      <td>286</td>\n",
       "      <td>7er</td>\n",
       "      <td>150000</td>\n",
       "      <td>6</td>\n",
       "      <td>benzin</td>\n",
       "      <td>bmw</td>\n",
       "      <td>nein</td>\n",
       "      <td>2016-04-04</td>\n",
       "      <td>71034</td>\n",
       "      <td>2016-04-06 14:45:08</td>\n",
       "    </tr>\n",
       "    <tr>\n",
       "      <th>2</th>\n",
       "      <td>2016-03-26 18:57:24</td>\n",
       "      <td>Volkswagen_Golf_1.6_United</td>\n",
       "      <td>8990</td>\n",
       "      <td>test</td>\n",
       "      <td>limousine</td>\n",
       "      <td>2009</td>\n",
       "      <td>manuell</td>\n",
       "      <td>102</td>\n",
       "      <td>golf</td>\n",
       "      <td>70000</td>\n",
       "      <td>7</td>\n",
       "      <td>benzin</td>\n",
       "      <td>volkswagen</td>\n",
       "      <td>nein</td>\n",
       "      <td>2016-03-26</td>\n",
       "      <td>35394</td>\n",
       "      <td>2016-04-06 20:15:37</td>\n",
       "    </tr>\n",
       "    <tr>\n",
       "      <th>3</th>\n",
       "      <td>2016-03-12 16:58:10</td>\n",
       "      <td>Smart_smart_fortwo_coupe_softouch/F1/Klima/Pan...</td>\n",
       "      <td>4350</td>\n",
       "      <td>control</td>\n",
       "      <td>kleinwagen</td>\n",
       "      <td>2007</td>\n",
       "      <td>automatik</td>\n",
       "      <td>71</td>\n",
       "      <td>fortwo</td>\n",
       "      <td>70000</td>\n",
       "      <td>6</td>\n",
       "      <td>benzin</td>\n",
       "      <td>smart</td>\n",
       "      <td>nein</td>\n",
       "      <td>2016-03-12</td>\n",
       "      <td>33729</td>\n",
       "      <td>2016-03-15 03:16:28</td>\n",
       "    </tr>\n",
       "    <tr>\n",
       "      <th>4</th>\n",
       "      <td>2016-04-01 14:38:50</td>\n",
       "      <td>Ford_Focus_1_6_Benzin_TÜV_neu_ist_sehr_gepfleg...</td>\n",
       "      <td>1350</td>\n",
       "      <td>test</td>\n",
       "      <td>kombi</td>\n",
       "      <td>2003</td>\n",
       "      <td>manuell</td>\n",
       "      <td>0</td>\n",
       "      <td>focus</td>\n",
       "      <td>150000</td>\n",
       "      <td>7</td>\n",
       "      <td>benzin</td>\n",
       "      <td>ford</td>\n",
       "      <td>nein</td>\n",
       "      <td>2016-04-01</td>\n",
       "      <td>39218</td>\n",
       "      <td>2016-04-01 14:38:50</td>\n",
       "    </tr>\n",
       "  </tbody>\n",
       "</table>\n",
       "</div>"
      ],
      "text/plain": [
       "         date_crawled                                               name  \\\n",
       "0 2016-03-26 17:47:46                   Peugeot_807_160_NAVTECH_ON_BOARD   \n",
       "1 2016-04-04 13:38:56         BMW_740i_4_4_Liter_HAMANN_UMBAU_Mega_Optik   \n",
       "2 2016-03-26 18:57:24                         Volkswagen_Golf_1.6_United   \n",
       "3 2016-03-12 16:58:10  Smart_smart_fortwo_coupe_softouch/F1/Klima/Pan...   \n",
       "4 2016-04-01 14:38:50  Ford_Focus_1_6_Benzin_TÜV_neu_ist_sehr_gepfleg...   \n",
       "\n",
       "   price   abtest vehicle_type  registration_year    gearbox  power_ps  \\\n",
       "0   5000  control          bus               2004    manuell       158   \n",
       "1   8500  control    limousine               1997  automatik       286   \n",
       "2   8990     test    limousine               2009    manuell       102   \n",
       "3   4350  control   kleinwagen               2007  automatik        71   \n",
       "4   1350     test        kombi               2003    manuell         0   \n",
       "\n",
       "    model  odometer_km  registration_month fuel_type       brand  \\\n",
       "0  andere       150000                   3       lpg     peugeot   \n",
       "1     7er       150000                   6    benzin         bmw   \n",
       "2    golf        70000                   7    benzin  volkswagen   \n",
       "3  fortwo        70000                   6    benzin       smart   \n",
       "4   focus       150000                   7    benzin        ford   \n",
       "\n",
       "  unrepaired_damage ad_created  postal_code           last_seen  \n",
       "0              nein 2016-03-26        79588 2016-04-06 06:45:54  \n",
       "1              nein 2016-04-04        71034 2016-04-06 14:45:08  \n",
       "2              nein 2016-03-26        35394 2016-04-06 20:15:37  \n",
       "3              nein 2016-03-12        33729 2016-03-15 03:16:28  \n",
       "4              nein 2016-04-01        39218 2016-04-01 14:38:50  "
      ]
     },
     "execution_count": 54,
     "metadata": {},
     "output_type": "execute_result"
    }
   ],
   "source": [
    "autos.head()"
   ]
  },
  {
   "cell_type": "code",
   "execution_count": 55,
   "metadata": {
    "hidden": true
   },
   "outputs": [
    {
     "name": "stdout",
     "output_type": "stream",
     "text": [
      "vehicle_type  = {nan: nan,\n",
      " 'andere': 'andere',\n",
      " 'bus': 'bus',\n",
      " 'cabrio': 'cabrio',\n",
      " 'coupe': 'coupe',\n",
      " 'kleinwagen': 'kleinwagen',\n",
      " 'kombi': 'kombi',\n",
      " 'limousine': 'limousine',\n",
      " 'suv': 'suv'}\n",
      "gearbox  = {nan: nan, 'automatik': 'automatik', 'manuell': 'manuell'}\n",
      "fuel_type  = {nan: nan,\n",
      " 'andere': 'andere',\n",
      " 'benzin': 'benzin',\n",
      " 'cng': 'cng',\n",
      " 'diesel': 'diesel',\n",
      " 'elektro': 'elektro',\n",
      " 'hybrid': 'hybrid',\n",
      " 'lpg': 'lpg'}\n",
      "unrepaired_damage  = {nan: nan, 'ja': 'ja', 'nein': 'nein'}\n"
     ]
    }
   ],
   "source": [
    "# Generate some dictionary definitions that I can then cut, paste, edit and execute.\n",
    "to_translate =[\"vehicle_type\", \"gearbox\", \"fuel_type\", \"unrepaired_damage\"]\n",
    "for c in to_translate:\n",
    "    values = autos[c].unique()\n",
    "    temp_dict = {v:v for v in values}\n",
    "    print(c,\" = \", end=\"\")\n",
    "    pp.pprint(temp_dict)"
   ]
  },
  {
   "cell_type": "code",
   "execution_count": 56,
   "metadata": {
    "hidden": true
   },
   "outputs": [],
   "source": [
    "vehicle_type_translation = {'andere': 'other',\n",
    "                 'bus': 'bus',\n",
    "                 'cabrio': 'convertable',\n",
    "                 'coupe': 'coupe',\n",
    "                 'kleinwagen': 'subcompact',\n",
    "                 'kombi': 'stationwagon',\n",
    "                 'limousine': 'limousine',\n",
    "                 'suv': 'suv'}\n",
    "\n",
    "autos[\"vehicle_type\"] = autos[\"vehicle_type\"].map(vehicle_type_translation)"
   ]
  },
  {
   "cell_type": "code",
   "execution_count": 57,
   "metadata": {
    "hidden": true
   },
   "outputs": [],
   "source": [
    "gearbox_translation = {'automatik': 'automatic', 'manuell': 'manual'}\n",
    "autos[\"gearbox\"] = autos[\"gearbox\"].map(gearbox_translation)"
   ]
  },
  {
   "cell_type": "code",
   "execution_count": 58,
   "metadata": {
    "hidden": true
   },
   "outputs": [],
   "source": [
    "fuel_type_translation = {'andere': 'other',\n",
    "              'benzin': 'gasoline',\n",
    "              'cng': 'cng',\n",
    "              'diesel': 'diesel',\n",
    "              'elektro': 'electric',\n",
    "              'hybrid': 'hybrid',\n",
    "              'lpg': 'lpg'}\n",
    "\n",
    "autos[\"fuel_type\"] = autos[\"fuel_type\"].map(fuel_type_translation)"
   ]
  },
  {
   "cell_type": "code",
   "execution_count": 59,
   "metadata": {
    "hidden": true
   },
   "outputs": [],
   "source": [
    "unrepaired_damage_translation = {'ja': 'yes', 'nein': 'no'}\n",
    "autos[\"unrepaired_damage\"] = autos[\"unrepaired_damage\"].map(unrepaired_damage_translation)"
   ]
  },
  {
   "cell_type": "code",
   "execution_count": 60,
   "metadata": {
    "hidden": true
   },
   "outputs": [],
   "source": [
    "autos[\"model\"] = autos[\"model\"].str.replace(\"andere\",\"other\")"
   ]
  },
  {
   "cell_type": "code",
   "execution_count": 61,
   "metadata": {
    "hidden": true
   },
   "outputs": [
    {
     "data": {
      "text/html": [
       "<div>\n",
       "<style scoped>\n",
       "    .dataframe tbody tr th:only-of-type {\n",
       "        vertical-align: middle;\n",
       "    }\n",
       "\n",
       "    .dataframe tbody tr th {\n",
       "        vertical-align: top;\n",
       "    }\n",
       "\n",
       "    .dataframe thead th {\n",
       "        text-align: right;\n",
       "    }\n",
       "</style>\n",
       "<table border=\"1\" class=\"dataframe\">\n",
       "  <thead>\n",
       "    <tr style=\"text-align: right;\">\n",
       "      <th></th>\n",
       "      <th>date_crawled</th>\n",
       "      <th>name</th>\n",
       "      <th>price</th>\n",
       "      <th>abtest</th>\n",
       "      <th>vehicle_type</th>\n",
       "      <th>registration_year</th>\n",
       "      <th>gearbox</th>\n",
       "      <th>power_ps</th>\n",
       "      <th>model</th>\n",
       "      <th>odometer_km</th>\n",
       "      <th>registration_month</th>\n",
       "      <th>fuel_type</th>\n",
       "      <th>brand</th>\n",
       "      <th>unrepaired_damage</th>\n",
       "      <th>ad_created</th>\n",
       "      <th>postal_code</th>\n",
       "      <th>last_seen</th>\n",
       "    </tr>\n",
       "  </thead>\n",
       "  <tbody>\n",
       "    <tr>\n",
       "      <th>0</th>\n",
       "      <td>2016-03-26 17:47:46</td>\n",
       "      <td>Peugeot_807_160_NAVTECH_ON_BOARD</td>\n",
       "      <td>5000</td>\n",
       "      <td>control</td>\n",
       "      <td>bus</td>\n",
       "      <td>2004</td>\n",
       "      <td>manual</td>\n",
       "      <td>158</td>\n",
       "      <td>other</td>\n",
       "      <td>150000</td>\n",
       "      <td>3</td>\n",
       "      <td>lpg</td>\n",
       "      <td>peugeot</td>\n",
       "      <td>no</td>\n",
       "      <td>2016-03-26</td>\n",
       "      <td>79588</td>\n",
       "      <td>2016-04-06 06:45:54</td>\n",
       "    </tr>\n",
       "    <tr>\n",
       "      <th>1</th>\n",
       "      <td>2016-04-04 13:38:56</td>\n",
       "      <td>BMW_740i_4_4_Liter_HAMANN_UMBAU_Mega_Optik</td>\n",
       "      <td>8500</td>\n",
       "      <td>control</td>\n",
       "      <td>limousine</td>\n",
       "      <td>1997</td>\n",
       "      <td>automatic</td>\n",
       "      <td>286</td>\n",
       "      <td>7er</td>\n",
       "      <td>150000</td>\n",
       "      <td>6</td>\n",
       "      <td>gasoline</td>\n",
       "      <td>bmw</td>\n",
       "      <td>no</td>\n",
       "      <td>2016-04-04</td>\n",
       "      <td>71034</td>\n",
       "      <td>2016-04-06 14:45:08</td>\n",
       "    </tr>\n",
       "    <tr>\n",
       "      <th>2</th>\n",
       "      <td>2016-03-26 18:57:24</td>\n",
       "      <td>Volkswagen_Golf_1.6_United</td>\n",
       "      <td>8990</td>\n",
       "      <td>test</td>\n",
       "      <td>limousine</td>\n",
       "      <td>2009</td>\n",
       "      <td>manual</td>\n",
       "      <td>102</td>\n",
       "      <td>golf</td>\n",
       "      <td>70000</td>\n",
       "      <td>7</td>\n",
       "      <td>gasoline</td>\n",
       "      <td>volkswagen</td>\n",
       "      <td>no</td>\n",
       "      <td>2016-03-26</td>\n",
       "      <td>35394</td>\n",
       "      <td>2016-04-06 20:15:37</td>\n",
       "    </tr>\n",
       "    <tr>\n",
       "      <th>3</th>\n",
       "      <td>2016-03-12 16:58:10</td>\n",
       "      <td>Smart_smart_fortwo_coupe_softouch/F1/Klima/Pan...</td>\n",
       "      <td>4350</td>\n",
       "      <td>control</td>\n",
       "      <td>subcompact</td>\n",
       "      <td>2007</td>\n",
       "      <td>automatic</td>\n",
       "      <td>71</td>\n",
       "      <td>fortwo</td>\n",
       "      <td>70000</td>\n",
       "      <td>6</td>\n",
       "      <td>gasoline</td>\n",
       "      <td>smart</td>\n",
       "      <td>no</td>\n",
       "      <td>2016-03-12</td>\n",
       "      <td>33729</td>\n",
       "      <td>2016-03-15 03:16:28</td>\n",
       "    </tr>\n",
       "    <tr>\n",
       "      <th>4</th>\n",
       "      <td>2016-04-01 14:38:50</td>\n",
       "      <td>Ford_Focus_1_6_Benzin_TÜV_neu_ist_sehr_gepfleg...</td>\n",
       "      <td>1350</td>\n",
       "      <td>test</td>\n",
       "      <td>stationwagon</td>\n",
       "      <td>2003</td>\n",
       "      <td>manual</td>\n",
       "      <td>0</td>\n",
       "      <td>focus</td>\n",
       "      <td>150000</td>\n",
       "      <td>7</td>\n",
       "      <td>gasoline</td>\n",
       "      <td>ford</td>\n",
       "      <td>no</td>\n",
       "      <td>2016-04-01</td>\n",
       "      <td>39218</td>\n",
       "      <td>2016-04-01 14:38:50</td>\n",
       "    </tr>\n",
       "  </tbody>\n",
       "</table>\n",
       "</div>"
      ],
      "text/plain": [
       "         date_crawled                                               name  \\\n",
       "0 2016-03-26 17:47:46                   Peugeot_807_160_NAVTECH_ON_BOARD   \n",
       "1 2016-04-04 13:38:56         BMW_740i_4_4_Liter_HAMANN_UMBAU_Mega_Optik   \n",
       "2 2016-03-26 18:57:24                         Volkswagen_Golf_1.6_United   \n",
       "3 2016-03-12 16:58:10  Smart_smart_fortwo_coupe_softouch/F1/Klima/Pan...   \n",
       "4 2016-04-01 14:38:50  Ford_Focus_1_6_Benzin_TÜV_neu_ist_sehr_gepfleg...   \n",
       "\n",
       "   price   abtest  vehicle_type  registration_year    gearbox  power_ps  \\\n",
       "0   5000  control           bus               2004     manual       158   \n",
       "1   8500  control     limousine               1997  automatic       286   \n",
       "2   8990     test     limousine               2009     manual       102   \n",
       "3   4350  control    subcompact               2007  automatic        71   \n",
       "4   1350     test  stationwagon               2003     manual         0   \n",
       "\n",
       "    model  odometer_km  registration_month fuel_type       brand  \\\n",
       "0   other       150000                   3       lpg     peugeot   \n",
       "1     7er       150000                   6  gasoline         bmw   \n",
       "2    golf        70000                   7  gasoline  volkswagen   \n",
       "3  fortwo        70000                   6  gasoline       smart   \n",
       "4   focus       150000                   7  gasoline        ford   \n",
       "\n",
       "  unrepaired_damage ad_created  postal_code           last_seen  \n",
       "0                no 2016-03-26        79588 2016-04-06 06:45:54  \n",
       "1                no 2016-04-04        71034 2016-04-06 14:45:08  \n",
       "2                no 2016-03-26        35394 2016-04-06 20:15:37  \n",
       "3                no 2016-03-12        33729 2016-03-15 03:16:28  \n",
       "4                no 2016-04-01        39218 2016-04-01 14:38:50  "
      ]
     },
     "execution_count": 61,
     "metadata": {},
     "output_type": "execute_result"
    }
   ],
   "source": [
    "autos.head()"
   ]
  },
  {
   "cell_type": "markdown",
   "metadata": {},
   "source": [
    "## Extracting Structured Data from Name Column"
   ]
  },
  {
   "cell_type": "code",
   "execution_count": 62,
   "metadata": {},
   "outputs": [
    {
     "data": {
      "text/plain": [
       "0                         Peugeot_807_160_NAVTECH_ON_BOARD\n",
       "1               BMW_740i_4_4_Liter_HAMANN_UMBAU_Mega_Optik\n",
       "2                               Volkswagen_Golf_1.6_United\n",
       "3        Smart_smart_fortwo_coupe_softouch/F1/Klima/Pan...\n",
       "4        Ford_Focus_1_6_Benzin_TÜV_neu_ist_sehr_gepfleg...\n",
       "                               ...                        \n",
       "49995     Audi_Q5_3.0_TDI_qu._S_tr.__Navi__Panorama__Xenon\n",
       "49996    Opel_Astra_F_Cabrio_Bertone_Edition___TÜV_neu+...\n",
       "49997                       Fiat_500_C_1.2_Dualogic_Lounge\n",
       "49998                   Audi_A3_2.0_TDI_Sportback_Ambition\n",
       "49999                                  Opel_Vectra_1.6_16V\n",
       "Name: name, Length: 46058, dtype: object"
      ]
     },
     "execution_count": 62,
     "metadata": {},
     "output_type": "execute_result"
    }
   ],
   "source": [
    "autos[\"name\"]"
   ]
  },
  {
   "cell_type": "markdown",
   "metadata": {},
   "source": [
    "It might be practical to extract engine engine details, like displacement and presence of a high-performance valvetrain (ie \"16V\") from the name column in some of the rows. Let's see how easy it is to extract displacement."
   ]
  },
  {
   "cell_type": "code",
   "execution_count": 63,
   "metadata": {
    "scrolled": true
   },
   "outputs": [
    {
     "data": {
      "text/plain": [
       "2.0    3398\n",
       "1.6    2364\n",
       "1.4    2011\n",
       "1.9    1680\n",
       "1.2    1555\n",
       "1.8    1258\n",
       "3.0     583\n",
       "1.0     546\n",
       "2.5     544\n",
       "2.2     466\n",
       "1.3     332\n",
       "1.7     187\n",
       "1.5     185\n",
       "2.4     159\n",
       "2.7     157\n",
       "1.1     148\n",
       "2.8     137\n",
       "2.3      95\n",
       "3.2      86\n",
       "4.2      77\n",
       "Name: 0, dtype: int64"
      ]
     },
     "execution_count": 63,
     "metadata": {},
     "output_type": "execute_result"
    }
   ],
   "source": [
    "displacements = autos[\"name\"].str.extract(r'_(\\d[_\\.]\\d+)_')\n",
    "displacements = displacements.iloc[:,0].str.replace('_', '.')\n",
    "displacements.value_counts().head(20)"
   ]
  },
  {
   "cell_type": "code",
   "execution_count": 64,
   "metadata": {},
   "outputs": [
    {
     "data": {
      "text/plain": [
       "16525"
      ]
     },
     "execution_count": 64,
     "metadata": {},
     "output_type": "execute_result"
    }
   ],
   "source": [
    "# Count non-null values\n",
    "displacements.count()"
   ]
  },
  {
   "cell_type": "markdown",
   "metadata": {},
   "source": [
    "A simple regular expression extracts displacement values for slightly over 1/3rd of the dataset. A cursory examination shows that most of these values are plausible.\n",
    "\n",
    "This could be used to enhance the dataset. How to use the enhancement is left as an exercise for the reader."
   ]
  },
  {
   "cell_type": "markdown",
   "metadata": {},
   "source": [
    "## Most Common Models by Brand"
   ]
  },
  {
   "cell_type": "code",
   "execution_count": 65,
   "metadata": {},
   "outputs": [
    {
     "name": "stdout",
     "output_type": "stream",
     "text": [
      "alfa_romeo :\n",
      "156      0.297945\n",
      "147      0.267123\n",
      "other    0.202055\n",
      "Name: model, dtype: float64\n",
      "\n",
      "audi :\n",
      "a4    0.314763\n",
      "a3    0.207445\n",
      "a6    0.203594\n",
      "Name: model, dtype: float64\n",
      "\n",
      "bmw :\n",
      "3er    0.530892\n",
      "5er    0.230974\n",
      "1er    0.105565\n",
      "Name: model, dtype: float64\n",
      "\n",
      "chevrolet :\n",
      "other    0.588710\n",
      "matiz    0.133065\n",
      "spark    0.096774\n",
      "Name: model, dtype: float64\n",
      "\n",
      "chrysler :\n",
      "other        0.339869\n",
      "voyager      0.274510\n",
      "ptcruiser    0.196078\n",
      "Name: model, dtype: float64\n",
      "\n",
      "citroen :\n",
      "other       0.350081\n",
      "berlingo    0.155592\n",
      "c5          0.116694\n",
      "Name: model, dtype: float64\n",
      "\n",
      "dacia :\n",
      "sandero    0.361345\n",
      "logan      0.352941\n",
      "duster     0.226891\n",
      "Name: model, dtype: float64\n",
      "\n",
      "daewoo :\n",
      "matiz    0.333333\n",
      "kalos    0.257576\n",
      "lanos    0.151515\n",
      "Name: model, dtype: float64\n",
      "\n",
      "daihatsu :\n",
      "cuore     0.548673\n",
      "other     0.123894\n",
      "sirion    0.097345\n",
      "Name: model, dtype: float64\n",
      "\n",
      "fiat :\n",
      "punto    0.360889\n",
      "other    0.202667\n",
      "500      0.105778\n",
      "Name: model, dtype: float64\n",
      "\n",
      "ford :\n",
      "focus     0.243673\n",
      "fiesta    0.229721\n",
      "mondeo    0.153796\n",
      "Name: model, dtype: float64\n",
      "\n",
      "honda :\n",
      "civic       0.479412\n",
      "other       0.150000\n",
      "cr_reihe    0.147059\n",
      "Name: model, dtype: float64\n",
      "\n",
      "hyundai :\n",
      "i_reihe    0.395402\n",
      "other      0.333333\n",
      "getz       0.110345\n",
      "Name: model, dtype: float64\n",
      "\n",
      "jaguar :\n",
      "other     0.541667\n",
      "x_type    0.277778\n",
      "s_type    0.180556\n",
      "Name: model, dtype: float64\n",
      "\n",
      "jeep :\n",
      "grand       0.43\n",
      "wrangler    0.24\n",
      "cherokee    0.18\n",
      "Name: model, dtype: float64\n",
      "\n",
      "kia :\n",
      "other       0.207668\n",
      "sorento     0.166134\n",
      "sportage    0.166134\n",
      "Name: model, dtype: float64\n",
      "\n",
      "lada :\n",
      "niva      0.60\n",
      "other     0.28\n",
      "samara    0.12\n",
      "Name: model, dtype: float64\n",
      "\n",
      "lancia :\n",
      "ypsilon    0.404255\n",
      "other      0.234043\n",
      "lybra      0.212766\n",
      "Name: model, dtype: float64\n",
      "\n",
      "land_rover :\n",
      "freelander    0.322917\n",
      "defender      0.229167\n",
      "discovery     0.135417\n",
      "Name: model, dtype: float64\n",
      "\n",
      "mazda :\n",
      "3_reihe    0.244344\n",
      "6_reihe    0.238311\n",
      "other      0.206637\n",
      "Name: model, dtype: float64\n",
      "\n",
      "mercedes_benz :\n",
      "c_klasse    0.260198\n",
      "e_klasse    0.218944\n",
      "a_klasse    0.120765\n",
      "Name: model, dtype: float64\n",
      "\n",
      "mini :\n",
      "cooper     0.668317\n",
      "one        0.237624\n",
      "clubman    0.064356\n",
      "Name: model, dtype: float64\n",
      "\n",
      "mitsubishi :\n",
      "colt       0.304469\n",
      "other      0.265363\n",
      "carisma    0.159218\n",
      "Name: model, dtype: float64\n",
      "\n",
      "nissan :\n",
      "micra     0.351032\n",
      "other     0.176991\n",
      "almera    0.131268\n",
      "Name: model, dtype: float64\n",
      "\n",
      "opel :\n",
      "corsa     0.328635\n",
      "astra     0.280034\n",
      "vectra    0.112350\n",
      "Name: model, dtype: float64\n",
      "\n",
      "peugeot :\n",
      "2_reihe    0.459984\n",
      "3_reihe    0.245532\n",
      "1_reihe    0.118104\n",
      "Name: model, dtype: float64\n",
      "\n",
      "porsche :\n",
      "911        0.500000\n",
      "cayenne    0.167857\n",
      "boxster    0.167857\n",
      "Name: model, dtype: float64\n",
      "\n",
      "renault :\n",
      "twingo    0.286667\n",
      "clio      0.221905\n",
      "megane    0.158095\n",
      "Name: model, dtype: float64\n",
      "\n",
      "rover :\n",
      "other         0.931034\n",
      "freelander    0.034483\n",
      "discovery     0.017241\n",
      "Name: model, dtype: float64\n",
      "\n",
      "saab :\n",
      "other    0.716216\n",
      "900      0.216216\n",
      "9000     0.067568\n",
      "Name: model, dtype: float64\n",
      "\n",
      "seat :\n",
      "ibiza    0.391626\n",
      "leon     0.233990\n",
      "arosa    0.128079\n",
      "Name: model, dtype: float64\n",
      "\n",
      "skoda :\n",
      "octavia    0.407507\n",
      "fabia      0.369973\n",
      "superb     0.068365\n",
      "Name: model, dtype: float64\n",
      "\n",
      "smart :\n",
      "fortwo      0.864952\n",
      "forfour     0.072347\n",
      "roadster    0.051447\n",
      "Name: model, dtype: float64\n",
      "\n",
      "sonstige_autos :\n",
      "Series([], Name: model, dtype: float64)\n",
      "\n",
      "subaru :\n",
      "legacy     0.322581\n",
      "impreza    0.247312\n",
      "justy      0.193548\n",
      "Name: model, dtype: float64\n",
      "\n",
      "suzuki :\n",
      "other    0.443609\n",
      "swift    0.308271\n",
      "jimny    0.124060\n",
      "Name: model, dtype: float64\n",
      "\n",
      "toyota :\n",
      "yaris      0.221053\n",
      "other      0.185965\n",
      "corolla    0.149123\n",
      "Name: model, dtype: float64\n",
      "\n",
      "trabant :\n",
      "601      0.854545\n",
      "other    0.145455\n",
      "Name: model, dtype: float64\n",
      "\n",
      "volkswagen :\n",
      "golf      0.389596\n",
      "polo      0.168254\n",
      "passat    0.143209\n",
      "Name: model, dtype: float64\n",
      "\n",
      "volvo :\n",
      "v70      0.218978\n",
      "v40      0.211679\n",
      "other    0.199513\n",
      "Name: model, dtype: float64\n",
      "\n"
     ]
    }
   ],
   "source": [
    "brands = np.sort(autos[\"brand\"].unique())\n",
    "for b in brands:\n",
    "    selection = (autos[\"brand\"] == b)\n",
    "    print(b,\":\")\n",
    "    print(autos.loc[selection, \"model\"].value_counts(normalize=True)[:3])\n",
    "    print()"
   ]
  },
  {
   "cell_type": "markdown",
   "metadata": {},
   "source": [
    "Above we can see the three most common models for each brand. In many cases \"other\" is one of the most common values, which suggests deficiencies in the tools for creating listings that eBay gives sellers.\n",
    "\n",
    "I'm going to add a new column to the dataset that combines brand and model for use in later analysis."
   ]
  },
  {
   "cell_type": "code",
   "execution_count": 66,
   "metadata": {},
   "outputs": [
    {
     "data": {
      "text/plain": [
       "volkswagen/golf           3640\n",
       "bmw/3er                   2595\n",
       "volkswagen/polo           1572\n",
       "opel/corsa                1562\n",
       "volkswagen/passat         1338\n",
       "opel/astra                1331\n",
       "audi/a4                   1226\n",
       "bmw/5er                   1129\n",
       "mercedes_benz/c_klasse    1129\n",
       "mercedes_benz/e_klasse     950\n",
       "audi/a3                    808\n",
       "audi/a6                    793\n",
       "ford/focus                 751\n",
       "ford/fiesta                708\n",
       "volkswagen/transporter     670\n",
       "renault/twingo             602\n",
       "peugeot/2_reihe            592\n",
       "smart/fortwo               538\n",
       "opel/vectra                534\n",
       "mercedes_benz/a_klasse     524\n",
       "Name: brand_model, dtype: int64"
      ]
     },
     "execution_count": 66,
     "metadata": {},
     "output_type": "execute_result"
    }
   ],
   "source": [
    "autos[\"brand_model\"] = autos[\"brand\"] + \"/\" + autos[\"model\"]\n",
    "autos[\"brand_model\"].value_counts().head(20)"
   ]
  },
  {
   "cell_type": "markdown",
   "metadata": {},
   "source": [
    "## Relationship between Price and Odometer Readings"
   ]
  },
  {
   "cell_type": "markdown",
   "metadata": {},
   "source": [
    "An investigation of the relationship between selling price and odometer readings will have to take into account the wide range in average selling prices between the top ten brands. So, I've aggregated them by brand.\n",
    "\n",
    "NOTE: Odometer readings in the dataset have already been binned, so no further binning has been performed."
   ]
  },
  {
   "cell_type": "code",
   "execution_count": 67,
   "metadata": {},
   "outputs": [
    {
     "name": "stdout",
     "output_type": "stream",
     "text": [
      "audi :\n",
      "price            9387.175119\n",
      "odometer_km    129056.957282\n",
      "dtype: float64\n",
      "5000 : 16000.0\n",
      "10000 : 28000.0\n",
      "20000 : 27000.0\n",
      "30000 : 27000.0\n",
      "40000 : 26000.0\n",
      "50000 : 23000.0\n",
      "60000 : 20000.0\n",
      "70000 : 22000.0\n",
      "80000 : 16000.0\n",
      "90000 : 16000.0\n",
      "100000 : 15000.0\n",
      "125000 : 12000.0\n",
      "150000 : 6000.0\n",
      "90K/40K price ratio: 0.6\n",
      "\n",
      "bmw :\n",
      "price            8367.863788\n",
      "odometer_km    132490.677134\n",
      "dtype: float64\n",
      "5000 : 10000.0\n",
      "10000 : 31000.0\n",
      "20000 : 27000.0\n",
      "30000 : 24000.0\n",
      "40000 : 25000.0\n",
      "50000 : 24000.0\n",
      "60000 : 21000.0\n",
      "70000 : 17000.0\n",
      "80000 : 16000.0\n",
      "90000 : 15000.0\n",
      "100000 : 13000.0\n",
      "125000 : 11000.0\n",
      "150000 : 6000.0\n",
      "90K/40K price ratio: 0.6\n",
      "\n",
      "fiat :\n",
      "price            2830.815946\n",
      "odometer_km    116849.024597\n",
      "dtype: float64\n",
      "5000 : 5000.0\n",
      "10000 : 10000.0\n",
      "20000 : 7000.0\n",
      "30000 : 8000.0\n",
      "40000 : 7000.0\n",
      "50000 : 5000.0\n",
      "60000 : 5000.0\n",
      "70000 : 5000.0\n",
      "80000 : 4000.0\n",
      "90000 : 4000.0\n",
      "100000 : 3000.0\n",
      "125000 : 2000.0\n",
      "150000 : 2000.0\n",
      "90K/40K price ratio: 0.5\n",
      "\n",
      "ford :\n",
      "price            3790.819059\n",
      "odometer_km    124051.697291\n",
      "dtype: float64\n",
      "5000 : 8000.0\n",
      "10000 : 16000.0\n",
      "20000 : 12000.0\n",
      "30000 : 13000.0\n",
      "40000 : 10000.0\n",
      "50000 : 10000.0\n",
      "60000 : 7000.0\n",
      "70000 : 8000.0\n",
      "80000 : 6000.0\n",
      "90000 : 4000.0\n",
      "100000 : 5000.0\n",
      "125000 : 4000.0\n",
      "150000 : 2000.0\n",
      "90K/40K price ratio: 0.4\n",
      "\n",
      "mercedes_benz :\n",
      "price            8681.313299\n",
      "odometer_km    130638.035434\n",
      "dtype: float64\n",
      "5000 : 11000.0\n",
      "10000 : 29000.0\n",
      "20000 : 28000.0\n",
      "30000 : 19000.0\n",
      "40000 : 28000.0\n",
      "50000 : 24000.0\n",
      "60000 : 22000.0\n",
      "70000 : 17000.0\n",
      "80000 : 16000.0\n",
      "90000 : 16000.0\n",
      "100000 : 14000.0\n",
      "125000 : 10000.0\n",
      "150000 : 6000.0\n",
      "90K/40K price ratio: 0.6\n",
      "\n",
      "opel :\n",
      "price            2996.046644\n",
      "odometer_km    129196.917461\n",
      "dtype: float64\n",
      "5000 : 4000.0\n",
      "10000 : 12000.0\n",
      "20000 : 9000.0\n",
      "30000 : 11000.0\n",
      "40000 : 9000.0\n",
      "50000 : 9000.0\n",
      "60000 : 7000.0\n",
      "70000 : 8000.0\n",
      "80000 : 6000.0\n",
      "90000 : 4000.0\n",
      "100000 : 5000.0\n",
      "125000 : 3000.0\n",
      "150000 : 2000.0\n",
      "90K/40K price ratio: 0.5\n",
      "\n",
      "peugeot :\n",
      "price            3108.575492\n",
      "odometer_km    126867.250182\n",
      "dtype: float64\n",
      "5000 : 3000.0\n",
      "10000 : 13000.0\n",
      "20000 : 5000.0\n",
      "30000 : 12000.0\n",
      "40000 : 10000.0\n",
      "50000 : 8000.0\n",
      "60000 : 6000.0\n",
      "70000 : 7000.0\n",
      "80000 : 5000.0\n",
      "90000 : 4000.0\n",
      "100000 : 5000.0\n",
      "125000 : 4000.0\n",
      "150000 : 2000.0\n",
      "90K/40K price ratio: 0.4\n",
      "\n",
      "renault :\n",
      "price            2493.956181\n",
      "odometer_km    127984.317343\n",
      "dtype: float64\n",
      "5000 : 5000.0\n",
      "10000 : 8000.0\n",
      "20000 : 9000.0\n",
      "30000 : 12000.0\n",
      "40000 : 7000.0\n",
      "50000 : 7000.0\n",
      "60000 : 7000.0\n",
      "70000 : 6000.0\n",
      "80000 : 4000.0\n",
      "90000 : 4000.0\n",
      "100000 : 3000.0\n",
      "125000 : 2000.0\n",
      "150000 : 2000.0\n",
      "90K/40K price ratio: 0.5\n",
      "\n",
      "seat :\n",
      "price            4443.226347\n",
      "odometer_km    120838.323353\n",
      "dtype: float64\n",
      "5000 : 6000.0\n",
      "10000 : 20000.0\n",
      "20000 : 11000.0\n",
      "30000 : 15000.0\n",
      "40000 : 12000.0\n",
      "50000 : 10000.0\n",
      "60000 : 10000.0\n",
      "70000 : 8000.0\n",
      "80000 : 7000.0\n",
      "90000 : 6000.0\n",
      "100000 : 5000.0\n",
      "125000 : 4000.0\n",
      "150000 : 2000.0\n",
      "90K/40K price ratio: 0.5\n",
      "\n",
      "volkswagen :\n",
      "price            5444.281314\n",
      "odometer_km    128550.164813\n",
      "dtype: float64\n",
      "5000 : 4000.0\n",
      "10000 : 19000.0\n",
      "20000 : 17000.0\n",
      "30000 : 15000.0\n",
      "40000 : 16000.0\n",
      "50000 : 13000.0\n",
      "60000 : 13000.0\n",
      "70000 : 12000.0\n",
      "80000 : 11000.0\n",
      "90000 : 9000.0\n",
      "100000 : 8000.0\n",
      "125000 : 6000.0\n",
      "150000 : 4000.0\n",
      "90K/40K price ratio: 0.6\n",
      "\n"
     ]
    }
   ],
   "source": [
    "for b in sorted(top_brands):\n",
    "    brand_subset = autos[autos[\"brand\"] == b]\n",
    "    odometer_readings = np.sort(brand_subset[\"odometer_km\"].unique())\n",
    "    print(b,\":\")\n",
    "    print(brand_subset[[\"price\", \"odometer_km\"]].mean())\n",
    "    for r in odometer_readings:\n",
    "        odometer_subset = brand_subset[brand_subset[\"odometer_km\"] == r]\n",
    "        print(r,\":\", round(odometer_subset[\"price\"].mean(),-3))\n",
    "    price_40kkm = brand_subset.loc[brand_subset[\"odometer_km\"] == 40000, \"price\"].mean()\n",
    "    price_90kkm = brand_subset.loc[brand_subset[\"odometer_km\"] == 90000, \"price\"].mean()\n",
    "    print(\"90K/40K price ratio:\",\n",
    "         round(price_90kkm/price_40kkm,1))\n",
    "    print()\n"
   ]
  },
  {
   "cell_type": "markdown",
   "metadata": {},
   "source": [
    "As an alternative, lets display the aggreagated data as a data frame."
   ]
  },
  {
   "cell_type": "code",
   "execution_count": 68,
   "metadata": {},
   "outputs": [],
   "source": [
    "brand_data['90_40_price_ratio'] = np.NAN  #done to place early in column order\n",
    "odometer_readings = np.sort(autos[\"odometer_km\"].unique())    \n",
    "for r in odometer_readings:\n",
    "    odometer_subset = autos[autos[\"odometer_km\"] == r]\n",
    "    for b in brand_data.index:\n",
    "        brand_subset = odometer_subset[odometer_subset[\"brand\"] == b]\n",
    "        brand_data.loc[b,r] = round(brand_subset[\"price\"].mean(),-3)\n",
    "\n",
    "price_ratios = {}\n",
    "for b in brand_data.index:\n",
    "    price_ratios[b] = round(brand_data.loc[b,90000]/brand_data.loc[b,40000],2)\n",
    "    \n",
    "price_ratios = pd.Series(price_ratios)\n",
    "brand_data[\"90_40_price_ratio\"] = price_ratios"
   ]
  },
  {
   "cell_type": "code",
   "execution_count": 69,
   "metadata": {},
   "outputs": [
    {
     "data": {
      "text/html": [
       "<div>\n",
       "<style scoped>\n",
       "    .dataframe tbody tr th:only-of-type {\n",
       "        vertical-align: middle;\n",
       "    }\n",
       "\n",
       "    .dataframe tbody tr th {\n",
       "        vertical-align: top;\n",
       "    }\n",
       "\n",
       "    .dataframe thead th {\n",
       "        text-align: right;\n",
       "    }\n",
       "</style>\n",
       "<table border=\"1\" class=\"dataframe\">\n",
       "  <thead>\n",
       "    <tr style=\"text-align: right;\">\n",
       "      <th></th>\n",
       "      <th>mean_price</th>\n",
       "      <th>mean_odometer</th>\n",
       "      <th>odometer_normalized_price</th>\n",
       "      <th>90_40_price_ratio</th>\n",
       "      <th>5000</th>\n",
       "      <th>10000</th>\n",
       "      <th>20000</th>\n",
       "      <th>30000</th>\n",
       "      <th>40000</th>\n",
       "      <th>50000</th>\n",
       "      <th>60000</th>\n",
       "      <th>70000</th>\n",
       "      <th>80000</th>\n",
       "      <th>90000</th>\n",
       "      <th>100000</th>\n",
       "      <th>125000</th>\n",
       "      <th>150000</th>\n",
       "    </tr>\n",
       "  </thead>\n",
       "  <tbody>\n",
       "    <tr>\n",
       "      <th>volkswagen</th>\n",
       "      <td>5444.281314</td>\n",
       "      <td>128550.164813</td>\n",
       "      <td>42.351415</td>\n",
       "      <td>0.56</td>\n",
       "      <td>4000.0</td>\n",
       "      <td>19000.0</td>\n",
       "      <td>17000.0</td>\n",
       "      <td>15000.0</td>\n",
       "      <td>16000.0</td>\n",
       "      <td>13000.0</td>\n",
       "      <td>13000.0</td>\n",
       "      <td>12000.0</td>\n",
       "      <td>11000.0</td>\n",
       "      <td>9000.0</td>\n",
       "      <td>8000.0</td>\n",
       "      <td>6000.0</td>\n",
       "      <td>4000.0</td>\n",
       "    </tr>\n",
       "    <tr>\n",
       "      <th>bmw</th>\n",
       "      <td>8367.863788</td>\n",
       "      <td>132490.677134</td>\n",
       "      <td>63.158133</td>\n",
       "      <td>0.60</td>\n",
       "      <td>10000.0</td>\n",
       "      <td>31000.0</td>\n",
       "      <td>27000.0</td>\n",
       "      <td>24000.0</td>\n",
       "      <td>25000.0</td>\n",
       "      <td>24000.0</td>\n",
       "      <td>21000.0</td>\n",
       "      <td>17000.0</td>\n",
       "      <td>16000.0</td>\n",
       "      <td>15000.0</td>\n",
       "      <td>13000.0</td>\n",
       "      <td>11000.0</td>\n",
       "      <td>6000.0</td>\n",
       "    </tr>\n",
       "    <tr>\n",
       "      <th>opel</th>\n",
       "      <td>2996.046644</td>\n",
       "      <td>129196.917461</td>\n",
       "      <td>23.189769</td>\n",
       "      <td>0.44</td>\n",
       "      <td>4000.0</td>\n",
       "      <td>12000.0</td>\n",
       "      <td>9000.0</td>\n",
       "      <td>11000.0</td>\n",
       "      <td>9000.0</td>\n",
       "      <td>9000.0</td>\n",
       "      <td>7000.0</td>\n",
       "      <td>8000.0</td>\n",
       "      <td>6000.0</td>\n",
       "      <td>4000.0</td>\n",
       "      <td>5000.0</td>\n",
       "      <td>3000.0</td>\n",
       "      <td>2000.0</td>\n",
       "    </tr>\n",
       "    <tr>\n",
       "      <th>mercedes_benz</th>\n",
       "      <td>8681.313299</td>\n",
       "      <td>130638.035434</td>\n",
       "      <td>66.453183</td>\n",
       "      <td>0.57</td>\n",
       "      <td>11000.0</td>\n",
       "      <td>29000.0</td>\n",
       "      <td>28000.0</td>\n",
       "      <td>19000.0</td>\n",
       "      <td>28000.0</td>\n",
       "      <td>24000.0</td>\n",
       "      <td>22000.0</td>\n",
       "      <td>17000.0</td>\n",
       "      <td>16000.0</td>\n",
       "      <td>16000.0</td>\n",
       "      <td>14000.0</td>\n",
       "      <td>10000.0</td>\n",
       "      <td>6000.0</td>\n",
       "    </tr>\n",
       "    <tr>\n",
       "      <th>audi</th>\n",
       "      <td>9387.175119</td>\n",
       "      <td>129056.957282</td>\n",
       "      <td>72.736684</td>\n",
       "      <td>0.62</td>\n",
       "      <td>16000.0</td>\n",
       "      <td>28000.0</td>\n",
       "      <td>27000.0</td>\n",
       "      <td>27000.0</td>\n",
       "      <td>26000.0</td>\n",
       "      <td>23000.0</td>\n",
       "      <td>20000.0</td>\n",
       "      <td>22000.0</td>\n",
       "      <td>16000.0</td>\n",
       "      <td>16000.0</td>\n",
       "      <td>15000.0</td>\n",
       "      <td>12000.0</td>\n",
       "      <td>6000.0</td>\n",
       "    </tr>\n",
       "    <tr>\n",
       "      <th>ford</th>\n",
       "      <td>3790.819059</td>\n",
       "      <td>124051.697291</td>\n",
       "      <td>30.558381</td>\n",
       "      <td>0.40</td>\n",
       "      <td>8000.0</td>\n",
       "      <td>16000.0</td>\n",
       "      <td>12000.0</td>\n",
       "      <td>13000.0</td>\n",
       "      <td>10000.0</td>\n",
       "      <td>10000.0</td>\n",
       "      <td>7000.0</td>\n",
       "      <td>8000.0</td>\n",
       "      <td>6000.0</td>\n",
       "      <td>4000.0</td>\n",
       "      <td>5000.0</td>\n",
       "      <td>4000.0</td>\n",
       "      <td>2000.0</td>\n",
       "    </tr>\n",
       "    <tr>\n",
       "      <th>renault</th>\n",
       "      <td>2493.956181</td>\n",
       "      <td>127984.317343</td>\n",
       "      <td>19.486420</td>\n",
       "      <td>0.57</td>\n",
       "      <td>5000.0</td>\n",
       "      <td>8000.0</td>\n",
       "      <td>9000.0</td>\n",
       "      <td>12000.0</td>\n",
       "      <td>7000.0</td>\n",
       "      <td>7000.0</td>\n",
       "      <td>7000.0</td>\n",
       "      <td>6000.0</td>\n",
       "      <td>4000.0</td>\n",
       "      <td>4000.0</td>\n",
       "      <td>3000.0</td>\n",
       "      <td>2000.0</td>\n",
       "      <td>2000.0</td>\n",
       "    </tr>\n",
       "    <tr>\n",
       "      <th>peugeot</th>\n",
       "      <td>3108.575492</td>\n",
       "      <td>126867.250182</td>\n",
       "      <td>24.502584</td>\n",
       "      <td>0.40</td>\n",
       "      <td>3000.0</td>\n",
       "      <td>13000.0</td>\n",
       "      <td>5000.0</td>\n",
       "      <td>12000.0</td>\n",
       "      <td>10000.0</td>\n",
       "      <td>8000.0</td>\n",
       "      <td>6000.0</td>\n",
       "      <td>7000.0</td>\n",
       "      <td>5000.0</td>\n",
       "      <td>4000.0</td>\n",
       "      <td>5000.0</td>\n",
       "      <td>4000.0</td>\n",
       "      <td>2000.0</td>\n",
       "    </tr>\n",
       "    <tr>\n",
       "      <th>fiat</th>\n",
       "      <td>2830.815946</td>\n",
       "      <td>116849.024597</td>\n",
       "      <td>24.226269</td>\n",
       "      <td>0.57</td>\n",
       "      <td>5000.0</td>\n",
       "      <td>10000.0</td>\n",
       "      <td>7000.0</td>\n",
       "      <td>8000.0</td>\n",
       "      <td>7000.0</td>\n",
       "      <td>5000.0</td>\n",
       "      <td>5000.0</td>\n",
       "      <td>5000.0</td>\n",
       "      <td>4000.0</td>\n",
       "      <td>4000.0</td>\n",
       "      <td>3000.0</td>\n",
       "      <td>2000.0</td>\n",
       "      <td>2000.0</td>\n",
       "    </tr>\n",
       "    <tr>\n",
       "      <th>seat</th>\n",
       "      <td>4443.226347</td>\n",
       "      <td>120838.323353</td>\n",
       "      <td>36.770010</td>\n",
       "      <td>0.50</td>\n",
       "      <td>6000.0</td>\n",
       "      <td>20000.0</td>\n",
       "      <td>11000.0</td>\n",
       "      <td>15000.0</td>\n",
       "      <td>12000.0</td>\n",
       "      <td>10000.0</td>\n",
       "      <td>10000.0</td>\n",
       "      <td>8000.0</td>\n",
       "      <td>7000.0</td>\n",
       "      <td>6000.0</td>\n",
       "      <td>5000.0</td>\n",
       "      <td>4000.0</td>\n",
       "      <td>2000.0</td>\n",
       "    </tr>\n",
       "  </tbody>\n",
       "</table>\n",
       "</div>"
      ],
      "text/plain": [
       "                mean_price  mean_odometer  odometer_normalized_price  \\\n",
       "volkswagen     5444.281314  128550.164813                  42.351415   \n",
       "bmw            8367.863788  132490.677134                  63.158133   \n",
       "opel           2996.046644  129196.917461                  23.189769   \n",
       "mercedes_benz  8681.313299  130638.035434                  66.453183   \n",
       "audi           9387.175119  129056.957282                  72.736684   \n",
       "ford           3790.819059  124051.697291                  30.558381   \n",
       "renault        2493.956181  127984.317343                  19.486420   \n",
       "peugeot        3108.575492  126867.250182                  24.502584   \n",
       "fiat           2830.815946  116849.024597                  24.226269   \n",
       "seat           4443.226347  120838.323353                  36.770010   \n",
       "\n",
       "               90_40_price_ratio     5000    10000    20000    30000    40000  \\\n",
       "volkswagen                  0.56   4000.0  19000.0  17000.0  15000.0  16000.0   \n",
       "bmw                         0.60  10000.0  31000.0  27000.0  24000.0  25000.0   \n",
       "opel                        0.44   4000.0  12000.0   9000.0  11000.0   9000.0   \n",
       "mercedes_benz               0.57  11000.0  29000.0  28000.0  19000.0  28000.0   \n",
       "audi                        0.62  16000.0  28000.0  27000.0  27000.0  26000.0   \n",
       "ford                        0.40   8000.0  16000.0  12000.0  13000.0  10000.0   \n",
       "renault                     0.57   5000.0   8000.0   9000.0  12000.0   7000.0   \n",
       "peugeot                     0.40   3000.0  13000.0   5000.0  12000.0  10000.0   \n",
       "fiat                        0.57   5000.0  10000.0   7000.0   8000.0   7000.0   \n",
       "seat                        0.50   6000.0  20000.0  11000.0  15000.0  12000.0   \n",
       "\n",
       "                 50000    60000    70000    80000    90000   100000   125000  \\\n",
       "volkswagen     13000.0  13000.0  12000.0  11000.0   9000.0   8000.0   6000.0   \n",
       "bmw            24000.0  21000.0  17000.0  16000.0  15000.0  13000.0  11000.0   \n",
       "opel            9000.0   7000.0   8000.0   6000.0   4000.0   5000.0   3000.0   \n",
       "mercedes_benz  24000.0  22000.0  17000.0  16000.0  16000.0  14000.0  10000.0   \n",
       "audi           23000.0  20000.0  22000.0  16000.0  16000.0  15000.0  12000.0   \n",
       "ford           10000.0   7000.0   8000.0   6000.0   4000.0   5000.0   4000.0   \n",
       "renault         7000.0   7000.0   6000.0   4000.0   4000.0   3000.0   2000.0   \n",
       "peugeot         8000.0   6000.0   7000.0   5000.0   4000.0   5000.0   4000.0   \n",
       "fiat            5000.0   5000.0   5000.0   4000.0   4000.0   3000.0   2000.0   \n",
       "seat           10000.0  10000.0   8000.0   7000.0   6000.0   5000.0   4000.0   \n",
       "\n",
       "               150000  \n",
       "volkswagen     4000.0  \n",
       "bmw            6000.0  \n",
       "opel           2000.0  \n",
       "mercedes_benz  6000.0  \n",
       "audi           6000.0  \n",
       "ford           2000.0  \n",
       "renault        2000.0  \n",
       "peugeot        2000.0  \n",
       "fiat           2000.0  \n",
       "seat           2000.0  "
      ]
     },
     "execution_count": 69,
     "metadata": {},
     "output_type": "execute_result"
    }
   ],
   "source": [
    "brand_data"
   ]
  },
  {
   "cell_type": "markdown",
   "metadata": {},
   "source": [
    "Notice that the prices for the lowest mileage cars are unusually low, lower than for higher mileage cars. One hypothesis is that these tend to be wrecked cars with unrepaired damage. This could be investigated with the available data; I will instead undertake a different analysis of the prices of damaged vs undamaged cars later in this notebook.\n",
    "\n",
    "I've experimented with finding a quick metric for comparing depreciation among brands. For each brand, I've computed the ratio of mean price for 40,000km vehicles with those for 90,000km.\n",
    "\n",
    "Between 40,000km and 90,000km:\n",
    "* Audi and BMW cars loose ~40% of their value \n",
    "* Mercedes, Volkswagon and Renault loose ~43%\n",
    "* Fiat, Ford, Open, Peugeot loose >55% of their value"
   ]
  },
  {
   "cell_type": "markdown",
   "metadata": {},
   "source": [
    "## Damaged Cars"
   ]
  },
  {
   "cell_type": "code",
   "execution_count": 70,
   "metadata": {},
   "outputs": [],
   "source": [
    "damaged = autos[autos[\"unrepaired_damage\"] == \"yes\"]\n",
    "undamaged = autos[autos[\"unrepaired_damage\"] == \"no\"]"
   ]
  },
  {
   "cell_type": "code",
   "execution_count": 71,
   "metadata": {},
   "outputs": [
    {
     "name": "stdout",
     "output_type": "stream",
     "text": [
      "Mean Damaged Price: 2260.0\n",
      "Mean Undamaged Price: 7200.0\n"
     ]
    }
   ],
   "source": [
    "print(\"Mean Damaged Price:\", round(damaged[\"price\"].mean(),-1))\n",
    "print(\"Mean Undamaged Price:\", round(undamaged[\"price\"].mean(),-1))"
   ]
  },
  {
   "cell_type": "markdown",
   "metadata": {},
   "source": [
    "Cars with unrepaired damage sell, on average, for less than 1/3 the price of cars without unrepaired damage.\n",
    "\n",
    "We can also look at price differences for damaged cars on a model by model basis."
   ]
  },
  {
   "cell_type": "code",
   "execution_count": 72,
   "metadata": {
    "scrolled": true
   },
   "outputs": [
    {
     "data": {
      "text/plain": [
       "brand_model     unrepaired_damage\n",
       "alfa_romeo/145  no                    2750.000000\n",
       "alfa_romeo/147  no                    2722.854545\n",
       "                yes                   1286.846154\n",
       "alfa_romeo/156  no                    1689.516667\n",
       "                yes                   1190.388889\n",
       "                                         ...     \n",
       "volvo/v60       no                   21000.000000\n",
       "volvo/v70       no                    5009.258065\n",
       "                yes                   1570.615385\n",
       "volvo/xc_reihe  no                   13378.673913\n",
       "                yes                  11450.000000\n",
       "Name: price, Length: 524, dtype: float64"
      ]
     },
     "execution_count": 72,
     "metadata": {},
     "output_type": "execute_result"
    }
   ],
   "source": [
    "autos.groupby([\"brand_model\",\"unrepaired_damage\"])[\"price\"].mean()"
   ]
  },
  {
   "cell_type": "markdown",
   "metadata": {},
   "source": [
    "Another way of doing it..."
   ]
  },
  {
   "cell_type": "code",
   "execution_count": 73,
   "metadata": {},
   "outputs": [
    {
     "data": {
      "text/html": [
       "<div>\n",
       "<style scoped>\n",
       "    .dataframe tbody tr th:only-of-type {\n",
       "        vertical-align: middle;\n",
       "    }\n",
       "\n",
       "    .dataframe tbody tr th {\n",
       "        vertical-align: top;\n",
       "    }\n",
       "\n",
       "    .dataframe thead th {\n",
       "        text-align: right;\n",
       "    }\n",
       "</style>\n",
       "<table border=\"1\" class=\"dataframe\">\n",
       "  <thead>\n",
       "    <tr style=\"text-align: right;\">\n",
       "      <th></th>\n",
       "      <th>mean_undamaged_price</th>\n",
       "      <th>mean_damaged_price</th>\n",
       "    </tr>\n",
       "    <tr>\n",
       "      <th>brand_model</th>\n",
       "      <th></th>\n",
       "      <th></th>\n",
       "    </tr>\n",
       "  </thead>\n",
       "  <tbody>\n",
       "    <tr>\n",
       "      <th>alfa_romeo/145</th>\n",
       "      <td>2750.000000</td>\n",
       "      <td>NaN</td>\n",
       "    </tr>\n",
       "    <tr>\n",
       "      <th>alfa_romeo/147</th>\n",
       "      <td>2722.854545</td>\n",
       "      <td>1286.846154</td>\n",
       "    </tr>\n",
       "    <tr>\n",
       "      <th>alfa_romeo/156</th>\n",
       "      <td>1689.516667</td>\n",
       "      <td>1190.388889</td>\n",
       "    </tr>\n",
       "    <tr>\n",
       "      <th>alfa_romeo/159</th>\n",
       "      <td>6659.653846</td>\n",
       "      <td>7800.000000</td>\n",
       "    </tr>\n",
       "    <tr>\n",
       "      <th>alfa_romeo/other</th>\n",
       "      <td>8204.046512</td>\n",
       "      <td>3548.625000</td>\n",
       "    </tr>\n",
       "    <tr>\n",
       "      <th>...</th>\n",
       "      <td>...</td>\n",
       "      <td>...</td>\n",
       "    </tr>\n",
       "    <tr>\n",
       "      <th>volvo/v40</th>\n",
       "      <td>2227.868852</td>\n",
       "      <td>756.461538</td>\n",
       "    </tr>\n",
       "    <tr>\n",
       "      <th>volvo/v50</th>\n",
       "      <td>5545.375000</td>\n",
       "      <td>3495.000000</td>\n",
       "    </tr>\n",
       "    <tr>\n",
       "      <th>volvo/v60</th>\n",
       "      <td>21000.000000</td>\n",
       "      <td>NaN</td>\n",
       "    </tr>\n",
       "    <tr>\n",
       "      <th>volvo/v70</th>\n",
       "      <td>5009.258065</td>\n",
       "      <td>1570.615385</td>\n",
       "    </tr>\n",
       "    <tr>\n",
       "      <th>volvo/xc_reihe</th>\n",
       "      <td>13378.673913</td>\n",
       "      <td>11450.000000</td>\n",
       "    </tr>\n",
       "  </tbody>\n",
       "</table>\n",
       "<p>287 rows × 2 columns</p>\n",
       "</div>"
      ],
      "text/plain": [
       "                  mean_undamaged_price  mean_damaged_price\n",
       "brand_model                                               \n",
       "alfa_romeo/145             2750.000000                 NaN\n",
       "alfa_romeo/147             2722.854545         1286.846154\n",
       "alfa_romeo/156             1689.516667         1190.388889\n",
       "alfa_romeo/159             6659.653846         7800.000000\n",
       "alfa_romeo/other           8204.046512         3548.625000\n",
       "...                                ...                 ...\n",
       "volvo/v40                  2227.868852          756.461538\n",
       "volvo/v50                  5545.375000         3495.000000\n",
       "volvo/v60                 21000.000000                 NaN\n",
       "volvo/v70                  5009.258065         1570.615385\n",
       "volvo/xc_reihe            13378.673913        11450.000000\n",
       "\n",
       "[287 rows x 2 columns]"
      ]
     },
     "execution_count": 73,
     "metadata": {},
     "output_type": "execute_result"
    }
   ],
   "source": [
    "damaged_comparison = pd.DataFrame(undamaged.groupby(\"brand_model\")[\"price\"].mean())\n",
    "damaged_comparison.rename({\"price\": \"mean_undamaged_price\"}, axis=1, inplace=True)\n",
    "damaged_comparison[\"mean_damaged_price\"] = damaged.groupby(\"brand_model\")[\"price\"].mean()\n",
    "damaged_comparison"
   ]
  },
  {
   "cell_type": "code",
   "execution_count": 74,
   "metadata": {
    "scrolled": true
   },
   "outputs": [
    {
     "data": {
      "text/html": [
       "<div>\n",
       "<style scoped>\n",
       "    .dataframe tbody tr th:only-of-type {\n",
       "        vertical-align: middle;\n",
       "    }\n",
       "\n",
       "    .dataframe tbody tr th {\n",
       "        vertical-align: top;\n",
       "    }\n",
       "\n",
       "    .dataframe thead th {\n",
       "        text-align: right;\n",
       "    }\n",
       "</style>\n",
       "<table border=\"1\" class=\"dataframe\">\n",
       "  <thead>\n",
       "    <tr style=\"text-align: right;\">\n",
       "      <th></th>\n",
       "      <th>mean_undamaged_price</th>\n",
       "      <th>mean_damaged_price</th>\n",
       "    </tr>\n",
       "    <tr>\n",
       "      <th>brand_model</th>\n",
       "      <th></th>\n",
       "      <th></th>\n",
       "    </tr>\n",
       "  </thead>\n",
       "  <tbody>\n",
       "    <tr>\n",
       "      <th>saab/9000</th>\n",
       "      <td>2912.250000</td>\n",
       "      <td>200.000000</td>\n",
       "    </tr>\n",
       "    <tr>\n",
       "      <th>seat/leon</th>\n",
       "      <td>8999.803922</td>\n",
       "      <td>3861.461538</td>\n",
       "    </tr>\n",
       "    <tr>\n",
       "      <th>land_rover/discovery</th>\n",
       "      <td>15154.363636</td>\n",
       "      <td>1725.000000</td>\n",
       "    </tr>\n",
       "    <tr>\n",
       "      <th>kia/sportage</th>\n",
       "      <td>12591.702128</td>\n",
       "      <td>1200.000000</td>\n",
       "    </tr>\n",
       "    <tr>\n",
       "      <th>alfa_romeo/147</th>\n",
       "      <td>2722.854545</td>\n",
       "      <td>1286.846154</td>\n",
       "    </tr>\n",
       "    <tr>\n",
       "      <th>honda/civic</th>\n",
       "      <td>4067.247706</td>\n",
       "      <td>846.812500</td>\n",
       "    </tr>\n",
       "    <tr>\n",
       "      <th>rover/other</th>\n",
       "      <td>1304.212121</td>\n",
       "      <td>820.555556</td>\n",
       "    </tr>\n",
       "    <tr>\n",
       "      <th>land_rover/range_rover</th>\n",
       "      <td>25411.428571</td>\n",
       "      <td>1800.000000</td>\n",
       "    </tr>\n",
       "    <tr>\n",
       "      <th>seat/other</th>\n",
       "      <td>1612.727273</td>\n",
       "      <td>399.666667</td>\n",
       "    </tr>\n",
       "    <tr>\n",
       "      <th>jaguar/x_type</th>\n",
       "      <td>10132.000000</td>\n",
       "      <td>1424.750000</td>\n",
       "    </tr>\n",
       "    <tr>\n",
       "      <th>renault/espace</th>\n",
       "      <td>3495.120000</td>\n",
       "      <td>648.333333</td>\n",
       "    </tr>\n",
       "    <tr>\n",
       "      <th>mercedes_benz/v_klasse</th>\n",
       "      <td>15362.250000</td>\n",
       "      <td>3512.250000</td>\n",
       "    </tr>\n",
       "    <tr>\n",
       "      <th>volkswagen/sharan</th>\n",
       "      <td>6684.231707</td>\n",
       "      <td>5235.214286</td>\n",
       "    </tr>\n",
       "    <tr>\n",
       "      <th>volkswagen/transporter</th>\n",
       "      <td>11924.129225</td>\n",
       "      <td>4932.614035</td>\n",
       "    </tr>\n",
       "    <tr>\n",
       "      <th>trabant/other</th>\n",
       "      <td>3009.800000</td>\n",
       "      <td>NaN</td>\n",
       "    </tr>\n",
       "    <tr>\n",
       "      <th>kia/sorento</th>\n",
       "      <td>9139.153846</td>\n",
       "      <td>3549.800000</td>\n",
       "    </tr>\n",
       "    <tr>\n",
       "      <th>mercedes_benz/other</th>\n",
       "      <td>11804.480874</td>\n",
       "      <td>4206.064516</td>\n",
       "    </tr>\n",
       "    <tr>\n",
       "      <th>audi/q7</th>\n",
       "      <td>22040.184211</td>\n",
       "      <td>11950.000000</td>\n",
       "    </tr>\n",
       "    <tr>\n",
       "      <th>mercedes_benz/clk</th>\n",
       "      <td>6881.747368</td>\n",
       "      <td>2981.538462</td>\n",
       "    </tr>\n",
       "    <tr>\n",
       "      <th>ford/ka</th>\n",
       "      <td>1806.710000</td>\n",
       "      <td>472.270833</td>\n",
       "    </tr>\n",
       "  </tbody>\n",
       "</table>\n",
       "</div>"
      ],
      "text/plain": [
       "                        mean_undamaged_price  mean_damaged_price\n",
       "brand_model                                                     \n",
       "saab/9000                        2912.250000          200.000000\n",
       "seat/leon                        8999.803922         3861.461538\n",
       "land_rover/discovery            15154.363636         1725.000000\n",
       "kia/sportage                    12591.702128         1200.000000\n",
       "alfa_romeo/147                   2722.854545         1286.846154\n",
       "honda/civic                      4067.247706          846.812500\n",
       "rover/other                      1304.212121          820.555556\n",
       "land_rover/range_rover          25411.428571         1800.000000\n",
       "seat/other                       1612.727273          399.666667\n",
       "jaguar/x_type                   10132.000000         1424.750000\n",
       "renault/espace                   3495.120000          648.333333\n",
       "mercedes_benz/v_klasse          15362.250000         3512.250000\n",
       "volkswagen/sharan                6684.231707         5235.214286\n",
       "volkswagen/transporter          11924.129225         4932.614035\n",
       "trabant/other                    3009.800000                 NaN\n",
       "kia/sorento                      9139.153846         3549.800000\n",
       "mercedes_benz/other             11804.480874         4206.064516\n",
       "audi/q7                         22040.184211        11950.000000\n",
       "mercedes_benz/clk                6881.747368         2981.538462\n",
       "ford/ka                          1806.710000          472.270833"
      ]
     },
     "execution_count": 74,
     "metadata": {},
     "output_type": "execute_result"
    }
   ],
   "source": [
    "damaged_comparison.sample(20)"
   ]
  },
  {
   "cell_type": "markdown",
   "metadata": {},
   "source": [
    "Not surprisingly damaged cars tend to sell for significantly less than undamaged cars. However, this is not universally true. Deeper analysis could be undertaken to try to explain the unexpected results. One hypothesis is that there are a relatively small number of cars in many of the make/model categories and that the comparison may be skewed by differences in odometer reading and other factors, including the extent of the damage."
   ]
  },
  {
   "cell_type": "markdown",
   "metadata": {},
   "source": [
    "## In Summary"
   ]
  },
  {
   "cell_type": "markdown",
   "metadata": {},
   "source": [
    "* The dataset included a number of unusual values in a variety of columns. These values were investigated, in context, and some rows containing implausible values were dropped. In the end we retained 46,058 records out of the initial 50,000.\n",
    "  * Dropped rows with prices higher than \\\\$900K\n",
    "  * Dropped rows with registration years more recent than 2016, which is when the crawl was performed, and earlier than 1927 which I judged, based on the content of listings, to be the most recent legitimate registration year.\n",
    "  *\n",
    "* The average car sold was ~15 years old.\n",
    "* 75\\% of cars sold were at least 8 years old.\n",
    "* The mean price for cars in the dataset (after clearning) is \\\\$6,002.\n",
    "* The five most common brands are, in order Volkswagon, BMW, Opel, Mercedes Benz, and Audi.\n",
    "* - Audi, BMW and Mercedes command a premium.\n",
    "\n",
    "Reccomendations:\n",
    "\n",
    "This dataset has some holes and inconsistences, some of which point to deficiencies in eBay's listing-creation tools.\n",
    "\n",
    "One prominent example is that \"Other\" is one of the top-3 models for many car brands. Accurately capturing the model of the car is important for sellers, buyers and anyone else drawing on the data. Correctly capturing the model helps sellers establish a good estimate of the market price for their vehicle and that it reaches the largest number of potential buyers. Recording the correct model helps buyers find all the cars that meet their requirements and interests."
   ]
  },
  {
   "cell_type": "code",
   "execution_count": null,
   "metadata": {},
   "outputs": [],
   "source": []
  }
 ],
 "metadata": {
  "kernelspec": {
   "display_name": "Python 3",
   "language": "python",
   "name": "python3"
  },
  "language_info": {
   "codemirror_mode": {
    "name": "ipython",
    "version": 3
   },
   "file_extension": ".py",
   "mimetype": "text/x-python",
   "name": "python",
   "nbconvert_exporter": "python",
   "pygments_lexer": "ipython3",
   "version": "3.8.6"
  }
 },
 "nbformat": 4,
 "nbformat_minor": 2
}
