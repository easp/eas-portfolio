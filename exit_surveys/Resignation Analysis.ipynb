{
 "cells": [
  {
   "cell_type": "markdown",
   "metadata": {},
   "source": [
    "# Employee Exit Survey Analysis"
   ]
  },
  {
   "cell_type": "markdown",
   "metadata": {},
   "source": [
    "## Summary"
   ]
  },
  {
   "cell_type": "markdown",
   "metadata": {},
   "source": [
    "I analyzed exit survy data from Department of Education, Training and Employment (DETE) and the Technical and Further Education (TAFE) institute in Queensland, Australia. \n",
    "\n",
    "The cleaned dataset had 651 rows attributed to either TAFE, or DETE.\n",
    "\n",
    "* 585 rows specified one or more reasons for the resignation.\n",
    "  * 486 (83%) cited reasons other than (but not excluding) job dissatisfaction.\n",
    "  * 240 (~40%) cited job dissatisfaction as one of the factors for their resignation\n",
    "    * Of those, 141 (~60%) also cited additional reasons for the resignation.\n",
    "    * 99 (~40%) cited only job dissatisfaction as reason for their resignation.\n",
    "* Resignation dates range from 2006 to 2014.\n",
    "\n",
    "__I found that:__\n",
    "\n",
    "* Resignations increased by more than a factor of 100 starting in 2010.\n",
    "  * From 2004 to 2009 only three resignations are recorded.\n",
    "  * 632 resignations were recorded from 2010 onward.\n",
    "\n",
    "* Employees with 3 years of service or fewer were least likely to resign due to some kind of job dissatisfaction, vs other reasons.\n",
    "* Employees with 7-11 years of service are most likely to resign due to some kind of job dissatisfaction vs other reasons.\n",
    "\n",
    "* Across all age ranges, 38% of resignations involve some sort of job dissatisfaction.\n",
    "  * The youngest employees (<=25yo)'s resignations are least likely to involve job dissatisfaction.\n",
    "  * 42% of 26-30 year old employees resignations are likely to involve job dissatisfaction.\n",
    "  * Employees between 31 and 50 years of age are below or near average in resigning for reasons involving job dissatisfaction.\n",
    "  * Employees older than 51 years are more likely than average to resign for reasons involving job dissatisfaction.\n",
    "\n",
    "* Employees at DETE resign for reasons involving job dissatisfaction 48% of the time, while the figure for TAFE is 27%."
   ]
  },
  {
   "cell_type": "markdown",
   "metadata": {},
   "source": [
    "## Introduction\n",
    "\n",
    "This notebook details the analysis of employee exit surveys from DETE and TAFE.\n",
    "\n",
    "Data preparation and cleaning for this analysis was performed using [Resignation Data Cleaning and Preparation.ipynb](file:///Resignation%20Data%20Cleaning%20and%20Preparation.ipynb).\n",
    "\n",
    "In this project I'll try to answer the following questions:\n",
    "\n",
    "* Are employees who only worked for the institutes for a short period of time resigning due to some kind of dissatisfaction? What about employees who have been there longer?\n",
    "* Are younger employees resigning due to some kind of dissatisfaction? What about older employees?\n",
    "\n",
    "My analysis draws on exit surveys from Department of Education, Training and Employment (DETE) and the Technical and Further Education (TAFE) institute in Queensland, Australia.\n",
    "\n",
    "I don't have a complete data dictionary, so I'll have to rely on some general knowledge in interpreting the data.\n",
    "\n",
    "Below is a preview of a couple columns we'll work with from the dete_survey.csv:\n",
    "\n",
    "* `ID`: An id used to identify the participant of the survey\n",
    "* `SeparationType`: The reason why the person's employment ended\n",
    "* `Cease Date`: The year or month the person's employment ended\n",
    "* `DETE Start Date`: The year the person began employment with the DETE\n",
    "\n",
    "Below is a preview of a couple columns we'll work with from the tafe_survey.csv:\n",
    "\n",
    "* `Record ID`: An id used to identify the participant of the survey\n",
    "* `Reason for ceasing employment`: The reason why the person's employment ended\n",
    "* `LengthofServiceOverall. Overall Length of Service at Institute (in years)`: The length of the person's employment (in years)"
   ]
  },
  {
   "cell_type": "markdown",
   "metadata": {},
   "source": [
    "## Analysis"
   ]
  },
  {
   "cell_type": "markdown",
   "metadata": {},
   "source": [
    "### Import libraries and configure notebook options"
   ]
  },
  {
   "cell_type": "code",
   "execution_count": 1,
   "metadata": {},
   "outputs": [],
   "source": [
    "import matplotlib.pyplot as plt\n",
    "import numpy as np\n",
    "import pandas as pd\n",
    "import seaborn as sns\n",
    "%matplotlib inline\n",
    "%config InlineBackend.figure_format='retina' # Doubles chart resolution"
   ]
  },
  {
   "cell_type": "markdown",
   "metadata": {},
   "source": [
    "### Read in previously prepared data"
   ]
  },
  {
   "cell_type": "code",
   "execution_count": 2,
   "metadata": {},
   "outputs": [
    {
     "data": {
      "text/plain": [
       "651"
      ]
     },
     "execution_count": 2,
     "metadata": {},
     "output_type": "execute_result"
    }
   ],
   "source": [
    "combined_updated = pd.read_pickle('combined_updated.pickle')\n",
    "len(combined_updated)"
   ]
  },
  {
   "cell_type": "markdown",
   "metadata": {},
   "source": [
    "### Size of dataset"
   ]
  },
  {
   "cell_type": "code",
   "execution_count": 3,
   "metadata": {},
   "outputs": [
    {
     "data": {
      "text/plain": [
       "585"
      ]
     },
     "execution_count": 3,
     "metadata": {},
     "output_type": "execute_result"
    }
   ],
   "source": [
    "(combined_updated['dissatisfied'] | combined_updated['other_reasons']).sum()"
   ]
  },
  {
   "cell_type": "code",
   "execution_count": 4,
   "metadata": {},
   "outputs": [
    {
     "data": {
      "text/plain": [
       "240"
      ]
     },
     "execution_count": 4,
     "metadata": {},
     "output_type": "execute_result"
    }
   ],
   "source": [
    "combined_updated['dissatisfied'].sum()"
   ]
  },
  {
   "cell_type": "code",
   "execution_count": 5,
   "metadata": {},
   "outputs": [
    {
     "data": {
      "text/plain": [
       "486"
      ]
     },
     "execution_count": 5,
     "metadata": {},
     "output_type": "execute_result"
    }
   ],
   "source": [
    "combined_updated['other_reasons'].sum()"
   ]
  },
  {
   "cell_type": "code",
   "execution_count": 6,
   "metadata": {},
   "outputs": [
    {
     "data": {
      "text/plain": [
       "141"
      ]
     },
     "execution_count": 6,
     "metadata": {},
     "output_type": "execute_result"
    }
   ],
   "source": [
    "(combined_updated['dissatisfied'] & combined_updated['other_reasons']).sum()"
   ]
  },
  {
   "cell_type": "code",
   "execution_count": 7,
   "metadata": {},
   "outputs": [
    {
     "data": {
      "text/plain": [
       "99"
      ]
     },
     "execution_count": 7,
     "metadata": {},
     "output_type": "execute_result"
    }
   ],
   "source": [
    "(combined_updated['dissatisfied'] & ~combined_updated['other_reasons']).sum()"
   ]
  },
  {
   "cell_type": "markdown",
   "metadata": {},
   "source": [
    "The dataset has:\n",
    "\n",
    "* 585 rows which included at least one reason for the employees resignation.\n",
    "* 240 involved job dissatisfaction.\n",
    "* 486 involve other reasons.\n",
    "* 141 involved another reason, in addition to job dissatisfaction\n",
    "* 99 involve only job dissatisfaction."
   ]
  },
  {
   "cell_type": "markdown",
   "metadata": {},
   "source": [
    "### Distribution of Resignation Dates"
   ]
  },
  {
   "cell_type": "code",
   "execution_count": 8,
   "metadata": {},
   "outputs": [
    {
     "data": {
      "text/plain": [
       "2006.0      1\n",
       "2009.0      2\n",
       "2010.0     70\n",
       "2011.0    116\n",
       "2012.0    223\n",
       "2013.0    201\n",
       "2014.0     22\n",
       "Name: cease_date, dtype: int64"
      ]
     },
     "execution_count": 8,
     "metadata": {},
     "output_type": "execute_result"
    }
   ],
   "source": [
    "combined_updated['cease_date'].value_counts().sort_index()"
   ]
  },
  {
   "cell_type": "code",
   "execution_count": 9,
   "metadata": {},
   "outputs": [
    {
     "data": {
      "image/png": "[encoded data removed]",
      "text/plain": [
       "<Figure size 1152x288 with 3 Axes>"
      ]
     },
     "metadata": {
      "image/png": {
       "height": 263,
       "width": 959
      },
      "needs_background": "light"
     },
     "output_type": "display_data"
    }
   ],
   "source": [
    "fig, [ax1, ax2, ax3] = plt.subplots(1,3, figsize =(16,4))\n",
    "\n",
    "combined_updated['cease_date'].plot.hist(ax=ax1, bins=9, xlim=(2006,2014))\n",
    "ax1.spines['top'].set_visible(False)\n",
    "ax1.spines['left'].set_visible(False)\n",
    "ax1.spines['right'].set_visible(False)\n",
    "ax1.tick_params(left=False, bottom=False)\n",
    "ax1.set_title(\"All\")\n",
    "\n",
    "combined_updated[combined_updated['institute'] == 'TAFE']['cease_date'].plot.hist(ax=ax2, bins=9, xlim=(2006,2014))\n",
    "ax2.spines['top'].set_visible(False)\n",
    "ax2.spines['left'].set_visible(False)\n",
    "ax2.spines['right'].set_visible(False)\n",
    "ax2.tick_params(left=False, bottom=False)\n",
    "ax2.set_title(\"TAFE\")\n",
    "\n",
    "combined_updated[combined_updated['institute'] == 'DETE']['cease_date'].plot.hist(ax=ax3, bins=9, xlim=(2006,2014))\n",
    "ax3.spines['top'].set_visible(False)\n",
    "ax3.spines['left'].set_visible(False)\n",
    "ax3.spines['right'].set_visible(False)\n",
    "ax3.tick_params(left=False, bottom=False)\n",
    "ax3.set_title(\"DETE\")\n",
    "\n",
    "plt.show()"
   ]
  },
  {
   "cell_type": "markdown",
   "metadata": {},
   "source": [
    "This seems significant, but their meaning is unclear.\n",
    "\n",
    "They suggest that either:\n",
    "* The resignations in recent years increased dramatically, by more than a factor of ten.\n",
    "\n",
    "OR\n",
    "* The dataset doesnt' include all resignations for the years they cover and is not a random sample of the population of resignations.\n",
    "\n",
    "If its the latter, then much of the remaining analysis and any conclusions are likely to be flawed."
   ]
  },
  {
   "cell_type": "markdown",
   "metadata": {},
   "source": [
    "### Duration of Service"
   ]
  },
  {
   "cell_type": "code",
   "execution_count": 10,
   "metadata": {},
   "outputs": [
    {
     "data": {
      "text/plain": [
       "563"
      ]
     },
     "execution_count": 10,
     "metadata": {},
     "output_type": "execute_result"
    }
   ],
   "source": [
    "combined_updated['service_cat'].notnull().sum()"
   ]
  },
  {
   "cell_type": "markdown",
   "metadata": {},
   "source": [
    "563 rows had enough information to determine the duration of the employees service in their last position before their resignation. \n",
    "\n",
    "I categorized this information as follows:\n",
    "* New: Less than 3 years at a company\n",
    "* Experienced: 3-6 years at a company\n",
    "* Established: 7-10 years at a company\n",
    "* Veteran: 11 or more years at a company\n",
    "\n",
    "These categories were used for further aggregation and analysis."
   ]
  },
  {
   "cell_type": "code",
   "execution_count": 11,
   "metadata": {},
   "outputs": [
    {
     "data": {
      "text/html": [
       "<div>\n",
       "<style scoped>\n",
       "    .dataframe tbody tr th:only-of-type {\n",
       "        vertical-align: middle;\n",
       "    }\n",
       "\n",
       "    .dataframe tbody tr th {\n",
       "        vertical-align: top;\n",
       "    }\n",
       "\n",
       "    .dataframe thead th {\n",
       "        text-align: right;\n",
       "    }\n",
       "</style>\n",
       "<table border=\"1\" class=\"dataframe\">\n",
       "  <thead>\n",
       "    <tr style=\"text-align: right;\">\n",
       "      <th></th>\n",
       "      <th>percent dissatisfied</th>\n",
       "      <th>number dissatisfied</th>\n",
       "    </tr>\n",
       "    <tr>\n",
       "      <th>service_cat</th>\n",
       "      <th></th>\n",
       "      <th></th>\n",
       "    </tr>\n",
       "  </thead>\n",
       "  <tbody>\n",
       "    <tr>\n",
       "      <th>New</th>\n",
       "      <td>29.5</td>\n",
       "      <td>57</td>\n",
       "    </tr>\n",
       "    <tr>\n",
       "      <th>Experienced</th>\n",
       "      <td>34.3</td>\n",
       "      <td>59</td>\n",
       "    </tr>\n",
       "    <tr>\n",
       "      <th>Established</th>\n",
       "      <td>51.6</td>\n",
       "      <td>32</td>\n",
       "    </tr>\n",
       "    <tr>\n",
       "      <th>Veteran</th>\n",
       "      <td>48.5</td>\n",
       "      <td>66</td>\n",
       "    </tr>\n",
       "    <tr>\n",
       "      <th>All</th>\n",
       "      <td>38.0</td>\n",
       "      <td>214</td>\n",
       "    </tr>\n",
       "  </tbody>\n",
       "</table>\n",
       "</div>"
      ],
      "text/plain": [
       "             percent dissatisfied  number dissatisfied\n",
       "service_cat                                           \n",
       "New                          29.5                   57\n",
       "Experienced                  34.3                   59\n",
       "Established                  51.6                   32\n",
       "Veteran                      48.5                   66\n",
       "All                          38.0                  214"
      ]
     },
     "execution_count": 11,
     "metadata": {},
     "output_type": "execute_result"
    }
   ],
   "source": [
    "rows_in_order = ['New', 'Experienced', 'Established', 'Veteran', 'All']\n",
    "service_table = combined_updated.pivot_table('dissatisfied', index='service_cat', aggfunc=['mean', 'sum'], margins=True)\n",
    "service_table.columns = [\"percent dissatisfied\", \"number dissatisfied\"]\n",
    "service_table['percent dissatisfied'] = service_table['percent dissatisfied'].round(3)*100\n",
    "service_table = service_table.reindex(rows_in_order)\n",
    "service_table"
   ]
  },
  {
   "cell_type": "code",
   "execution_count": 12,
   "metadata": {},
   "outputs": [
    {
     "data": {
      "image/png": "[encoded data removed]",
      "text/plain": [
       "<Figure size 432x288 with 1 Axes>"
      ]
     },
     "metadata": {
      "image/png": {
       "height": 316,
       "width": 382
      },
      "needs_background": "light"
     },
     "output_type": "display_data"
    }
   ],
   "source": [
    "ax = (service_table['percent dissatisfied']).plot.bar(legend=False)\n",
    "ax.spines['top'].set_visible(False)\n",
    "ax.spines['left'].set_visible(False)\n",
    "ax.spines['right'].set_visible(False)\n",
    "ax.tick_params(left=False, bottom=False)\n",
    "ax.set_xlabel(\"\")\n",
    "ax.set_ylabel(\"percent\")\n",
    "ax.set_title(\"Dissatisfied Resignations by Tenure\")\n",
    "plt.show()"
   ]
  },
  {
   "cell_type": "markdown",
   "metadata": {},
   "source": [
    "Across all service durations, 38% of resignations involve job dissatisfaction. Employees with six years or fewer of service are less likely than average to cite job dissatisfaction as a reason for their resignation, newest employees being the least likely. Employees with seven years or more of service are more likely than average to depart for reasons that include job dissatisfaction.\n",
    "\n",
    "If we look at the total number of people, rather than category percentages, we see that more than half those whose reasons for resignation include job dissatisfaction, are either New or Experienced."
   ]
  },
  {
   "cell_type": "markdown",
   "metadata": {},
   "source": [
    "### Dissatisfaction by age range"
   ]
  },
  {
   "cell_type": "code",
   "execution_count": 13,
   "metadata": {
    "scrolled": true
   },
   "outputs": [
    {
     "data": {
      "text/html": [
       "<div>\n",
       "<style scoped>\n",
       "    .dataframe tbody tr th:only-of-type {\n",
       "        vertical-align: middle;\n",
       "    }\n",
       "\n",
       "    .dataframe tbody tr th {\n",
       "        vertical-align: top;\n",
       "    }\n",
       "\n",
       "    .dataframe thead th {\n",
       "        text-align: right;\n",
       "    }\n",
       "</style>\n",
       "<table border=\"1\" class=\"dataframe\">\n",
       "  <thead>\n",
       "    <tr style=\"text-align: right;\">\n",
       "      <th></th>\n",
       "      <th>percent dissatisfied</th>\n",
       "      <th>number dissatisfied</th>\n",
       "    </tr>\n",
       "    <tr>\n",
       "      <th>age</th>\n",
       "      <th></th>\n",
       "      <th></th>\n",
       "    </tr>\n",
       "  </thead>\n",
       "  <tbody>\n",
       "    <tr>\n",
       "      <th>20 or younger</th>\n",
       "      <td>20.0</td>\n",
       "      <td>2</td>\n",
       "    </tr>\n",
       "    <tr>\n",
       "      <th>21-25</th>\n",
       "      <td>30.6</td>\n",
       "      <td>19</td>\n",
       "    </tr>\n",
       "    <tr>\n",
       "      <th>26-30</th>\n",
       "      <td>41.8</td>\n",
       "      <td>28</td>\n",
       "    </tr>\n",
       "    <tr>\n",
       "      <th>31-35</th>\n",
       "      <td>37.7</td>\n",
       "      <td>23</td>\n",
       "    </tr>\n",
       "    <tr>\n",
       "      <th>36-40</th>\n",
       "      <td>34.2</td>\n",
       "      <td>25</td>\n",
       "    </tr>\n",
       "    <tr>\n",
       "      <th>41-45</th>\n",
       "      <td>37.6</td>\n",
       "      <td>35</td>\n",
       "    </tr>\n",
       "    <tr>\n",
       "      <th>46-50</th>\n",
       "      <td>38.3</td>\n",
       "      <td>31</td>\n",
       "    </tr>\n",
       "    <tr>\n",
       "      <th>51-55</th>\n",
       "      <td>42.3</td>\n",
       "      <td>30</td>\n",
       "    </tr>\n",
       "    <tr>\n",
       "      <th>56 or older</th>\n",
       "      <td>42.3</td>\n",
       "      <td>33</td>\n",
       "    </tr>\n",
       "    <tr>\n",
       "      <th>All</th>\n",
       "      <td>37.9</td>\n",
       "      <td>226</td>\n",
       "    </tr>\n",
       "  </tbody>\n",
       "</table>\n",
       "</div>"
      ],
      "text/plain": [
       "               percent dissatisfied  number dissatisfied\n",
       "age                                                     \n",
       "20 or younger                  20.0                    2\n",
       "21-25                          30.6                   19\n",
       "26-30                          41.8                   28\n",
       "31-35                          37.7                   23\n",
       "36-40                          34.2                   25\n",
       "41-45                          37.6                   35\n",
       "46-50                          38.3                   31\n",
       "51-55                          42.3                   30\n",
       "56 or older                    42.3                   33\n",
       "All                            37.9                  226"
      ]
     },
     "execution_count": 13,
     "metadata": {},
     "output_type": "execute_result"
    }
   ],
   "source": [
    "age_table = combined_updated.pivot_table('dissatisfied', index='age', aggfunc=['mean', 'sum'], margins=True)\n",
    "age_table.columns = [\"percent dissatisfied\", \"number dissatisfied\"]\n",
    "age_table['percent dissatisfied'] = age_table['percent dissatisfied'].round(3)*100\n",
    "age_table"
   ]
  },
  {
   "cell_type": "code",
   "execution_count": 14,
   "metadata": {},
   "outputs": [
    {
     "data": {
      "image/png": "[encoded data removed]",
      "text/plain": [
       "<Figure size 432x288 with 1 Axes>"
      ]
     },
     "metadata": {
      "image/png": {
       "height": 325,
       "width": 395
      },
      "needs_background": "light"
     },
     "output_type": "display_data"
    }
   ],
   "source": [
    "ax = (age_table['percent dissatisfied']*100).plot.bar(legend=False)\n",
    "ax.spines['top'].set_visible(False)\n",
    "ax.spines['left'].set_visible(False)\n",
    "ax.spines['right'].set_visible(False)\n",
    "#ax.spines['bottom'].set_visible(False)\n",
    "ax.tick_params(left=False, bottom=False)\n",
    "ax.set_xlabel(\"\")\n",
    "ax.set_ylabel(\"percent\")\n",
    "ax.set_title(\"Dissatisfied Resignations by Employee Age\")\n",
    "plt.show()"
   ]
  },
  {
   "cell_type": "markdown",
   "metadata": {},
   "source": [
    "* Across all age ranges, 38% of resignations involve some sort of job dissatisfaction.\n",
    "* The youngest employees (<=25yo)'s resignations are least likely to involve job dissatisfaction.\n",
    "* 42% of 26-30 year old employees resignations are likely to involve job dissatisfaction.\n",
    "* Employees between 31 and 50 years of age are below or near average in resigning for reasons involving job dissatisfaction.\n",
    "* Employees older than 51 years are more likely than average to resign for reasons involving job dissatisfaction."
   ]
  },
  {
   "cell_type": "markdown",
   "metadata": {},
   "source": [
    "### Dissatisfaction by Institute"
   ]
  },
  {
   "cell_type": "code",
   "execution_count": 15,
   "metadata": {},
   "outputs": [
    {
     "data": {
      "text/html": [
       "<div>\n",
       "<style scoped>\n",
       "    .dataframe tbody tr th:only-of-type {\n",
       "        vertical-align: middle;\n",
       "    }\n",
       "\n",
       "    .dataframe tbody tr th {\n",
       "        vertical-align: top;\n",
       "    }\n",
       "\n",
       "    .dataframe thead th {\n",
       "        text-align: right;\n",
       "    }\n",
       "</style>\n",
       "<table border=\"1\" class=\"dataframe\">\n",
       "  <thead>\n",
       "    <tr style=\"text-align: right;\">\n",
       "      <th></th>\n",
       "      <th>percent dissatisfied</th>\n",
       "      <th>number dissatisfied</th>\n",
       "    </tr>\n",
       "    <tr>\n",
       "      <th>institute</th>\n",
       "      <th></th>\n",
       "      <th></th>\n",
       "    </tr>\n",
       "  </thead>\n",
       "  <tbody>\n",
       "    <tr>\n",
       "      <th>DETE</th>\n",
       "      <td>47.9</td>\n",
       "      <td>149</td>\n",
       "    </tr>\n",
       "    <tr>\n",
       "      <th>TAFE</th>\n",
       "      <td>26.8</td>\n",
       "      <td>91</td>\n",
       "    </tr>\n",
       "    <tr>\n",
       "      <th>All</th>\n",
       "      <td>36.9</td>\n",
       "      <td>240</td>\n",
       "    </tr>\n",
       "  </tbody>\n",
       "</table>\n",
       "</div>"
      ],
      "text/plain": [
       "           percent dissatisfied  number dissatisfied\n",
       "institute                                           \n",
       "DETE                       47.9                  149\n",
       "TAFE                       26.8                   91\n",
       "All                        36.9                  240"
      ]
     },
     "execution_count": 15,
     "metadata": {},
     "output_type": "execute_result"
    }
   ],
   "source": [
    "institute_table = combined_updated.pivot_table('dissatisfied', index='institute', aggfunc=['mean', 'sum'], margins=True)\n",
    "institute_table.columns = [\"percent dissatisfied\", \"number dissatisfied\"]\n",
    "institute_table['percent dissatisfied'] = institute_table['percent dissatisfied'].round(3)*100\n",
    "institute_table"
   ]
  },
  {
   "cell_type": "markdown",
   "metadata": {},
   "source": [
    "Nearly one half of resignations from DETE involved job dissatisfaction, while only just over a quarter of resignations from TAFE did."
   ]
  },
  {
   "cell_type": "markdown",
   "metadata": {},
   "source": [
    "## Conclusion\n",
    "\n",
    "Resignations at DETE and TAFE exploded 100-fold after 2009 suggesting significant changes at both institutions. Unfortunately the dataset includes just three resignations from before 2010, making a detailed comparison of the two  periods impossible.\n",
    "\n",
    "Job dissatisfaction is a factor in almost 40% of resignations. It is the exclusive factor in 17% of resignations. \n",
    "\n",
    "While the % of resignations involving job dissatisfaction varies by age and tenure of the departing employee, it is a significant factor in resignations in every group. At least 30% of resigning employees cite job dissatisfaction as a reason for every duration of tenure, and also for every age group save those twenty years old or younger.\n",
    "\n",
    "The significance of job dissatisfaction in resignations varies substantially between DETE and TAFE. Efforts to reduce job dissatisfaction, and resulting resignations, should seek to understand the reasons for the difference between institutions."
   ]
  },
  {
   "cell_type": "code",
   "execution_count": null,
   "metadata": {},
   "outputs": [],
   "source": []
  }
 ],
 "metadata": {
  "kernelspec": {
   "display_name": "Python 3",
   "language": "python",
   "name": "python3"
  },
  "language_info": {
   "codemirror_mode": {
    "name": "ipython",
    "version": 3
   },
   "file_extension": ".py",
   "mimetype": "text/x-python",
   "name": "python",
   "nbconvert_exporter": "python",
   "pygments_lexer": "ipython3",
   "version": "3.8.6"
  }
 },
 "nbformat": 4,
 "nbformat_minor": 4
}
